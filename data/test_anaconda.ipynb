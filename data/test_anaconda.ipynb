{
 "cells": [
  {
   "cell_type": "markdown",
   "metadata": {},
   "source": [
    "# Verify that Anaconda is installed correctly"
   ]
  },
  {
   "cell_type": "raw",
   "metadata": {},
   "source": [
    "If all cells in this Notebook run successfully, Anaconda is installed correctly."
   ]
  },
  {
   "cell_type": "markdown",
   "metadata": {},
   "source": [
    "## Import the Pandas and Seaborn libraries"
   ]
  },
  {
   "cell_type": "code",
   "execution_count": 8,
   "metadata": {},
   "outputs": [],
   "source": [
    "import pandas as pd\n",
    "import seaborn as sns"
   ]
  },
  {
   "cell_type": "markdown",
   "metadata": {},
   "source": [
    "## Use Pandas to read a csv file and display it in a table"
   ]
  },
  {
   "cell_type": "code",
   "execution_count": 9,
   "metadata": {},
   "outputs": [],
   "source": [
    "awd_csv = pd.read_csv('nsf-awards-2024.csv')"
   ]
  },
  {
   "cell_type": "code",
   "execution_count": 10,
   "metadata": {},
   "outputs": [
    {
     "data": {
      "application/vnd.microsoft.datawrangler.viewer.v0+json": {
       "columns": [
        {
         "name": "index",
         "rawType": "int64",
         "type": "integer"
        },
        {
         "name": "awd_id",
         "rawType": "int64",
         "type": "integer"
        },
        {
         "name": "agcy_id",
         "rawType": "object",
         "type": "string"
        },
        {
         "name": "tran_type",
         "rawType": "object",
         "type": "string"
        },
        {
         "name": "awd_istr_txt",
         "rawType": "object",
         "type": "string"
        },
        {
         "name": "awd_titl_txt",
         "rawType": "object",
         "type": "string"
        },
        {
         "name": "cfda_num",
         "rawType": "object",
         "type": "string"
        },
        {
         "name": "org_code",
         "rawType": "int64",
         "type": "integer"
        },
        {
         "name": "po_phone",
         "rawType": "float64",
         "type": "float"
        },
        {
         "name": "po_email",
         "rawType": "object",
         "type": "string"
        },
        {
         "name": "po_sign_block_name",
         "rawType": "object",
         "type": "string"
        },
        {
         "name": "awd_eff_date",
         "rawType": "object",
         "type": "string"
        },
        {
         "name": "awd_exp_date",
         "rawType": "object",
         "type": "string"
        },
        {
         "name": "tot_intn_awd_amt",
         "rawType": "float64",
         "type": "float"
        },
        {
         "name": "awd_amount",
         "rawType": "float64",
         "type": "float"
        },
        {
         "name": "awd_min_amd_letter_date",
         "rawType": "object",
         "type": "string"
        },
        {
         "name": "awd_max_amd_letter_date",
         "rawType": "object",
         "type": "string"
        },
        {
         "name": "awd_arra_amount",
         "rawType": "float64",
         "type": "float"
        },
        {
         "name": "dir_abbr",
         "rawType": "object",
         "type": "string"
        },
        {
         "name": "org_dir_long_name",
         "rawType": "object",
         "type": "string"
        },
        {
         "name": "div_abbr",
         "rawType": "object",
         "type": "string"
        },
        {
         "name": "org_div_long_name",
         "rawType": "object",
         "type": "string"
        },
        {
         "name": "awd_agcy_code",
         "rawType": "int64",
         "type": "integer"
        },
        {
         "name": "fund_agcy_code",
         "rawType": "int64",
         "type": "integer"
        },
        {
         "name": "inst.inst_name",
         "rawType": "object",
         "type": "string"
        },
        {
         "name": "inst.inst_street_address",
         "rawType": "object",
         "type": "string"
        },
        {
         "name": "inst.inst_street_address_2",
         "rawType": "object",
         "type": "unknown"
        },
        {
         "name": "inst.inst_city_name",
         "rawType": "object",
         "type": "string"
        },
        {
         "name": "inst.inst_state_code",
         "rawType": "object",
         "type": "string"
        },
        {
         "name": "inst.inst_state_name",
         "rawType": "object",
         "type": "string"
        },
        {
         "name": "inst.inst_phone_num",
         "rawType": "float64",
         "type": "float"
        },
        {
         "name": "inst.inst_zip_code",
         "rawType": "object",
         "type": "string"
        },
        {
         "name": "inst.inst_country_name",
         "rawType": "object",
         "type": "string"
        },
        {
         "name": "inst.cong_dist_code",
         "rawType": "float64",
         "type": "float"
        },
        {
         "name": "inst.st_cong_dist_code",
         "rawType": "object",
         "type": "string"
        },
        {
         "name": "inst.org_lgl_bus_name",
         "rawType": "object",
         "type": "string"
        },
        {
         "name": "inst.org_prnt_uei_num",
         "rawType": "object",
         "type": "unknown"
        },
        {
         "name": "inst.org_uei_num",
         "rawType": "object",
         "type": "string"
        },
        {
         "name": "perf_inst.perf_inst_name",
         "rawType": "object",
         "type": "string"
        },
        {
         "name": "perf_inst.perf_str_addr",
         "rawType": "object",
         "type": "string"
        },
        {
         "name": "perf_inst.perf_city_name",
         "rawType": "object",
         "type": "string"
        },
        {
         "name": "perf_inst.perf_st_code",
         "rawType": "object",
         "type": "string"
        },
        {
         "name": "perf_inst.perf_st_name",
         "rawType": "object",
         "type": "string"
        },
        {
         "name": "perf_inst.perf_zip_code",
         "rawType": "object",
         "type": "string"
        },
        {
         "name": "perf_inst.perf_ctry_code",
         "rawType": "object",
         "type": "string"
        },
        {
         "name": "perf_inst.perf_cong_dist",
         "rawType": "float64",
         "type": "float"
        },
        {
         "name": "perf_inst.perf_st_cong_dist",
         "rawType": "object",
         "type": "string"
        },
        {
         "name": "perf_inst.perf_ctry_name",
         "rawType": "object",
         "type": "string"
        },
        {
         "name": "perf_inst.perf_ctry_flag",
         "rawType": "int64",
         "type": "integer"
        }
       ],
       "conversionMethod": "pd.DataFrame",
       "ref": "c8c9f883-8988-4a42-8cbb-4b5b9402ee22",
       "rows": [
        [
         "0",
         "2234889",
         "NSF",
         "Grant",
         "Standard Grant",
         "Event Description in Sign Language and Gesture",
         "47.075",
         "4040000",
         "7032927096.0",
         "widelima@nsf.gov",
         "Wilson De Lima Silva",
         "2024-07-01",
         "2027-06-30",
         "444630.0",
         "444630.0",
         "2023-08-03",
         "2023-08-03",
         "0.0",
         "SBE",
         "Directorate for Social, Behavioral and Economic Sciences",
         "BCS",
         "Division of Behavioral and Cognitive Sciences",
         "4900",
         "4900",
         "Regents of the University of Michigan - Ann Arbor",
         "1109 GEDDES AVE STE 3300",
         null,
         "ANN ARBOR",
         "MI",
         "Michigan",
         "7347636438.0",
         "481091015",
         "United States",
         "6.0",
         "MI06",
         "REGENTS OF THE UNIVERSITY OF MICHIGAN",
         null,
         "GNJ7BBP73WE9",
         "Regents of the University of Michigan - Ann Arbor",
         "503 THOMPSON ST",
         "ANN ARBOR",
         "MI",
         "Michigan",
         "481091340",
         "US",
         "6.0",
         "MI06",
         "United States",
         "1"
        ],
        [
         "1",
         "2235308",
         "NSF",
         "Grant",
         "Continuing Grant",
         "CAREER: Hydrogeologic implications of permafrost thaw - Developing a process-based understanding of biophysical controls and educational tools for rural communities",
         "47.050, 47.078",
         "6030000",
         "7032922648.0",
         "heali@nsf.gov",
         "Hendratta Ali",
         "2024-01-15",
         "2028-12-31",
         "499727.0",
         "301933.0",
         "2023-01-15",
         "2023-01-15",
         "0.0",
         "GEO",
         "Directorate for Geosciences",
         "EAR",
         "Division Of Earth Sciences",
         "4900",
         "4900",
         "Appalachian State University",
         "438 ACADEMY ST",
         null,
         "BOONE",
         "NC",
         "North Carolina",
         "8282627459.0",
         "286080001",
         "United States",
         "5.0",
         "NC05",
         "APPALACHIAN STATE UNIVERSITY",
         null,
         "F1NAKY5L1425",
         "Appalachian State University",
         "438 ACADEMY ST",
         "BOONE",
         "NC",
         "North Carolina",
         "28607",
         "US",
         "5.0",
         "NC05",
         "United States",
         "1"
        ],
        [
         "2",
         "2240045",
         "NSF",
         "Grant",
         "Continuing Grant",
         "CAREER: Microbial control of intestinal organoids development and function",
         "47.041",
         "7020000",
         "7032927354.0",
         "gmahler@nsf.gov",
         "Gretchen Mahler",
         "2024-01-15",
         "2028-12-31",
         "549995.0",
         "439996.0",
         "2023-08-04",
         "2023-08-04",
         "0.0",
         "ENG",
         "Directorate for Engineering",
         "CBET",
         "Division of Chemical, Bioengineering, Environmental, and Transport Systems",
         "4900",
         "4900",
         "Illinois Institute of Technology",
         "10 W 35TH ST",
         null,
         "CHICAGO",
         "IL",
         "Illinois",
         "3125673035.0",
         "606163717",
         "United States",
         "1.0",
         "IL01",
         "ILLINOIS INSTITUTE OF TECHNOLOGY",
         null,
         "E2NDENMDUEG8",
         "Illinois Institute of Technology",
         "10 W 35TH ST",
         "CHICAGO",
         "IL",
         "Illinois",
         "606163717",
         "US",
         "1.0",
         "IL01",
         "United States",
         "1"
        ],
        [
         "3",
         "2242365",
         "NSF",
         "Grant",
         "Standard Grant",
         "Collaborative Research: The role of temporally varying specific storage on confined aquifer dynamics",
         "47.050",
         "6030000",
         "7032922648.0",
         "heali@nsf.gov",
         "Hendratta Ali",
         "2024-01-15",
         "2026-12-31",
         "328981.0",
         "328981.0",
         "2023-07-13",
         "2023-07-13",
         "0.0",
         "GEO",
         "Directorate for Geosciences",
         "EAR",
         "Division Of Earth Sciences",
         "4900",
         "4900",
         "Colorado State University",
         "601 S HOWES ST",
         null,
         "FORT COLLINS",
         "CO",
         "Colorado",
         "9704916355.0",
         "805212807",
         "United States",
         "2.0",
         "CO02",
         "COLORADO STATE UNIVERSITY",
         null,
         "LT9CXX8L19G1",
         "Colorado State University",
         "601 S HOWES ST",
         "FORT COLLINS",
         "CO",
         "Colorado",
         "805212807",
         "US",
         "2.0",
         "CO02",
         "United States",
         "1"
        ],
        [
         "4",
         "2242366",
         "NSF",
         "Grant",
         "Standard Grant",
         "Collaborative Research: The role of temporally varying specific storage on confined aquifer dynamics",
         "47.050",
         "6030000",
         "7032922648.0",
         "heali@nsf.gov",
         "Hendratta Ali",
         "2024-01-15",
         "2026-12-31",
         "56448.0",
         "56448.0",
         "2023-07-13",
         "2023-07-13",
         "0.0",
         "GEO",
         "Directorate for Geosciences",
         "EAR",
         "Division Of Earth Sciences",
         "4900",
         "4900",
         "Southern Utah University",
         "351 W UNIVERSITY BLVD",
         null,
         "CEDAR CITY",
         "UT",
         "Utah",
         "4358658175.0",
         "847202415",
         "United States",
         "2.0",
         "UT02",
         "SOUTHERN UTAH UNIVERSITY",
         "SQG4D55W9LV4",
         "C8WLYVK4EYL1",
         "Southern Utah University",
         "351 W UNIVERSITY BLVD",
         "CEDAR CITY",
         "UT",
         "Utah",
         "847202470",
         "US",
         "2.0",
         "UT02",
         "United States",
         "1"
        ]
       ],
       "shape": {
        "columns": 48,
        "rows": 5
       }
      },
      "text/html": [
       "<div>\n",
       "<style scoped>\n",
       "    .dataframe tbody tr th:only-of-type {\n",
       "        vertical-align: middle;\n",
       "    }\n",
       "\n",
       "    .dataframe tbody tr th {\n",
       "        vertical-align: top;\n",
       "    }\n",
       "\n",
       "    .dataframe thead th {\n",
       "        text-align: right;\n",
       "    }\n",
       "</style>\n",
       "<table border=\"1\" class=\"dataframe\">\n",
       "  <thead>\n",
       "    <tr style=\"text-align: right;\">\n",
       "      <th></th>\n",
       "      <th>awd_id</th>\n",
       "      <th>agcy_id</th>\n",
       "      <th>tran_type</th>\n",
       "      <th>awd_istr_txt</th>\n",
       "      <th>awd_titl_txt</th>\n",
       "      <th>cfda_num</th>\n",
       "      <th>org_code</th>\n",
       "      <th>po_phone</th>\n",
       "      <th>po_email</th>\n",
       "      <th>po_sign_block_name</th>\n",
       "      <th>...</th>\n",
       "      <th>perf_inst.perf_str_addr</th>\n",
       "      <th>perf_inst.perf_city_name</th>\n",
       "      <th>perf_inst.perf_st_code</th>\n",
       "      <th>perf_inst.perf_st_name</th>\n",
       "      <th>perf_inst.perf_zip_code</th>\n",
       "      <th>perf_inst.perf_ctry_code</th>\n",
       "      <th>perf_inst.perf_cong_dist</th>\n",
       "      <th>perf_inst.perf_st_cong_dist</th>\n",
       "      <th>perf_inst.perf_ctry_name</th>\n",
       "      <th>perf_inst.perf_ctry_flag</th>\n",
       "    </tr>\n",
       "  </thead>\n",
       "  <tbody>\n",
       "    <tr>\n",
       "      <th>0</th>\n",
       "      <td>2234889</td>\n",
       "      <td>NSF</td>\n",
       "      <td>Grant</td>\n",
       "      <td>Standard Grant</td>\n",
       "      <td>Event Description in Sign Language and Gesture</td>\n",
       "      <td>47.075</td>\n",
       "      <td>4040000</td>\n",
       "      <td>7.032927e+09</td>\n",
       "      <td>widelima@nsf.gov</td>\n",
       "      <td>Wilson De Lima Silva</td>\n",
       "      <td>...</td>\n",
       "      <td>503 THOMPSON ST</td>\n",
       "      <td>ANN ARBOR</td>\n",
       "      <td>MI</td>\n",
       "      <td>Michigan</td>\n",
       "      <td>481091340</td>\n",
       "      <td>US</td>\n",
       "      <td>6.0</td>\n",
       "      <td>MI06</td>\n",
       "      <td>United States</td>\n",
       "      <td>1</td>\n",
       "    </tr>\n",
       "    <tr>\n",
       "      <th>1</th>\n",
       "      <td>2235308</td>\n",
       "      <td>NSF</td>\n",
       "      <td>Grant</td>\n",
       "      <td>Continuing Grant</td>\n",
       "      <td>CAREER: Hydrogeologic implications of permafro...</td>\n",
       "      <td>47.050, 47.078</td>\n",
       "      <td>6030000</td>\n",
       "      <td>7.032923e+09</td>\n",
       "      <td>heali@nsf.gov</td>\n",
       "      <td>Hendratta Ali</td>\n",
       "      <td>...</td>\n",
       "      <td>438 ACADEMY ST</td>\n",
       "      <td>BOONE</td>\n",
       "      <td>NC</td>\n",
       "      <td>North Carolina</td>\n",
       "      <td>28607</td>\n",
       "      <td>US</td>\n",
       "      <td>5.0</td>\n",
       "      <td>NC05</td>\n",
       "      <td>United States</td>\n",
       "      <td>1</td>\n",
       "    </tr>\n",
       "    <tr>\n",
       "      <th>2</th>\n",
       "      <td>2240045</td>\n",
       "      <td>NSF</td>\n",
       "      <td>Grant</td>\n",
       "      <td>Continuing Grant</td>\n",
       "      <td>CAREER: Microbial control of intestinal organo...</td>\n",
       "      <td>47.041</td>\n",
       "      <td>7020000</td>\n",
       "      <td>7.032927e+09</td>\n",
       "      <td>gmahler@nsf.gov</td>\n",
       "      <td>Gretchen Mahler</td>\n",
       "      <td>...</td>\n",
       "      <td>10 W 35TH ST</td>\n",
       "      <td>CHICAGO</td>\n",
       "      <td>IL</td>\n",
       "      <td>Illinois</td>\n",
       "      <td>606163717</td>\n",
       "      <td>US</td>\n",
       "      <td>1.0</td>\n",
       "      <td>IL01</td>\n",
       "      <td>United States</td>\n",
       "      <td>1</td>\n",
       "    </tr>\n",
       "    <tr>\n",
       "      <th>3</th>\n",
       "      <td>2242365</td>\n",
       "      <td>NSF</td>\n",
       "      <td>Grant</td>\n",
       "      <td>Standard Grant</td>\n",
       "      <td>Collaborative Research: The role of temporally...</td>\n",
       "      <td>47.050</td>\n",
       "      <td>6030000</td>\n",
       "      <td>7.032923e+09</td>\n",
       "      <td>heali@nsf.gov</td>\n",
       "      <td>Hendratta Ali</td>\n",
       "      <td>...</td>\n",
       "      <td>601 S HOWES ST</td>\n",
       "      <td>FORT COLLINS</td>\n",
       "      <td>CO</td>\n",
       "      <td>Colorado</td>\n",
       "      <td>805212807</td>\n",
       "      <td>US</td>\n",
       "      <td>2.0</td>\n",
       "      <td>CO02</td>\n",
       "      <td>United States</td>\n",
       "      <td>1</td>\n",
       "    </tr>\n",
       "    <tr>\n",
       "      <th>4</th>\n",
       "      <td>2242366</td>\n",
       "      <td>NSF</td>\n",
       "      <td>Grant</td>\n",
       "      <td>Standard Grant</td>\n",
       "      <td>Collaborative Research: The role of temporally...</td>\n",
       "      <td>47.050</td>\n",
       "      <td>6030000</td>\n",
       "      <td>7.032923e+09</td>\n",
       "      <td>heali@nsf.gov</td>\n",
       "      <td>Hendratta Ali</td>\n",
       "      <td>...</td>\n",
       "      <td>351 W UNIVERSITY BLVD</td>\n",
       "      <td>CEDAR CITY</td>\n",
       "      <td>UT</td>\n",
       "      <td>Utah</td>\n",
       "      <td>847202470</td>\n",
       "      <td>US</td>\n",
       "      <td>2.0</td>\n",
       "      <td>UT02</td>\n",
       "      <td>United States</td>\n",
       "      <td>1</td>\n",
       "    </tr>\n",
       "  </tbody>\n",
       "</table>\n",
       "<p>5 rows × 48 columns</p>\n",
       "</div>"
      ],
      "text/plain": [
       "    awd_id agcy_id tran_type      awd_istr_txt  \\\n",
       "0  2234889     NSF     Grant    Standard Grant   \n",
       "1  2235308     NSF     Grant  Continuing Grant   \n",
       "2  2240045     NSF     Grant  Continuing Grant   \n",
       "3  2242365     NSF     Grant    Standard Grant   \n",
       "4  2242366     NSF     Grant    Standard Grant   \n",
       "\n",
       "                                        awd_titl_txt        cfda_num  \\\n",
       "0     Event Description in Sign Language and Gesture          47.075   \n",
       "1  CAREER: Hydrogeologic implications of permafro...  47.050, 47.078   \n",
       "2  CAREER: Microbial control of intestinal organo...          47.041   \n",
       "3  Collaborative Research: The role of temporally...          47.050   \n",
       "4  Collaborative Research: The role of temporally...          47.050   \n",
       "\n",
       "   org_code      po_phone          po_email    po_sign_block_name  ...  \\\n",
       "0   4040000  7.032927e+09  widelima@nsf.gov  Wilson De Lima Silva  ...   \n",
       "1   6030000  7.032923e+09     heali@nsf.gov         Hendratta Ali  ...   \n",
       "2   7020000  7.032927e+09   gmahler@nsf.gov       Gretchen Mahler  ...   \n",
       "3   6030000  7.032923e+09     heali@nsf.gov         Hendratta Ali  ...   \n",
       "4   6030000  7.032923e+09     heali@nsf.gov         Hendratta Ali  ...   \n",
       "\n",
       "  perf_inst.perf_str_addr perf_inst.perf_city_name  perf_inst.perf_st_code  \\\n",
       "0         503 THOMPSON ST                ANN ARBOR                      MI   \n",
       "1          438 ACADEMY ST                    BOONE                      NC   \n",
       "2            10 W 35TH ST                  CHICAGO                      IL   \n",
       "3          601 S HOWES ST             FORT COLLINS                      CO   \n",
       "4   351 W UNIVERSITY BLVD               CEDAR CITY                      UT   \n",
       "\n",
       "   perf_inst.perf_st_name perf_inst.perf_zip_code perf_inst.perf_ctry_code  \\\n",
       "0                Michigan               481091340                       US   \n",
       "1          North Carolina                   28607                       US   \n",
       "2                Illinois               606163717                       US   \n",
       "3                Colorado               805212807                       US   \n",
       "4                    Utah               847202470                       US   \n",
       "\n",
       "   perf_inst.perf_cong_dist perf_inst.perf_st_cong_dist  \\\n",
       "0                       6.0                        MI06   \n",
       "1                       5.0                        NC05   \n",
       "2                       1.0                        IL01   \n",
       "3                       2.0                        CO02   \n",
       "4                       2.0                        UT02   \n",
       "\n",
       "  perf_inst.perf_ctry_name perf_inst.perf_ctry_flag  \n",
       "0            United States                        1  \n",
       "1            United States                        1  \n",
       "2            United States                        1  \n",
       "3            United States                        1  \n",
       "4            United States                        1  \n",
       "\n",
       "[5 rows x 48 columns]"
      ]
     },
     "execution_count": 10,
     "metadata": {},
     "output_type": "execute_result"
    }
   ],
   "source": [
    "awd_csv.head()"
   ]
  },
  {
   "cell_type": "markdown",
   "metadata": {},
   "source": [
    "## Use Seaborn to plot the award data"
   ]
  },
  {
   "cell_type": "code",
   "execution_count": 11,
   "metadata": {},
   "outputs": [
    {
     "name": "stderr",
     "output_type": "stream",
     "text": [
      "c:\\ProgramData\\anaconda3\\Lib\\site-packages\\seaborn\\_oldcore.py:1119: FutureWarning: use_inf_as_na option is deprecated and will be removed in a future version. Convert inf values to NaN before operating instead.\n",
      "  with pd.option_context('mode.use_inf_as_na', True):\n",
      "c:\\ProgramData\\anaconda3\\Lib\\site-packages\\seaborn\\_oldcore.py:1119: FutureWarning: use_inf_as_na option is deprecated and will be removed in a future version. Convert inf values to NaN before operating instead.\n",
      "  with pd.option_context('mode.use_inf_as_na', True):\n"
     ]
    },
    {
     "data": {
      "text/plain": [
       "<seaborn.axisgrid.FacetGrid at 0x1cc2ce55d90>"
      ]
     },
     "execution_count": 11,
     "metadata": {},
     "output_type": "execute_result"
    },
    {
     "data": {
      "image/png": "[encoded data removed]",
      "text/plain": [
       "<Figure size 588.25x500 with 1 Axes>"
      ]
     },
     "metadata": {},
     "output_type": "display_data"
    }
   ],
   "source": [
    "sns.relplot(data=awd_csv, kind='line',\n",
    "            x='awd_eff_date', y='awd_amount', hue='div_abbr')"
   ]
  }
 ],
 "metadata": {
  "kernelspec": {
   "display_name": "base",
   "language": "python",
   "name": "python3"
  },
  "language_info": {
   "codemirror_mode": {
    "name": "ipython",
    "version": 3
   },
   "file_extension": ".py",
   "mimetype": "text/x-python",
   "name": "python",
   "nbconvert_exporter": "python",
   "pygments_lexer": "ipython3",
   "version": "3.11.7"
  }
 },
 "nbformat": 4,
 "nbformat_minor": 4
}
