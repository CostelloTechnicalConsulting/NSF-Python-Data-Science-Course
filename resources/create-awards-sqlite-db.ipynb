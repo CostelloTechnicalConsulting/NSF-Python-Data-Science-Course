{
 "cells": [
  {
   "cell_type": "markdown",
   "id": "e904a7de",
   "metadata": {},
   "source": [
    "# Generate a SQLite database from existing dataframes"
   ]
  },
  {
   "cell_type": "code",
   "execution_count": 2,
   "id": "951b8896",
   "metadata": {},
   "outputs": [],
   "source": [
    "import pandas as pd\n",
    "import sqlite3\n",
    "\n",
    "data_dir = '../data'\n",
    "db_name = f'{data_dir}/nsf_awards.db'"
   ]
  },
  {
   "cell_type": "code",
   "execution_count": 5,
   "id": "69039fd7",
   "metadata": {},
   "outputs": [],
   "source": [
    "def run_query(db,query):\n",
    "    with sqlite3.connect(db) as conn:\n",
    "        df = pd.read_sql_query(query, conn)\n",
    "    return df"
   ]
  },
  {
   "cell_type": "code",
   "execution_count": 2,
   "id": "cb1231c2",
   "metadata": {},
   "outputs": [],
   "source": [
    "# Read in pickle files\n",
    "# Main tables\n",
    "awards_df = pd.read_pickle('awards_df.pkl')\n",
    "pi_df = pd.read_pickle('pi_df.pkl')\n",
    "pgm_ele_df = pd.read_pickle('pgm_ele_df.pkl')\n",
    "pgm_ref_df = pd.read_pickle('pgm_ref_df.pkl')\n",
    "app_fund_df = pd.read_pickle('app_fund_df.pkl')\n",
    "oblg_fy_df = pd.read_pickle('oblg_fy_df.pkl')\n",
    "\n",
    "# Bridge tables\n",
    "awd_pi_df = pd.read_pickle('awd_pi_df.pkl')\n",
    "awd_pgm_ele_df = pd.read_pickle('awd_pgm_ele_df.pkl')\n",
    "awd_pgm_ref_df = pd.read_pickle('awd_pgm_ref_df.pkl')"
   ]
  },
  {
   "cell_type": "code",
   "execution_count": 3,
   "id": "8b195aa9",
   "metadata": {},
   "outputs": [],
   "source": [
    "# Write all of the dataframes to a SQLite database\n",
    "\n",
    "with sqlite3.connect(db_name) as conn:\n",
    "    awards_df.to_sql('awards', conn, if_exists='replace', index=False)\n",
    "    pi_df.to_sql('pi', conn, if_exists='replace', index=False)\n",
    "    pgm_ele_df.to_sql('pgm_ele', conn, if_exists='replace', index=False)\n",
    "    pgm_ref_df.to_sql('pgm_ref', conn, if_exists='replace', index=False)\n",
    "    app_fund_df.to_sql('app_fund', conn, if_exists='replace', index=False)\n",
    "    oblg_fy_df.to_sql('oblg_fy', conn, if_exists='replace', index=False)\n",
    "\n",
    "    awd_pi_df.to_sql('awd_pi', conn, if_exists='replace', index=False)\n",
    "    awd_pgm_ele_df.to_sql('awd_pgm_ele', conn, if_exists='replace', index=False)\n",
    "    awd_pgm_ref_df.to_sql('awd_pgm_ref', conn, if_exists='replace', index=False)"
   ]
  },
  {
   "cell_type": "code",
   "execution_count": 3,
   "id": "9d1a60c2",
   "metadata": {},
   "outputs": [
    {
     "name": "stdout",
     "output_type": "stream",
     "text": [
      "          name\n",
      "0       awards\n",
      "1           pi\n",
      "2      pgm_ele\n",
      "3      pgm_ref\n",
      "4     app_fund\n",
      "5      oblg_fy\n",
      "6       awd_pi\n",
      "7  awd_pgm_ele\n",
      "8  awd_pgm_ref\n",
      "    awd_id agcy_id   tran_type           awd_istr_txt  \\\n",
      "0  0415302     NSF  CoopAgrmnt  Cooperative Agreement   \n",
      "1  0731599     NSF       Grant         Standard Grant   \n",
      "2  0804541     NSF       Grant         Standard Grant   \n",
      "3  0805878     NSF       Grant         Standard Grant   \n",
      "4  0805989     NSF       Grant         Standard Grant   \n",
      "\n",
      "                                        awd_titl_txt cfda_num  org_code  \\\n",
      "0  Advanced Technology Solar Telescope (ATST) Con...   47.049  03020000   \n",
      "1  Individual - Nomination for Presidential Award...   47.076  11040300   \n",
      "2  The Geometric Background of biHamiltonian Systems   47.049  03040000   \n",
      "3  The Semiclassical Limit and Geometric Quantiza...   47.049  03040000   \n",
      "4  Application of methods of arithmetic geometry ...   47.049  03040000   \n",
      "\n",
      "     po_phone        po_email po_sign_block_name  ...  \\\n",
      "0        None                      David Boboltz  ...   \n",
      "1  7032927772  mjames@nsf.gov       Martha James  ...   \n",
      "2        None                  Christopher Stark  ...   \n",
      "3        None                  Christopher Stark  ...   \n",
      "4        None                  Christopher Stark  ...   \n",
      "\n",
      "         perf_inst.perf_str_addr perf_inst.perf_city_name  \\\n",
      "0               950 N CHERRY AVE                   TUCSON   \n",
      "1          1111 FRANKLIN ST FL 8                  OAKLAND   \n",
      "2          21 N PARK ST STE 6301                  MADISON   \n",
      "3       1109 GEDDES AVE STE 3300                ANN ARBOR   \n",
      "4  1850 RESEARCH PARK DR STE 300                    DAVIS   \n",
      "\n",
      "   perf_inst.perf_st_code  perf_inst.perf_st_name perf_inst.perf_zip_code  \\\n",
      "0                      AZ                 Arizona               857194933   \n",
      "1                      CA              California               946075201   \n",
      "2                      WI               Wisconsin               537151218   \n",
      "3                      MI                Michigan               481091015   \n",
      "4                      CA              California               956186153   \n",
      "\n",
      "  perf_inst.perf_ctry_code  perf_inst.perf_cong_dist  \\\n",
      "0                       US                        07   \n",
      "1                       US                        12   \n",
      "2                       US                        02   \n",
      "3                       US                        06   \n",
      "4                       US                        04   \n",
      "\n",
      "  perf_inst.perf_st_cong_dist perf_inst.perf_ctry_name  \\\n",
      "0                        AZ07                            \n",
      "1                        CA12                            \n",
      "2                        WI02                            \n",
      "3                        MI06                            \n",
      "4                        CA04                            \n",
      "\n",
      "  perf_inst.perf_ctry_flag  \n",
      "0                        1  \n",
      "1                        1  \n",
      "2                        1  \n",
      "3                        1  \n",
      "4                        1  \n",
      "\n",
      "[5 rows x 48 columns]\n",
      "                         pi_role    pi_first_name pi_last_name pi_mid_init  \\\n",
      "0  Former Principal Investigator           Thomas      Rimmele           R   \n",
      "1  Former Principal Investigator          William        Smith           S   \n",
      "2  Former Principal Investigator          Stephen         Keil           L   \n",
      "3         Principal Investigator  Charles Mattias     Mountain               \n",
      "4      Co-Principal Investigator          Jeffrey         Kuhn           R   \n",
      "\n",
      "  pi_sufx_name              pi_full_name  \\\n",
      "0                       Thomas R Rimmele   \n",
      "1                        William S Smith   \n",
      "2                         Stephen L Keil   \n",
      "3               Charles Mattias Mountain   \n",
      "4                         Jeffrey R Kuhn   \n",
      "\n",
      "                          pi_email_addr     nsf_id pi_start_date pi_end_date  \n",
      "0                      trimmele@nso.edu  000420643    2012-03-15  2014-06-28  \n",
      "1             wsmith@aura-astronomy.org  000366920    2014-06-28  2015-05-13  \n",
      "2                         skeil@nso.edu  000094824    2010-01-15  2012-03-15  \n",
      "3  Matt.Mountain.NSF@aura-astronomy.org  000693831    2015-05-13        None  \n",
      "4                   kuhn@ifa.hawaii.edu  000328468    2010-01-15        None  \n",
      "  pgm_ele_code                    pgm_ele_name\n",
      "0       051F00    ATST - CONCEPT & DEVELOPMENT\n",
      "1       159300  PAESMEM Pres Awrds Excell Ment\n",
      "2       126500              GEOMETRIC ANALYSIS\n",
      "3       520500    ARC Rsch Support & Logistics\n",
      "4       520800   ARCTIC RESEARCH AND EDUCATION\n",
      "  pgm_ref_code                          pgm_ref_txt\n",
      "0         6890                  RECOVERY ACT ACTION\n",
      "1         OTHR          OTHER RESEARCH OR EDUCATION\n",
      "2         0000                           UNASSIGNED\n",
      "3         9178              UNDERGRADUATE EDUCATION\n",
      "4         SMET  SCIENCE, MATH, ENG & TECH EDUCATION\n"
     ]
    }
   ],
   "source": [
    "# Test the database\n",
    "with sqlite3.connect(db_name) as conn:\n",
    "    # Check the tables\n",
    "    tables = pd.read_sql_query(\"SELECT name FROM sqlite_master WHERE type='table';\", conn)\n",
    "    print(tables)\n",
    "\n",
    "    # Check the awards table\n",
    "    awards_check = pd.read_sql_query(\"SELECT * FROM awards LIMIT 5;\", conn)\n",
    "    print(awards_check)\n",
    "\n",
    "    # Check the pi table\n",
    "    pi_check = pd.read_sql_query(\"SELECT * FROM pi LIMIT 5;\", conn)\n",
    "    print(pi_check)\n",
    "\n",
    "    # Check the pgm_ele table\n",
    "    pgm_ele_check = pd.read_sql_query(\"SELECT * FROM pgm_ele LIMIT 5;\", conn)\n",
    "    print(pgm_ele_check)\n",
    "\n",
    "    # Check the pgm_ref table\n",
    "    pgm_ref_check = pd.read_sql_query(\"SELECT * FROM pgm_ref LIMIT 5;\", conn)\n",
    "    print(pgm_ref_check)\n",
    "\n"
   ]
  },
  {
   "cell_type": "code",
   "execution_count": 6,
   "id": "a0f1cf69",
   "metadata": {},
   "outputs": [
    {
     "name": "stdout",
     "output_type": "stream",
     "text": [
      "            pi_full_name  num_awards\n",
      "0           Nancy R Gray         178\n",
      "1  J. Ardie Butch Dillen          76\n",
      "2         Jerene Shaheed          60\n",
      "3              Wei Zhang          57\n",
      "4            Sajal K Das          50\n",
      "5      Terry B Appelgate          48\n",
      "6    Nicholas G Feamster          45\n",
      "7       Nicholas R Bates          42\n",
      "8     Katherine E Bailey          42\n",
      "9         Roman Lubynsky          41\n"
     ]
    }
   ],
   "source": [
    "query = \"\"\"\n",
    "SELECT p.pi_full_name, count(*) as num_awards\n",
    "FROM pi p\n",
    "JOIN awd_pi ap ON p.nsf_id = ap.nsf_id\n",
    "GROUP BY p.pi_full_name\n",
    "ORDER BY num_awards DESC;\n",
    "\"\"\"\n",
    "\n",
    "# Print the number of awards by PI\n",
    "print(run_query(db_name, query).head(10))"
   ]
  },
  {
   "cell_type": "code",
   "execution_count": 14,
   "id": "75f769cc",
   "metadata": {},
   "outputs": [
    {
     "data": {
      "application/vnd.microsoft.datawrangler.viewer.v0+json": {
       "columns": [
        {
         "name": "index",
         "rawType": "int64",
         "type": "integer"
        },
        {
         "name": "dir_abbr",
         "rawType": "object",
         "type": "string"
        },
        {
         "name": "org_dir_long_name",
         "rawType": "object",
         "type": "string"
        },
        {
         "name": "div_abbr",
         "rawType": "object",
         "type": "string"
        },
        {
         "name": "org_div_long_name",
         "rawType": "object",
         "type": "string"
        }
       ],
       "conversionMethod": "pd.DataFrame",
       "ref": "567b9248-e1e7-4a3f-bac4-4ea5f34ea102",
       "rows": [
        [
         "0",
         "BFA",
         "Office of Budget, Finance, & Award Management",
         "BFA",
         "Office of Budget, Finance, & Award Management"
        ],
        [
         "1",
         "BFA",
         "Office of Budget, Finance, & Award Management",
         "DACS",
         "Division of Acquisition & Cooperative Support"
        ],
        [
         "2",
         "BFA",
         "Office of Budget, Finance, & Award Management",
         "DFM",
         "Division of Financial Management"
        ],
        [
         "3",
         "BFA",
         "Office of Budget, Finance, & Award Management",
         "DIAS",
         "Division of Institution & Award Support"
        ],
        [
         "4",
         "BFA",
         "Office of Budget, Finance, & Award Management",
         "DOB",
         "Budget Division"
        ],
        [
         "5",
         "BFA",
         "Office of Budget, Finance, & Award Management",
         "RIO",
         "Research Infrastructure Office"
        ],
        [
         "6",
         "BIO",
         "Directorate for Biological Sciences",
         "BIO",
         "Directorate for Biological Sciences"
        ],
        [
         "7",
         "BIO",
         "Directorate for Biological Sciences",
         "DBI",
         "Division of Biological Infrastructure"
        ],
        [
         "8",
         "BIO",
         "Directorate for Biological Sciences",
         "DEB",
         "Division Of Environmental Biology"
        ],
        [
         "9",
         "BIO",
         "Directorate for Biological Sciences",
         "EF",
         "Emerging Frontiers"
        ],
        [
         "10",
         "BIO",
         "Directorate for Biological Sciences",
         "IOS",
         "Division Of Integrative Organismal Systems"
        ],
        [
         "11",
         "BIO",
         "Directorate for Biological Sciences",
         "MCB",
         "Division of Molecular and Cellular Biosciences"
        ],
        [
         "12",
         "CSE",
         "Directorate for Computer and Information Science and Engineering",
         "CCF",
         "Division of Computing and Communication Foundations"
        ],
        [
         "13",
         "CSE",
         "Directorate for Computer and Information Science and Engineering",
         "CNS",
         "Division Of Computer and Network Systems"
        ],
        [
         "14",
         "CSE",
         "Directorate for Computer and Information Science and Engineering",
         "IIS",
         "Division of Information & Intelligent Systems"
        ],
        [
         "15",
         "CSE",
         "Directorate for Computer and Information Science and Engineering",
         "ITR",
         "CISE Information Technology Research"
        ],
        [
         "16",
         "CSE",
         "Directorate for Computer and Information Science and Engineering",
         "OAC",
         "Office of Advanced Cyberinfrastructure (OAC)"
        ],
        [
         "17",
         "EDU",
         "Directorate for STEM Education",
         "DGE",
         "Division Of Graduate Education"
        ],
        [
         "18",
         "EDU",
         "Directorate for STEM Education",
         "DRL",
         "Division of Research on Learning in Formal and Informal Settings (DRL)"
        ],
        [
         "19",
         "EDU",
         "Directorate for STEM Education",
         "DUE",
         "Division Of Undergraduate Education"
        ],
        [
         "20",
         "EDU",
         "Directorate for STEM Education",
         "EDU",
         "Directorate for STEM Education"
        ],
        [
         "21",
         "EDU",
         "Directorate for STEM Education",
         "EES",
         "Div. of Equity for Excellence in STEM"
        ],
        [
         "22",
         "ENG",
         "Directorate for Engineering",
         "CBET",
         "Division of Chemical, Bioengineering, Environmental, and Transport Systems"
        ],
        [
         "23",
         "ENG",
         "Directorate for Engineering",
         "CMMI",
         "Division of Civil, Mechanical, and Manufacturing Innovation"
        ],
        [
         "24",
         "ENG",
         "Directorate for Engineering",
         "ECCS",
         "Division of Electrical, Communications and Cyber Systems"
        ],
        [
         "25",
         "ENG",
         "Directorate for Engineering",
         "EEC",
         "Division of Engineering Education and Centers"
        ],
        [
         "26",
         "ENG",
         "Directorate for Engineering",
         "EFMA",
         "Office of Emerging Frontiers in Research and Innovation (EFRI)"
        ],
        [
         "27",
         "ENG",
         "Directorate for Engineering",
         "IIP",
         "Division of Industrial Innovation and Partnerships"
        ],
        [
         "28",
         "GEO",
         "Directorate for Geosciences",
         "AGS",
         "Division of Atmospheric and Geospace Sciences"
        ],
        [
         "29",
         "GEO",
         "Directorate for Geosciences",
         "DPP",
         "Division Of Polar Progrms"
        ],
        [
         "30",
         "GEO",
         "Directorate for Geosciences",
         "EAR",
         "Division Of Earth Sciences"
        ],
        [
         "31",
         "GEO",
         "Directorate for Geosciences",
         "GEO",
         "Directorate for Geosciences"
        ],
        [
         "32",
         "GEO",
         "Directorate for Geosciences",
         "OCE",
         "Division Of Ocean Sciences"
        ],
        [
         "33",
         "GEO",
         "Directorate for Geosciences",
         "OPP",
         "Office of Polar Programs (OPP)"
        ],
        [
         "34",
         "GEO",
         "Directorate for Geosciences",
         "RISE",
         "Integrative and Collaborative Education and Research (ICER)"
        ],
        [
         "35",
         "IRM",
         "Office of Information & Resource Management",
         "DAS",
         "Division Of Administrative Services"
        ],
        [
         "36",
         "IRM",
         "Office of Information & Resource Management",
         "DIS",
         "Division Of Information Systems"
        ],
        [
         "37",
         "IRM",
         "Office of Information & Resource Management",
         "HRM",
         "Division Of Human Resource Management"
        ],
        [
         "38",
         "IRM",
         "Office of Information & Resource Management",
         "IRM",
         "Office of Information & Resource Management"
        ],
        [
         "39",
         "MPS",
         "Directorate for Mathematical and Physical Sciences",
         "AST",
         "Division Of Astronomical Sciences"
        ],
        [
         "40",
         "MPS",
         "Directorate for Mathematical and Physical Sciences",
         "CHE",
         "Division Of Chemistry"
        ],
        [
         "41",
         "MPS",
         "Directorate for Mathematical and Physical Sciences",
         "DMR",
         "Division Of Materials Research"
        ],
        [
         "42",
         "MPS",
         "Directorate for Mathematical and Physical Sciences",
         "DMS",
         "Division Of Mathematical Sciences"
        ],
        [
         "43",
         "MPS",
         "Directorate for Mathematical and Physical Sciences",
         "OSI",
         "Office of Strategic Initiatives (OSI)"
        ],
        [
         "44",
         "MPS",
         "Directorate for Mathematical and Physical Sciences",
         "PHY",
         "Division Of Physics"
        ],
        [
         "45",
         "NCO",
         "National Coordination Office",
         "NCO",
         "National Coordination Office"
        ],
        [
         "46",
         "NNCO",
         "National Nanotechnology Coordinating Office",
         "NNCO",
         "National Nanotechnology Coordinating Office"
        ],
        [
         "47",
         "NSB",
         "",
         "NSB",
         "National Science Board"
        ],
        [
         "48",
         "NSB",
         "",
         "OIG",
         "Office Of Inspector General"
        ],
        [
         "49",
         "O/D",
         "Office Of The Director",
         "CRSP",
         "Office of the Chief of Research Security Strategy and Policy (CRSP)"
        ]
       ],
       "shape": {
        "columns": 4,
        "rows": 67
       }
      },
      "text/html": [
       "<div>\n",
       "<style scoped>\n",
       "    .dataframe tbody tr th:only-of-type {\n",
       "        vertical-align: middle;\n",
       "    }\n",
       "\n",
       "    .dataframe tbody tr th {\n",
       "        vertical-align: top;\n",
       "    }\n",
       "\n",
       "    .dataframe thead th {\n",
       "        text-align: right;\n",
       "    }\n",
       "</style>\n",
       "<table border=\"1\" class=\"dataframe\">\n",
       "  <thead>\n",
       "    <tr style=\"text-align: right;\">\n",
       "      <th></th>\n",
       "      <th>dir_abbr</th>\n",
       "      <th>org_dir_long_name</th>\n",
       "      <th>div_abbr</th>\n",
       "      <th>org_div_long_name</th>\n",
       "    </tr>\n",
       "  </thead>\n",
       "  <tbody>\n",
       "    <tr>\n",
       "      <th>0</th>\n",
       "      <td>BFA</td>\n",
       "      <td>Office of Budget, Finance, &amp; Award Management</td>\n",
       "      <td>BFA</td>\n",
       "      <td>Office of Budget, Finance, &amp; Award Management</td>\n",
       "    </tr>\n",
       "    <tr>\n",
       "      <th>1</th>\n",
       "      <td>BFA</td>\n",
       "      <td>Office of Budget, Finance, &amp; Award Management</td>\n",
       "      <td>DACS</td>\n",
       "      <td>Division of Acquisition &amp; Cooperative Support</td>\n",
       "    </tr>\n",
       "    <tr>\n",
       "      <th>2</th>\n",
       "      <td>BFA</td>\n",
       "      <td>Office of Budget, Finance, &amp; Award Management</td>\n",
       "      <td>DFM</td>\n",
       "      <td>Division of Financial Management</td>\n",
       "    </tr>\n",
       "    <tr>\n",
       "      <th>3</th>\n",
       "      <td>BFA</td>\n",
       "      <td>Office of Budget, Finance, &amp; Award Management</td>\n",
       "      <td>DIAS</td>\n",
       "      <td>Division of Institution &amp; Award Support</td>\n",
       "    </tr>\n",
       "    <tr>\n",
       "      <th>4</th>\n",
       "      <td>BFA</td>\n",
       "      <td>Office of Budget, Finance, &amp; Award Management</td>\n",
       "      <td>DOB</td>\n",
       "      <td>Budget Division</td>\n",
       "    </tr>\n",
       "    <tr>\n",
       "      <th>...</th>\n",
       "      <td>...</td>\n",
       "      <td>...</td>\n",
       "      <td>...</td>\n",
       "      <td>...</td>\n",
       "    </tr>\n",
       "    <tr>\n",
       "      <th>62</th>\n",
       "      <td>SBE</td>\n",
       "      <td>Directorate for Social, Behavioral and Economi...</td>\n",
       "      <td>SES</td>\n",
       "      <td>Division of Social and Economic Sciences</td>\n",
       "    </tr>\n",
       "    <tr>\n",
       "      <th>63</th>\n",
       "      <td>SBE</td>\n",
       "      <td>Directorate for Social, Behavioral and Economi...</td>\n",
       "      <td>SMA</td>\n",
       "      <td>SBE Office of Multidisciplinary Activities</td>\n",
       "    </tr>\n",
       "    <tr>\n",
       "      <th>64</th>\n",
       "      <td>TIP</td>\n",
       "      <td>Directorate for Technology, Innovation, and Pa...</td>\n",
       "      <td>ITE</td>\n",
       "      <td>Innovation and Technology Ecosystems</td>\n",
       "    </tr>\n",
       "    <tr>\n",
       "      <th>65</th>\n",
       "      <td>TIP</td>\n",
       "      <td>Directorate for Technology, Innovation, and Pa...</td>\n",
       "      <td>TF</td>\n",
       "      <td>Technology Frontiers</td>\n",
       "    </tr>\n",
       "    <tr>\n",
       "      <th>66</th>\n",
       "      <td>TIP</td>\n",
       "      <td>Directorate for Technology, Innovation, and Pa...</td>\n",
       "      <td>TI</td>\n",
       "      <td>Translational Impacts</td>\n",
       "    </tr>\n",
       "  </tbody>\n",
       "</table>\n",
       "<p>67 rows × 4 columns</p>\n",
       "</div>"
      ],
      "text/plain": [
       "   dir_abbr                                  org_dir_long_name div_abbr  \\\n",
       "0       BFA      Office of Budget, Finance, & Award Management      BFA   \n",
       "1       BFA      Office of Budget, Finance, & Award Management     DACS   \n",
       "2       BFA      Office of Budget, Finance, & Award Management      DFM   \n",
       "3       BFA      Office of Budget, Finance, & Award Management     DIAS   \n",
       "4       BFA      Office of Budget, Finance, & Award Management      DOB   \n",
       "..      ...                                                ...      ...   \n",
       "62      SBE  Directorate for Social, Behavioral and Economi...      SES   \n",
       "63      SBE  Directorate for Social, Behavioral and Economi...      SMA   \n",
       "64      TIP  Directorate for Technology, Innovation, and Pa...      ITE   \n",
       "65      TIP  Directorate for Technology, Innovation, and Pa...       TF   \n",
       "66      TIP  Directorate for Technology, Innovation, and Pa...       TI   \n",
       "\n",
       "                                org_div_long_name  \n",
       "0   Office of Budget, Finance, & Award Management  \n",
       "1   Division of Acquisition & Cooperative Support  \n",
       "2                Division of Financial Management  \n",
       "3         Division of Institution & Award Support  \n",
       "4                                 Budget Division  \n",
       "..                                            ...  \n",
       "62       Division of Social and Economic Sciences  \n",
       "63     SBE Office of Multidisciplinary Activities  \n",
       "64           Innovation and Technology Ecosystems  \n",
       "65                           Technology Frontiers  \n",
       "66                          Translational Impacts  \n",
       "\n",
       "[67 rows x 4 columns]"
      ]
     },
     "metadata": {},
     "output_type": "display_data"
    }
   ],
   "source": [
    "query = \"\"\"\n",
    "SELECT DISTINCT \n",
    "    dir_abbr,\n",
    "    org_dir_long_name,\n",
    "    div_abbr,\n",
    "    org_div_long_name\n",
    "FROM awards\n",
    "ORDER BY dir_abbr, div_abbr;\n",
    "\"\"\"\n",
    "\n",
    "# Print the number of awards by PI\n",
    "display(run_query(db_name, query))\n",
    "# list(run_query(db_name, query).div_abbr)"
   ]
  }
 ],
 "metadata": {
  "kernelspec": {
   "display_name": "base",
   "language": "python",
   "name": "python3"
  },
  "language_info": {
   "codemirror_mode": {
    "name": "ipython",
    "version": 3
   },
   "file_extension": ".py",
   "mimetype": "text/x-python",
   "name": "python",
   "nbconvert_exporter": "python",
   "pygments_lexer": "ipython3",
   "version": "3.11.7"
  }
 },
 "nbformat": 4,
 "nbformat_minor": 5
}
