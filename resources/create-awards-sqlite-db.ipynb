{
 "cells": [
  {
   "cell_type": "markdown",
   "id": "e904a7de",
   "metadata": {},
   "source": [
    "# Generate a SQLite database from existing dataframes"
   ]
  },
  {
   "cell_type": "code",
   "execution_count": 1,
   "id": "951b8896",
   "metadata": {},
   "outputs": [],
   "source": [
    "import pandas as pd\n",
    "import sqlite3\n",
    "\n",
    "db_name = 'nsf_awards.db'"
   ]
  },
  {
   "cell_type": "code",
   "execution_count": 2,
   "id": "cb1231c2",
   "metadata": {},
   "outputs": [],
   "source": [
    "# Read in pickle files\n",
    "# Main tables\n",
    "awards_df = pd.read_pickle('awards_df.pkl')\n",
    "pi_df = pd.read_pickle('pi_df.pkl')\n",
    "pgm_ele_df = pd.read_pickle('pgm_ele_df.pkl')\n",
    "pgm_ref_df = pd.read_pickle('pgm_ref_df.pkl')\n",
    "app_fund_df = pd.read_pickle('app_fund_df.pkl')\n",
    "oblg_fy_df = pd.read_pickle('oblg_fy_df.pkl')\n",
    "\n",
    "# Bridge tables\n",
    "awd_pi_df = pd.read_pickle('awd_pi_df.pkl')\n",
    "awd_pgm_ele_df = pd.read_pickle('awd_pgm_ele_df.pkl')\n",
    "awd_pgm_ref_df = pd.read_pickle('awd_pgm_ref_df.pkl')"
   ]
  },
  {
   "cell_type": "code",
   "execution_count": 3,
   "id": "8b195aa9",
   "metadata": {},
   "outputs": [],
   "source": [
    "# Write all of the dataframes to a SQLite database\n",
    "\n",
    "with sqlite3.connect(db_name) as conn:\n",
    "    awards_df.to_sql('awards', conn, if_exists='replace', index=False)\n",
    "    pi_df.to_sql('pi', conn, if_exists='replace', index=False)\n",
    "    pgm_ele_df.to_sql('pgm_ele', conn, if_exists='replace', index=False)\n",
    "    pgm_ref_df.to_sql('pgm_ref', conn, if_exists='replace', index=False)\n",
    "    app_fund_df.to_sql('app_fund', conn, if_exists='replace', index=False)\n",
    "    oblg_fy_df.to_sql('oblg_fy', conn, if_exists='replace', index=False)\n",
    "\n",
    "    awd_pi_df.to_sql('awd_pi', conn, if_exists='replace', index=False)\n",
    "    awd_pgm_ele_df.to_sql('awd_pgm_ele', conn, if_exists='replace', index=False)\n",
    "    awd_pgm_ref_df.to_sql('awd_pgm_ref', conn, if_exists='replace', index=False)"
   ]
  },
  {
   "cell_type": "code",
   "execution_count": null,
   "id": "9d1a60c2",
   "metadata": {},
   "outputs": [],
   "source": [
    "# Test the database\n",
    "with sqlite3.connect(db_name) as conn:\n",
    "    # Check the tables\n",
    "    tables = pd.read_sql_query(\"SELECT name FROM sqlite_master WHERE type='table';\", conn)\n",
    "    print(tables)\n",
    "\n",
    "    # Check the awards table\n",
    "    awards_check = pd.read_sql_query(\"SELECT * FROM awards LIMIT 5;\", conn)\n",
    "    print(awards_check)\n",
    "\n",
    "    # Check the pi table\n",
    "    pi_check = pd.read_sql_query(\"SELECT * FROM pi LIMIT 5;\", conn)\n",
    "    print(pi_check)\n",
    "\n",
    "    # Check the pgm_ele table\n",
    "    pgm_ele_check = pd.read_sql_query(\"SELECT * FROM pgm_ele LIMIT 5;\", conn)\n",
    "    print(pgm_ele_check)\n",
    "\n",
    "    # Check the pgm_ref table\n",
    "    pgm_ref_check = pd.read_sql_query(\"SELECT * FROM pgm_ref LIMIT 5;\", conn)\n",
    "    print(pgm_ref_check)\n",
    "\n"
   ]
  },
  {
   "cell_type": "code",
   "execution_count": 9,
   "id": "a0f1cf69",
   "metadata": {},
   "outputs": [
    {
     "name": "stdout",
     "output_type": "stream",
     "text": [
      "            pi_full_name  num_awards\n",
      "0           Nancy R Gray         178\n",
      "1  J. Ardie Butch Dillen          76\n",
      "2         Jerene Shaheed          60\n",
      "3              Wei Zhang          57\n",
      "4            Sajal K Das          50\n",
      "5      Terry B Appelgate          48\n",
      "6    Nicholas G Feamster          45\n",
      "7       Nicholas R Bates          42\n",
      "8     Katherine E Bailey          42\n",
      "9         Roman Lubynsky          41\n"
     ]
    }
   ],
   "source": [
    "query = \"\"\"\n",
    "SELECT p.pi_full_name, count(*) as num_awards\n",
    "FROM pi p\n",
    "JOIN awd_pi ap ON p.nsf_id = ap.nsf_id\n",
    "GROUP BY p.pi_full_name\n",
    "ORDER BY num_awards DESC;\n",
    "\"\"\"\n",
    "\n",
    "# Retrieve the number of awards by PI\n",
    "with sqlite3.connect(db_name) as conn:\n",
    "    num_awds_by_pi_df = pd.read_sql_query(query, conn)\n",
    "\n",
    "# Print the number of awards by PI\n",
    "print(num_awds_by_pi_df.head(10))"
   ]
  },
  {
   "cell_type": "code",
   "execution_count": null,
   "id": "75f769cc",
   "metadata": {},
   "outputs": [],
   "source": []
  }
 ],
 "metadata": {
  "kernelspec": {
   "display_name": "base",
   "language": "python",
   "name": "python3"
  },
  "language_info": {
   "codemirror_mode": {
    "name": "ipython",
    "version": 3
   },
   "file_extension": ".py",
   "mimetype": "text/x-python",
   "name": "python",
   "nbconvert_exporter": "python",
   "pygments_lexer": "ipython3",
   "version": "3.11.7"
  }
 },
 "nbformat": 4,
 "nbformat_minor": 5
}
