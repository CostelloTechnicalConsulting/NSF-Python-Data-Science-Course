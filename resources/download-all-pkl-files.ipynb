{
 "cells": [
  {
   "cell_type": "markdown",
   "id": "ee4dfa10",
   "metadata": {},
   "source": [
    "# Download all .pkl files from ONLC Blob store"
   ]
  },
  {
   "cell_type": "code",
   "execution_count": null,
   "id": "8664aa0b",
   "metadata": {},
   "outputs": [],
   "source": [
    "import os\n",
    "import requests\n",
    "\n",
    "data_dir = '../data'\n",
    "pkl_dir = f'{data_dir}/pkl_files/'\n",
    "onlc_blob_url = 'https://onlcfiles.blob.core.windows.net/clientfiles/NSF/pkl_files/'\n",
    "\n",
    "pkl_files = ['app_fund_df.pkl',\n",
    " 'awards_cleaned.pkl',\n",
    " 'awards_data_2010_2025.pkl',\n",
    " 'awards_data_2010_2025_big.pkl',\n",
    " 'awards_df.pkl',\n",
    " 'awards_long.pkl',\n",
    " 'awards_summary_df.pkl',\n",
    " 'awards_summary_diryr_df.pkl',\n",
    " 'awards_summary_divyr_df.pkl',\n",
    " 'awards_wide.pkl',\n",
    " 'awd_pgm_ele_df.pkl',\n",
    " 'awd_pgm_ref_df.pkl',\n",
    " 'awd_pi_df.pkl',\n",
    " 'oblg_fy_df.pkl',\n",
    " 'pgm_ele_df.pkl',\n",
    " 'pgm_ref_df.pkl',\n",
    " 'pi_df.pkl']"
   ]
  },
  {
   "cell_type": "code",
   "execution_count": 7,
   "id": "5fb259be",
   "metadata": {},
   "outputs": [
    {
     "name": "stdout",
     "output_type": "stream",
     "text": [
      "app_fund_df.pkl already exists at ../data/pkl_files/app_fund_df.pkl\n",
      "awards_cleaned.pkl already exists at ../data/pkl_files/awards_cleaned.pkl\n",
      "awards_data_2010_2025.pkl already exists at ../data/pkl_files/awards_data_2010_2025.pkl\n",
      "awards_data_2010_2025_big.pkl already exists at ../data/pkl_files/awards_data_2010_2025_big.pkl\n",
      "awards_df.pkl already exists at ../data/pkl_files/awards_df.pkl\n",
      "awards_long.pkl already exists at ../data/pkl_files/awards_long.pkl\n",
      "awards_summary_df.pkl already exists at ../data/pkl_files/awards_summary_df.pkl\n",
      "awards_summary_diryr_df.pkl already exists at ../data/pkl_files/awards_summary_diryr_df.pkl\n",
      "awards_summary_divyr_df.pkl already exists at ../data/pkl_files/awards_summary_divyr_df.pkl\n",
      "awards_wide.pkl already exists at ../data/pkl_files/awards_wide.pkl\n",
      "awd_pgm_ele_df.pkl already exists at ../data/pkl_files/awd_pgm_ele_df.pkl\n",
      "awd_pgm_ref_df.pkl already exists at ../data/pkl_files/awd_pgm_ref_df.pkl\n",
      "awd_pi_df.pkl already exists at ../data/pkl_files/awd_pi_df.pkl\n",
      "oblg_fy_df.pkl already exists at ../data/pkl_files/oblg_fy_df.pkl\n",
      "pgm_ele_df.pkl already exists at ../data/pkl_files/pgm_ele_df.pkl\n",
      "pgm_ref_df.pkl already exists at ../data/pkl_files/pgm_ref_df.pkl\n",
      "pi_df.pkl already exists at ../data/pkl_files/pi_df.pkl\n"
     ]
    }
   ],
   "source": [
    "# For each file in the list, download it from the blob URL and save it to the local directory if it doesn't already exist\n",
    "for pkl_file in pkl_files:\n",
    "    # Construct the full URL for the file\n",
    "    url = f'{onlc_blob_url}{pkl_file}'\n",
    "    \n",
    "    # Construct the local file path\n",
    "    local_file_path = os.path.join(pkl_dir, pkl_file)\n",
    "    \n",
    "    # Check if the file already exists locally\n",
    "    if not os.path.exists(local_file_path):\n",
    "        print(f'Downloading {pkl_file}...')\n",
    "        # Send a GET request to download the file\n",
    "        response = requests.get(url)\n",
    "        \n",
    "        # Check if the request was successful (status code 200)\n",
    "        if response.status_code == 200:\n",
    "            # Write the content to a local file\n",
    "            with open(local_file_path, 'wb') as f:\n",
    "                f.write(response.content)\n",
    "            print(f'Successfully downloaded {pkl_file} to {local_file_path}')\n",
    "        else:\n",
    "            print(f'Failed to download {pkl_file}. Status code: {response.status_code}')\n",
    "    else:\n",
    "        print(f'{pkl_file} already exists at {local_file_path}')"
   ]
  }
 ],
 "metadata": {
  "kernelspec": {
   "display_name": "base",
   "language": "python",
   "name": "python3"
  },
  "language_info": {
   "codemirror_mode": {
    "name": "ipython",
    "version": 3
   },
   "file_extension": ".py",
   "mimetype": "text/x-python",
   "name": "python",
   "nbconvert_exporter": "python",
   "pygments_lexer": "ipython3",
   "version": "3.11.7"
  }
 },
 "nbformat": 4,
 "nbformat_minor": 5
}
