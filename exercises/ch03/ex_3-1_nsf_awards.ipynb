{
 "cells": [
  {
   "cell_type": "markdown",
   "metadata": {},
   "source": [
    "# Exercise 3-1: Create some plots"
   ]
  },
  {
   "cell_type": "code",
   "execution_count": 1,
   "metadata": {},
   "outputs": [],
   "source": [
    "import pandas as pd\n",
    "\n",
    "data_dir = '../../data'"
   ]
  },
  {
   "cell_type": "markdown",
   "metadata": {},
   "source": [
    "## Get the data"
   ]
  },
  {
   "cell_type": "code",
   "execution_count": 2,
   "metadata": {},
   "outputs": [
    {
     "data": {
      "application/vnd.microsoft.datawrangler.viewer.v0+json": {
       "columns": [
        {
         "name": "index",
         "rawType": "int64",
         "type": "integer"
        },
        {
         "name": "awd_year",
         "rawType": "int32",
         "type": "integer"
        },
        {
         "name": "dir_abbr",
         "rawType": "object",
         "type": "string"
        },
        {
         "name": "awd_count",
         "rawType": "int64",
         "type": "integer"
        },
        {
         "name": "sum_awd_amount",
         "rawType": "float64",
         "type": "float"
        }
       ],
       "conversionMethod": "pd.DataFrame",
       "ref": "12711a77-50bf-451c-bd75-da84ea3ac6a5",
       "rows": [
        [
         "0",
         "2008",
         "CSE",
         "3",
         "463433.0"
        ],
        [
         "1",
         "2008",
         "ENG",
         "1",
         "300000.0"
        ],
        [
         "2",
         "2008",
         "GEO",
         "1",
         "64257.0"
        ],
        [
         "3",
         "2008",
         "MPS",
         "1",
         "113753.0"
        ],
        [
         "4",
         "2008",
         "SBE",
         "3",
         "623175.0"
        ]
       ],
       "shape": {
        "columns": 4,
        "rows": 5
       }
      },
      "text/html": [
       "<div>\n",
       "<style scoped>\n",
       "    .dataframe tbody tr th:only-of-type {\n",
       "        vertical-align: middle;\n",
       "    }\n",
       "\n",
       "    .dataframe tbody tr th {\n",
       "        vertical-align: top;\n",
       "    }\n",
       "\n",
       "    .dataframe thead th {\n",
       "        text-align: right;\n",
       "    }\n",
       "</style>\n",
       "<table border=\"1\" class=\"dataframe\">\n",
       "  <thead>\n",
       "    <tr style=\"text-align: right;\">\n",
       "      <th></th>\n",
       "      <th>awd_year</th>\n",
       "      <th>dir_abbr</th>\n",
       "      <th>awd_count</th>\n",
       "      <th>sum_awd_amount</th>\n",
       "    </tr>\n",
       "  </thead>\n",
       "  <tbody>\n",
       "    <tr>\n",
       "      <th>0</th>\n",
       "      <td>2008</td>\n",
       "      <td>CSE</td>\n",
       "      <td>3</td>\n",
       "      <td>463433.0</td>\n",
       "    </tr>\n",
       "    <tr>\n",
       "      <th>1</th>\n",
       "      <td>2008</td>\n",
       "      <td>ENG</td>\n",
       "      <td>1</td>\n",
       "      <td>300000.0</td>\n",
       "    </tr>\n",
       "    <tr>\n",
       "      <th>2</th>\n",
       "      <td>2008</td>\n",
       "      <td>GEO</td>\n",
       "      <td>1</td>\n",
       "      <td>64257.0</td>\n",
       "    </tr>\n",
       "    <tr>\n",
       "      <th>3</th>\n",
       "      <td>2008</td>\n",
       "      <td>MPS</td>\n",
       "      <td>1</td>\n",
       "      <td>113753.0</td>\n",
       "    </tr>\n",
       "    <tr>\n",
       "      <th>4</th>\n",
       "      <td>2008</td>\n",
       "      <td>SBE</td>\n",
       "      <td>3</td>\n",
       "      <td>623175.0</td>\n",
       "    </tr>\n",
       "  </tbody>\n",
       "</table>\n",
       "</div>"
      ],
      "text/plain": [
       "   awd_year dir_abbr  awd_count  sum_awd_amount\n",
       "0      2008      CSE          3        463433.0\n",
       "1      2008      ENG          1        300000.0\n",
       "2      2008      GEO          1         64257.0\n",
       "3      2008      MPS          1        113753.0\n",
       "4      2008      SBE          3        623175.0"
      ]
     },
     "execution_count": 2,
     "metadata": {},
     "output_type": "execute_result"
    }
   ],
   "source": [
    "awards_summary_df = pd.read_pickle(f'{data_dir}/pkl_files/awards_summary_diryr_df.pkl')\n",
    "awards_summary_df.head()"
   ]
  },
  {
   "cell_type": "code",
   "execution_count": 3,
   "metadata": {},
   "outputs": [
    {
     "data": {
      "application/vnd.microsoft.datawrangler.viewer.v0+json": {
       "columns": [
        {
         "name": "awd_year",
         "rawType": "int32",
         "type": "integer"
        },
        {
         "name": "BFA",
         "rawType": "float64",
         "type": "float"
        },
        {
         "name": "BIO",
         "rawType": "float64",
         "type": "float"
        },
        {
         "name": "CSE",
         "rawType": "float64",
         "type": "float"
        },
        {
         "name": "EDU",
         "rawType": "float64",
         "type": "float"
        },
        {
         "name": "ENG",
         "rawType": "float64",
         "type": "float"
        },
        {
         "name": "GEO",
         "rawType": "float64",
         "type": "float"
        },
        {
         "name": "IRM",
         "rawType": "float64",
         "type": "float"
        },
        {
         "name": "MPS",
         "rawType": "float64",
         "type": "float"
        },
        {
         "name": "NCO",
         "rawType": "float64",
         "type": "float"
        },
        {
         "name": "NNCO",
         "rawType": "float64",
         "type": "float"
        },
        {
         "name": "NSB",
         "rawType": "float64",
         "type": "float"
        },
        {
         "name": "O/D",
         "rawType": "float64",
         "type": "float"
        },
        {
         "name": "OCIO",
         "rawType": "float64",
         "type": "float"
        },
        {
         "name": "OPP",
         "rawType": "float64",
         "type": "float"
        },
        {
         "name": "SBE",
         "rawType": "float64",
         "type": "float"
        },
        {
         "name": "TIP",
         "rawType": "float64",
         "type": "float"
        }
       ],
       "conversionMethod": "pd.DataFrame",
       "ref": "76c9c42c-1dff-47c0-9651-dad7892b306c",
       "rows": [
        [
         "2008",
         null,
         null,
         "3.0",
         null,
         "1.0",
         "1.0",
         null,
         "1.0",
         null,
         null,
         null,
         null,
         null,
         null,
         "3.0",
         null
        ],
        [
         "2009",
         null,
         "81.0",
         "56.0",
         "29.0",
         "65.0",
         "59.0",
         "2.0",
         "112.0",
         null,
         null,
         null,
         "3.0",
         null,
         null,
         "38.0",
         "1.0"
        ],
        [
         "2010",
         "12.0",
         "1535.0",
         "1789.0",
         "1139.0",
         "1777.0",
         "2027.0",
         "12.0",
         "2771.0",
         null,
         null,
         "1.0",
         "497.0",
         null,
         null,
         "1308.0",
         "615.0"
        ],
        [
         "2011",
         "5.0",
         "1433.0",
         "1598.0",
         "1023.0",
         "1726.0",
         "1770.0",
         "8.0",
         "2434.0",
         null,
         null,
         "7.0",
         "418.0",
         null,
         null,
         "1048.0",
         "482.0"
        ],
        [
         "2012",
         "5.0",
         "1323.0",
         "1810.0",
         "1052.0",
         "1788.0",
         "1732.0",
         "7.0",
         "2653.0",
         null,
         null,
         "10.0",
         "355.0",
         null,
         null,
         "1061.0",
         "510.0"
        ]
       ],
       "shape": {
        "columns": 16,
        "rows": 5
       }
      },
      "text/html": [
       "<div>\n",
       "<style scoped>\n",
       "    .dataframe tbody tr th:only-of-type {\n",
       "        vertical-align: middle;\n",
       "    }\n",
       "\n",
       "    .dataframe tbody tr th {\n",
       "        vertical-align: top;\n",
       "    }\n",
       "\n",
       "    .dataframe thead th {\n",
       "        text-align: right;\n",
       "    }\n",
       "</style>\n",
       "<table border=\"1\" class=\"dataframe\">\n",
       "  <thead>\n",
       "    <tr style=\"text-align: right;\">\n",
       "      <th>dir_abbr</th>\n",
       "      <th>BFA</th>\n",
       "      <th>BIO</th>\n",
       "      <th>CSE</th>\n",
       "      <th>EDU</th>\n",
       "      <th>ENG</th>\n",
       "      <th>GEO</th>\n",
       "      <th>IRM</th>\n",
       "      <th>MPS</th>\n",
       "      <th>NCO</th>\n",
       "      <th>NNCO</th>\n",
       "      <th>NSB</th>\n",
       "      <th>O/D</th>\n",
       "      <th>OCIO</th>\n",
       "      <th>OPP</th>\n",
       "      <th>SBE</th>\n",
       "      <th>TIP</th>\n",
       "    </tr>\n",
       "    <tr>\n",
       "      <th>awd_year</th>\n",
       "      <th></th>\n",
       "      <th></th>\n",
       "      <th></th>\n",
       "      <th></th>\n",
       "      <th></th>\n",
       "      <th></th>\n",
       "      <th></th>\n",
       "      <th></th>\n",
       "      <th></th>\n",
       "      <th></th>\n",
       "      <th></th>\n",
       "      <th></th>\n",
       "      <th></th>\n",
       "      <th></th>\n",
       "      <th></th>\n",
       "      <th></th>\n",
       "    </tr>\n",
       "  </thead>\n",
       "  <tbody>\n",
       "    <tr>\n",
       "      <th>2008</th>\n",
       "      <td>NaN</td>\n",
       "      <td>NaN</td>\n",
       "      <td>3.0</td>\n",
       "      <td>NaN</td>\n",
       "      <td>1.0</td>\n",
       "      <td>1.0</td>\n",
       "      <td>NaN</td>\n",
       "      <td>1.0</td>\n",
       "      <td>NaN</td>\n",
       "      <td>NaN</td>\n",
       "      <td>NaN</td>\n",
       "      <td>NaN</td>\n",
       "      <td>NaN</td>\n",
       "      <td>NaN</td>\n",
       "      <td>3.0</td>\n",
       "      <td>NaN</td>\n",
       "    </tr>\n",
       "    <tr>\n",
       "      <th>2009</th>\n",
       "      <td>NaN</td>\n",
       "      <td>81.0</td>\n",
       "      <td>56.0</td>\n",
       "      <td>29.0</td>\n",
       "      <td>65.0</td>\n",
       "      <td>59.0</td>\n",
       "      <td>2.0</td>\n",
       "      <td>112.0</td>\n",
       "      <td>NaN</td>\n",
       "      <td>NaN</td>\n",
       "      <td>NaN</td>\n",
       "      <td>3.0</td>\n",
       "      <td>NaN</td>\n",
       "      <td>NaN</td>\n",
       "      <td>38.0</td>\n",
       "      <td>1.0</td>\n",
       "    </tr>\n",
       "    <tr>\n",
       "      <th>2010</th>\n",
       "      <td>12.0</td>\n",
       "      <td>1535.0</td>\n",
       "      <td>1789.0</td>\n",
       "      <td>1139.0</td>\n",
       "      <td>1777.0</td>\n",
       "      <td>2027.0</td>\n",
       "      <td>12.0</td>\n",
       "      <td>2771.0</td>\n",
       "      <td>NaN</td>\n",
       "      <td>NaN</td>\n",
       "      <td>1.0</td>\n",
       "      <td>497.0</td>\n",
       "      <td>NaN</td>\n",
       "      <td>NaN</td>\n",
       "      <td>1308.0</td>\n",
       "      <td>615.0</td>\n",
       "    </tr>\n",
       "    <tr>\n",
       "      <th>2011</th>\n",
       "      <td>5.0</td>\n",
       "      <td>1433.0</td>\n",
       "      <td>1598.0</td>\n",
       "      <td>1023.0</td>\n",
       "      <td>1726.0</td>\n",
       "      <td>1770.0</td>\n",
       "      <td>8.0</td>\n",
       "      <td>2434.0</td>\n",
       "      <td>NaN</td>\n",
       "      <td>NaN</td>\n",
       "      <td>7.0</td>\n",
       "      <td>418.0</td>\n",
       "      <td>NaN</td>\n",
       "      <td>NaN</td>\n",
       "      <td>1048.0</td>\n",
       "      <td>482.0</td>\n",
       "    </tr>\n",
       "    <tr>\n",
       "      <th>2012</th>\n",
       "      <td>5.0</td>\n",
       "      <td>1323.0</td>\n",
       "      <td>1810.0</td>\n",
       "      <td>1052.0</td>\n",
       "      <td>1788.0</td>\n",
       "      <td>1732.0</td>\n",
       "      <td>7.0</td>\n",
       "      <td>2653.0</td>\n",
       "      <td>NaN</td>\n",
       "      <td>NaN</td>\n",
       "      <td>10.0</td>\n",
       "      <td>355.0</td>\n",
       "      <td>NaN</td>\n",
       "      <td>NaN</td>\n",
       "      <td>1061.0</td>\n",
       "      <td>510.0</td>\n",
       "    </tr>\n",
       "  </tbody>\n",
       "</table>\n",
       "</div>"
      ],
      "text/plain": [
       "dir_abbr   BFA     BIO     CSE     EDU     ENG     GEO   IRM     MPS  NCO  \\\n",
       "awd_year                                                                    \n",
       "2008       NaN     NaN     3.0     NaN     1.0     1.0   NaN     1.0  NaN   \n",
       "2009       NaN    81.0    56.0    29.0    65.0    59.0   2.0   112.0  NaN   \n",
       "2010      12.0  1535.0  1789.0  1139.0  1777.0  2027.0  12.0  2771.0  NaN   \n",
       "2011       5.0  1433.0  1598.0  1023.0  1726.0  1770.0   8.0  2434.0  NaN   \n",
       "2012       5.0  1323.0  1810.0  1052.0  1788.0  1732.0   7.0  2653.0  NaN   \n",
       "\n",
       "dir_abbr  NNCO   NSB    O/D  OCIO  OPP     SBE    TIP  \n",
       "awd_year                                               \n",
       "2008       NaN   NaN    NaN   NaN  NaN     3.0    NaN  \n",
       "2009       NaN   NaN    3.0   NaN  NaN    38.0    1.0  \n",
       "2010       NaN   1.0  497.0   NaN  NaN  1308.0  615.0  \n",
       "2011       NaN   7.0  418.0   NaN  NaN  1048.0  482.0  \n",
       "2012       NaN  10.0  355.0   NaN  NaN  1061.0  510.0  "
      ]
     },
     "execution_count": 3,
     "metadata": {},
     "output_type": "execute_result"
    }
   ],
   "source": [
    "# Use pivot() to make a wide format DataFrame\n",
    "# with years as rows, directorate abbreviations as columns,\n",
    "# and award counts as values\n",
    "awards_wide_df = awards_summary_df.pivot(index='awd_year',columns='dir_abbr',values='awd_count')\n",
    "awards_wide_df.head()"
   ]
  },
  {
   "cell_type": "markdown",
   "metadata": {},
   "source": [
    "## Visualize the data"
   ]
  },
  {
   "cell_type": "code",
   "execution_count": 4,
   "metadata": {},
   "outputs": [],
   "source": [
    "# Query the `awards_summary_df` DataFrame to filter rows where the dir_abbr column contains specific \n",
    "# directorate abbreviations (\"PHY\", \"CSE\", \"ENG\", \"GEO\"). Then create a scatter plot with awd_year\n",
    "# on the x-axis and awd_count on the y-axis. \n"
   ]
  },
  {
   "cell_type": "code",
   "execution_count": 5,
   "metadata": {},
   "outputs": [],
   "source": [
    "# Plot the awards_wide_df DataFrame to visualize the data\n"
   ]
  },
  {
   "cell_type": "code",
   "execution_count": 6,
   "metadata": {},
   "outputs": [],
   "source": [
    "# Plot a line chart for the 'CSE' column in the awards_wide_df DataFrame\n",
    "# Title: \"Award Count: Computer and Information Science and Engineering\"\n"
   ]
  },
  {
   "cell_type": "code",
   "execution_count": 7,
   "metadata": {},
   "outputs": [],
   "source": [
    "# Plot an area chart for the awards_wide_df DataFrame\n"
   ]
  },
  {
   "cell_type": "code",
   "execution_count": 8,
   "metadata": {},
   "outputs": [],
   "source": [
    "# Plot a bar chart for the year 2024 from the awards_wide_df DataFrame\n"
   ]
  },
  {
   "cell_type": "code",
   "execution_count": 9,
   "metadata": {},
   "outputs": [],
   "source": [
    "# Filter the awards_summary_df DataFrame for the year 2024, pivot it to have directorate abbreviations as rows,\n",
    "# and award counts as values, then plot a bar chart with a title and rotated x-axis labels.\n"
   ]
  },
  {
   "cell_type": "code",
   "execution_count": 10,
   "metadata": {},
   "outputs": [],
   "source": [
    "# Plot a histogram of the 'awd_count' column from the awards_summary_df DataFrame with 15 bins\n"
   ]
  },
  {
   "cell_type": "code",
   "execution_count": 11,
   "metadata": {},
   "outputs": [],
   "source": [
    "# Filter the awards_summary_df DataFrame for the year 2024 and plot a density plot \n",
    "# for the 'awd_count' column with a grid and a title.\n"
   ]
  },
  {
   "cell_type": "code",
   "execution_count": 12,
   "metadata": {},
   "outputs": [],
   "source": [
    "# Filter the awards_summary_df DataFrame for specific years (2018-2024),\n",
    "# group by 'awd_year', sum the 'awd_count' column, and plot a pie chart.\n"
   ]
  },
  {
   "cell_type": "code",
   "execution_count": 13,
   "metadata": {},
   "outputs": [],
   "source": [
    "# Plot a horizontal bar chart for the specified years (2018-2024) from the awards_wide_df DataFrame.\n",
    "# Each directorate abbreviation is plotted as a separate subplot, arranged in a 4x4 layout.\n"
   ]
  },
  {
   "cell_type": "code",
   "execution_count": null,
   "metadata": {},
   "outputs": [],
   "source": []
  }
 ],
 "metadata": {
  "kernelspec": {
   "display_name": "base",
   "language": "python",
   "name": "python3"
  },
  "language_info": {
   "codemirror_mode": {
    "name": "ipython",
    "version": 3
   },
   "file_extension": ".py",
   "mimetype": "text/x-python",
   "name": "python",
   "nbconvert_exporter": "python",
   "pygments_lexer": "ipython3",
   "version": "3.11.7"
  }
 },
 "nbformat": 4,
 "nbformat_minor": 4
}
