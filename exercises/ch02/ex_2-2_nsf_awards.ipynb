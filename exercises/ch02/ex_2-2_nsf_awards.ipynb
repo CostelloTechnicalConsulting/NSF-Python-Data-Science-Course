{
 "cells": [
  {
   "cell_type": "markdown",
   "metadata": {},
   "source": [
    "# Exercise 2-2: Write your own code for the NSF Awards Notebook"
   ]
  },
  {
   "cell_type": "code",
   "execution_count": 1,
   "metadata": {},
   "outputs": [],
   "source": [
    "import pandas as pd\n",
    "\n",
    "data_dir = '../../data'"
   ]
  },
  {
   "cell_type": "markdown",
   "metadata": {},
   "source": [
    "## Get the long and wide DataFrames"
   ]
  },
  {
   "cell_type": "code",
   "execution_count": 2,
   "metadata": {},
   "outputs": [],
   "source": [
    "awards_summary_df = pd.read_pickle(f'{data_dir}/pkl_files/awards_summary_df.pkl')"
   ]
  },
  {
   "cell_type": "code",
   "execution_count": 3,
   "metadata": {},
   "outputs": [],
   "source": [
    "awards_wide_df = pd.read_pickle(f'{data_dir}/pkl_files/awards_wide.pkl')"
   ]
  },
  {
   "cell_type": "markdown",
   "metadata": {},
   "source": [
    "## Work with the long DataFrame"
   ]
  },
  {
   "cell_type": "code",
   "execution_count": 4,
   "metadata": {},
   "outputs": [],
   "source": [
    "# Display the first few rows of the awards_summary_df DataFrame\n"
   ]
  },
  {
   "cell_type": "code",
   "execution_count": 5,
   "metadata": {},
   "outputs": [],
   "source": [
    "# Rename the 'awd_year' column to 'Year' in the awards_summary_df DataFrame\n",
    "\n",
    "# Display the first few rows of the updated DataFrame\n"
   ]
  },
  {
   "cell_type": "code",
   "execution_count": 6,
   "metadata": {},
   "outputs": [],
   "source": [
    "# Display the first few rows of the awards_summary_df DataFrame with selected columns\n"
   ]
  },
  {
   "cell_type": "code",
   "execution_count": 7,
   "metadata": {},
   "outputs": [],
   "source": [
    "# Filter rows for years 2019 to 2021 and display the last 6 rows\n"
   ]
  },
  {
   "cell_type": "code",
   "execution_count": 8,
   "metadata": {},
   "outputs": [],
   "source": [
    "# Filter the DataFrame for rows where 'div_abbr' is \"PHY\"\n",
    "# Select the 'Year', 'awd_count', and 'sum_awd_amount' columns\n",
    "# Display the first 5 rows of the filtered DataFrame\n"
   ]
  },
  {
   "cell_type": "code",
   "execution_count": 9,
   "metadata": {},
   "outputs": [],
   "source": [
    "# Using the `pd.option_context` to temporarily set display options for better readability\n",
    "# Limit the number of rows displayed\n",
    "# Display all columns\n",
    "\n",
    "# NOTE: the max_rows and max_columns options affect different IDEs in different ways\n",
    "# and may not work in all IDEs -- YMMV\n"
   ]
  },
  {
   "cell_type": "code",
   "execution_count": 10,
   "metadata": {},
   "outputs": [],
   "source": [
    "# Calculate and display the median of the 'sum_awd_amount' column\n"
   ]
  },
  {
   "cell_type": "code",
   "execution_count": 11,
   "metadata": {},
   "outputs": [],
   "source": [
    "# Group the awards_summary_df DataFrame by the 'Year' column\n",
    "# Select the 'sum_awd_amount' and 'awd_count' columns\n",
    "# Calculate the sum for each group and display the result\n"
   ]
  },
  {
   "cell_type": "markdown",
   "metadata": {},
   "source": [
    "## Work with the wide DataFrame"
   ]
  },
  {
   "cell_type": "code",
   "execution_count": 12,
   "metadata": {},
   "outputs": [],
   "source": [
    "# Display the first few rows of the awards_wide_df DataFrame\n"
   ]
  },
  {
   "cell_type": "code",
   "execution_count": 13,
   "metadata": {},
   "outputs": [],
   "source": [
    "# Rename the 'awd_year' column to 'Year' in the awards_wide_df DataFrame\n",
    "# Display the first few rows of the updated DataFrame\n",
    "\n"
   ]
  },
  {
   "cell_type": "code",
   "execution_count": 14,
   "metadata": {},
   "outputs": [],
   "source": [
    "# Display the index of the awards_wide_df DataFrame\n"
   ]
  },
  {
   "cell_type": "code",
   "execution_count": 15,
   "metadata": {},
   "outputs": [],
   "source": [
    "# Generate descriptive statistics for the awards_wide_df DataFrame\n",
    "# Transpose the result for better readability\n"
   ]
  },
  {
   "cell_type": "code",
   "execution_count": 16,
   "metadata": {},
   "outputs": [],
   "source": [
    "# Select and display specific columns ('Year', 'BIO', 'CHE', 'GEO', 'PHY') from the awards_wide_df DataFrame\n"
   ]
  },
  {
   "cell_type": "code",
   "execution_count": 17,
   "metadata": {},
   "outputs": [],
   "source": [
    "# Filter the awards_wide_df DataFrame for rows where 'Year' is between 2016 and 2022 (inclusive)\n",
    "# Display the first 10 rows of the filtered DataFrame\n"
   ]
  },
  {
   "cell_type": "code",
   "execution_count": 18,
   "metadata": {},
   "outputs": [],
   "source": [
    "# Filter the awards_wide_df DataFrame for rows where 'Year' is between 2016 and 2022 (inclusive)\n",
    "# Select and display the 'Year', 'BIO', and 'PHY' columns\n",
    "# Display the first 10 rows of the filtered DataFrame\n"
   ]
  },
  {
   "cell_type": "code",
   "execution_count": 19,
   "metadata": {},
   "outputs": [],
   "source": [
    "# Group the awards_wide_df DataFrame by the 'Year' column\n",
    "# Calculate the mean, median, and sum for all numeric columns in each group\n"
   ]
  },
  {
   "cell_type": "code",
   "execution_count": 20,
   "metadata": {},
   "outputs": [],
   "source": [
    "# Calculate the total funding for the MPS Directorate (Mathematical and Physical Sciences)\n",
    "# by summing the funding from its divisions ('AST', 'CHE', 'DMR', 'DMS', 'OSI', 'PHY')\n",
    "# Add the result as a new column 'MPSDirTotal' to the awards_wide_df DataFrame\n"
   ]
  },
  {
   "cell_type": "code",
   "execution_count": 21,
   "metadata": {},
   "outputs": [],
   "source": [
    "# Display the updated DataFrame with the new 'MPSDirTotal' column\n"
   ]
  },
  {
   "cell_type": "code",
   "execution_count": 22,
   "metadata": {},
   "outputs": [],
   "source": [
    "# Group the awards_wide_df DataFrame by the 'Year' column\n",
    "# Calculate the total MPS Directorate funding for each year\n",
    "# Plot the yearly totals as a line chart\n"
   ]
  }
 ],
 "metadata": {
  "kernelspec": {
   "display_name": "base",
   "language": "python",
   "name": "python3"
  },
  "language_info": {
   "codemirror_mode": {
    "name": "ipython",
    "version": 3
   },
   "file_extension": ".py",
   "mimetype": "text/x-python",
   "name": "python",
   "nbconvert_exporter": "python",
   "pygments_lexer": "ipython3",
   "version": "3.11.7"
  },
  "nteract": {
   "version": "0.15.0"
  }
 },
 "nbformat": 4,
 "nbformat_minor": 4
}
