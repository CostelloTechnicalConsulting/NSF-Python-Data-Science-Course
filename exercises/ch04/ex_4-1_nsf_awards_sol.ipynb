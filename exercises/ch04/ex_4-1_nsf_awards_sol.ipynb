{
 "cells": [
  {
   "cell_type": "markdown",
   "metadata": {},
   "source": [
    "# Exercise 4-1: Create some Seaborn plots"
   ]
  },
  {
   "cell_type": "markdown",
   "metadata": {},
   "source": [
    "## Get the data"
   ]
  },
  {
   "cell_type": "code",
   "execution_count": null,
   "metadata": {},
   "outputs": [],
   "source": [
    "import pandas as pd\n",
    "# Note: The following import is used to avoid warnings related to seaborn\n",
    "import warnings\n",
    "warnings.filterwarnings(\"ignore\", \"is_categorical_dtype\")\n",
    "warnings.filterwarnings(\"ignore\", \"use_inf_as_na\")\n",
    "\n",
    "data_dir = '../../data'"
   ]
  },
  {
   "cell_type": "code",
   "execution_count": null,
   "metadata": {},
   "outputs": [],
   "source": [
    "awards_summary_df = pd.read_pickle(f'{data_dir}/pkl_files/awards_summary_diryr_df.pkl')\n",
    "awards_summary_df.head()"
   ]
  },
  {
   "cell_type": "code",
   "execution_count": null,
   "metadata": {},
   "outputs": [],
   "source": [
    "# Use pivot() to make a wide format DataFrame\n",
    "# with awd_years as rows, directorate abbreviations as columns,\n",
    "# and award counts as values\n",
    "awards_wide_df = awards_summary_df.pivot(index='awd_year',columns='dir_abbr',values='awd_count')\n",
    "awards_wide_df.head()"
   ]
  },
  {
   "cell_type": "markdown",
   "metadata": {},
   "source": [
    "## The basic Seaborn parameters"
   ]
  },
  {
   "cell_type": "code",
   "execution_count": null,
   "metadata": {},
   "outputs": [],
   "source": [
    "import seaborn as sns"
   ]
  },
  {
   "cell_type": "code",
   "execution_count": null,
   "metadata": {},
   "outputs": [],
   "source": [
    "sns.relplot(data=awards_summary_df, kind='line',\n",
    "            x='awd_year', y='awd_count', hue='dir_abbr')"
   ]
  },
  {
   "cell_type": "code",
   "execution_count": null,
   "metadata": {},
   "outputs": [],
   "source": [
    "sns.lineplot(data=awards_summary_df, \n",
    "             x='awd_year', y='awd_count', hue='dir_abbr')"
   ]
  },
  {
   "cell_type": "code",
   "execution_count": null,
   "metadata": {},
   "outputs": [],
   "source": [
    "sns.relplot(data=awards_summary_df, kind='line',\n",
    "            x='awd_year', y='awd_count', hue='dir_abbr', palette='bright',\n",
    "            height=4, aspect=2)"
   ]
  },
  {
   "cell_type": "code",
   "execution_count": null,
   "metadata": {},
   "outputs": [],
   "source": [
    "sns.relplot(data=awards_summary_df, kind='line',\n",
    "            x='awd_year', y='awd_count', hue='dir_abbr', palette='bright',\n",
    "            height=4, aspect=1.25, \n",
    "            col='dir_abbr', col_wrap=4, legend=False)"
   ]
  },
  {
   "cell_type": "markdown",
   "metadata": {},
   "source": [
    "## Enhancing plots"
   ]
  },
  {
   "cell_type": "code",
   "execution_count": null,
   "metadata": {},
   "outputs": [],
   "source": [
    "ax = sns.lineplot(data=awards_summary_df, \n",
    "             x='awd_year', y='awd_count', hue='dir_abbr')\n",
    "ax.set(title='Awards by Directorate', ylabel='# of Awards', xlabel='awd_year')"
   ]
  },
  {
   "cell_type": "code",
   "execution_count": null,
   "metadata": {},
   "outputs": [],
   "source": [
    "g = sns.relplot(data=awards_summary_df, kind='line',\n",
    "    x='awd_year', y='awd_count', hue='dir_abbr', aspect=1.5)\n",
    "for ax in g.axes.flat:\n",
    "    ax.set(title='Awards by Directorate', ylabel='# of Awards')"
   ]
  },
  {
   "cell_type": "code",
   "execution_count": null,
   "metadata": {},
   "outputs": [],
   "source": [
    "g = sns.relplot(data=awards_summary_df, kind='line',\n",
    "    x='awd_year', y='awd_count', hue='dir_abbr', aspect=1.5)\n",
    "for ax in g.axes.flat:\n",
    "    ax.set(title='Awards by Directorate (2014-2024)', ylabel='# of Awards', xlabel='awd_year',\n",
    "        xticks=[x for x in range(2014, 2025, 2)], \n",
    "        xlim=(2014,2024), ylim=(0,3000))"
   ]
  },
  {
   "cell_type": "code",
   "execution_count": null,
   "metadata": {},
   "outputs": [],
   "source": [
    "g = sns.relplot(data=awards_summary_df, kind='line',\n",
    "    x='awd_year', y='awd_count', hue='dir_abbr', aspect=1.5)\n",
    "for ax in g.axes.flat:\n",
    "    ax.set(title='Awards by Directorate (2014-2024)', ylabel='# of Awards', xlabel='awd_year',\n",
    "        xticks=[x for x in range(2014, 2025, 2)], \n",
    "        xlim=(2014,2024), ylim=(0,3000))\n",
    "ax.tick_params('x', labelrotation=30)"
   ]
  },
  {
   "cell_type": "code",
   "execution_count": null,
   "metadata": {},
   "outputs": [],
   "source": [
    "sns.set_style('whitegrid')\n",
    "sns.relplot(data=awards_summary_df.query('awd_year >= 2014 and awd_year <= 2024'),\n",
    "    kind='line', x='awd_year', y='awd_count', hue='dir_abbr', aspect=1.25)"
   ]
  },
  {
   "cell_type": "code",
   "execution_count": null,
   "metadata": {},
   "outputs": [],
   "source": [
    "sns.set_style('darkgrid')\n",
    "sns.relplot(data=awards_summary_df.query('awd_year >= 2014 and awd_year <= 2024'),\n",
    "    kind='line', x='awd_year', y='awd_count', hue='dir_abbr', aspect=1.25)"
   ]
  },
  {
   "cell_type": "code",
   "execution_count": null,
   "metadata": {},
   "outputs": [],
   "source": [
    "sns.set_style('ticks')"
   ]
  },
  {
   "cell_type": "code",
   "execution_count": null,
   "metadata": {},
   "outputs": [],
   "source": [
    "g = sns.relplot(data=awards_summary_df.query('awd_year >= 2014 and awd_year <= 2024'),\n",
    "    kind='line', x='awd_year', y='awd_count', hue='dir_abbr', legend=False,\n",
    "    col='dir_abbr', col_wrap=4, height=4)\n",
    "g.fig.suptitle('NSF Awards by Directorate (2014-2024)', y=1.025)\n",
    "g.set(ylabel='# of Awards', \n",
    "      xticks=[x for x in range(2014,2025,3)], \n",
    "      ylim=(0,1750))"
   ]
  },
  {
   "cell_type": "markdown",
   "metadata": {},
   "source": [
    "## Relational plots"
   ]
  },
  {
   "cell_type": "code",
   "execution_count": null,
   "metadata": {},
   "outputs": [],
   "source": [
    "sns.relplot(data=awards_summary_df, kind='line', x='awd_year', y='awd_count', hue='dir_abbr')"
   ]
  },
  {
   "cell_type": "code",
   "execution_count": null,
   "metadata": {},
   "outputs": [],
   "source": [
    "sns.relplot(data=awards_summary_df, kind='line', x='awd_year', y='awd_count', errorbar='sd')"
   ]
  },
  {
   "cell_type": "code",
   "execution_count": null,
   "metadata": {},
   "outputs": [],
   "source": [
    "sns.relplot(data=awards_summary_df, kind='scatter', x='awd_year', y='awd_count', hue='dir_abbr')"
   ]
  },
  {
   "cell_type": "code",
   "execution_count": null,
   "metadata": {},
   "outputs": [],
   "source": [
    "a = sns.scatterplot(data=awards_summary_df.query('awd_year >= 2014 and awd_year <= 2024'), \n",
    "    x='awd_year', y='awd_count', hue='dir_abbr', \n",
    "    size='awd_count', sizes=(10,100))\n",
    "ax.set(xticks=[x for x in range(2014,2025,2)])"
   ]
  },
  {
   "cell_type": "markdown",
   "metadata": {},
   "source": [
    "## Categorical plots"
   ]
  },
  {
   "cell_type": "code",
   "execution_count": null,
   "metadata": {},
   "outputs": [],
   "source": [
    "sns.barplot(data=awards_summary_df.query('awd_year in (2018,2024)'), \n",
    "            x='awd_year', y='awd_count', errorbar=('ci',75) )"
   ]
  },
  {
   "cell_type": "code",
   "execution_count": null,
   "metadata": {},
   "outputs": [],
   "source": [
    "sns.catplot(data=awards_summary_df.query('awd_year in (2018,2024)'), \n",
    "            kind='bar', x='awd_count', y='awd_year', hue='dir_abbr', orient='h')"
   ]
  },
  {
   "cell_type": "code",
   "execution_count": null,
   "metadata": {},
   "outputs": [],
   "source": [
    "sns.catplot(data=awards_summary_df.query('awd_year >= 2018 and awd_year <= 2024'), \n",
    "            kind='box', x='awd_year', y='awd_count')"
   ]
  },
  {
   "cell_type": "code",
   "execution_count": null,
   "metadata": {},
   "outputs": [],
   "source": [
    "sns.catplot(data=awards_summary_df,\n",
    "            kind='box', x='awd_count', y='dir_abbr', orient='h')"
   ]
  },
  {
   "cell_type": "markdown",
   "metadata": {},
   "source": [
    "## Distribution plots"
   ]
  },
  {
   "cell_type": "code",
   "execution_count": null,
   "metadata": {},
   "outputs": [],
   "source": [
    "sns.displot(data=awards_summary_df, kind='hist', x='awd_count')"
   ]
  },
  {
   "cell_type": "code",
   "execution_count": null,
   "metadata": {},
   "outputs": [],
   "source": [
    "sns.displot(data=awards_summary_df, kind='hist', x='awd_count', bins=16)"
   ]
  },
  {
   "cell_type": "code",
   "execution_count": null,
   "metadata": {},
   "outputs": [],
   "source": [
    "sns.displot(data=awards_summary_df, kind='kde', x='awd_count')"
   ]
  },
  {
   "cell_type": "code",
   "execution_count": null,
   "metadata": {},
   "outputs": [],
   "source": [
    "sns.displot(data=awards_summary_df, kind='ecdf', x='awd_count', hue='dir_abbr')"
   ]
  },
  {
   "cell_type": "code",
   "execution_count": null,
   "metadata": {},
   "outputs": [],
   "source": [
    "sns.displot(data=awards_summary_df, kind='hist', \n",
    "            x='awd_count', kde=True, bins=8)"
   ]
  },
  {
   "cell_type": "code",
   "execution_count": null,
   "metadata": {},
   "outputs": [],
   "source": [
    "sns.displot(data=awards_summary_df, kind='kde', x='awd_count', hue='dir_abbr', \n",
    "            fill=True, col='dir_abbr', col_wrap=4, height=3, legend=False, warn_singular=False)"
   ]
  },
  {
   "cell_type": "markdown",
   "metadata": {},
   "source": [
    "## Other techniques for enhancing a plot"
   ]
  },
  {
   "cell_type": "code",
   "execution_count": null,
   "metadata": {},
   "outputs": [],
   "source": [
    "g = sns.relplot(\n",
    "    data=awards_summary_df, \n",
    "    kind='line', x='awd_year', y='awd_count', hue='dir_abbr', aspect=1.25)\n",
    "for ax in g.axes.flat:\n",
    "    ax.set_title('Awards by Directorate (2014-2022)')\n",
    "    ax.set_xlabel('')\n",
    "    ax.set_xticks([x for x in range(2014,2023,2)])\n",
    "    ax.set_xticklabels(['awd_year ' + str(x) for x in range(2014,2023,2)])\n",
    "    ax.tick_params('x', labelrotation=30)\n",
    "    ax.set_ylabel('# of Awards')\n",
    "    ax.set_xlim(2014,2022)\n",
    "    ax.set_ylim(0,3000)"
   ]
  },
  {
   "cell_type": "code",
   "execution_count": null,
   "metadata": {},
   "outputs": [],
   "source": [
    "ax = sns.lineplot(data=awards_summary_df, \n",
    "                  x='awd_year', y='awd_count', hue='dir_abbr')\n",
    "ax.set_title('Awards by Directorate')\n",
    "ax.set_ylabel('# of Awards')\n",
    "ax.set_ylim(0,3100)\n",
    "ax.annotate(text='COVID Pandemic', \n",
    "    xy=(2020, 2700), xytext=(2021, 3000), \n",
    "    arrowprops=dict(facecolor='red', width=3, headwidth=12, headlength=6))"
   ]
  },
  {
   "cell_type": "code",
   "execution_count": null,
   "metadata": {},
   "outputs": [],
   "source": [
    "colors = ['black','red','orange','blue', 'green','purple','pink','brown']\n",
    "sns.set_palette(sns.color_palette(colors))\n",
    "sns.relplot(data=awards_summary_df, kind='line',\n",
    "            x='awd_year', y='awd_count', hue='dir_abbr')"
   ]
  },
  {
   "cell_type": "code",
   "execution_count": null,
   "metadata": {},
   "outputs": [],
   "source": [
    "sns.set_palette(sns.color_palette('tab10'))"
   ]
  },
  {
   "cell_type": "code",
   "execution_count": null,
   "metadata": {},
   "outputs": [],
   "source": [
    "g = sns.relplot(\n",
    "    data=awards_summary_df.query('awd_year >= 2014 and awd_year <= 2024'),\n",
    "    kind='line', x='awd_year', y='awd_count', hue='dir_abbr', legend=False,\n",
    "    col='dir_abbr', col_wrap=4, height=3, aspect=1.2)\n",
    "g.fig.suptitle('Awards by Directorate (2014-2024)', y=1.025)\n",
    "for ax in g.axes.flat:\n",
    "    ax.set_ylabel('# of Awards')\n",
    "    ax.set_xticks([x for x in range(2014, 2025, 2)])\n",
    "    ax.tick_params('x', labelrotation=45)   "
   ]
  },
  {
   "cell_type": "code",
   "execution_count": null,
   "metadata": {},
   "outputs": [],
   "source": [
    "g = sns.relplot(\n",
    "    data=awards_summary_df.query('awd_year >= 2014 and awd_year <= 2024'), \n",
    "    kind='line', x='awd_year', y='awd_count', hue='dir_abbr', legend=False, \n",
    "    col='dir_abbr', col_wrap=4, height=3, aspect=1.2)\n",
    "g.fig.suptitle('Awards by Directorate (2014-2024)', y=1.025)\n",
    "dir_abbrs = awards_summary_df['dir_abbr'].drop_duplicates().tolist()\n",
    "for index, ax in enumerate(g.axes.flat):\n",
    "    ax.set_title(dir_abbrs[index])\n",
    "    ax.set_ylabel('# of Awards')\n",
    "    ax.set_xticks([x for x in range(2014, 2025, 2)])\n",
    "    ax.tick_params('x', labelrotation=45)"
   ]
  },
  {
   "cell_type": "code",
   "execution_count": null,
   "metadata": {},
   "outputs": [],
   "source": [
    "# import a Matplotlib module and set the figure size\n",
    "import matplotlib.pyplot as plt\n",
    "fig, ax = plt.subplots(figsize=(10,7.5)) \n",
    "\n",
    "# create the line plot\n",
    "sns.lineplot(data=awards_summary_df, x='awd_year', y='awd_count', hue='dir_abbr')\n",
    "\n",
    "# use the ax and fig objects to enhance and save the plot\n",
    "ax.set(title='Awards by Directorate (2014-2024)', \n",
    "    ylabel='# of Awards', \n",
    "    xticks=[x for x in range(2014, 2025, 2)], \n",
    "    xlim=(2014,2024), ylim=(0,3000)),\n",
    "ax.tick_params('x', labelrotation=45)"
   ]
  },
  {
   "cell_type": "code",
   "execution_count": null,
   "metadata": {},
   "outputs": [],
   "source": [
    "sns.catplot(data=awards_summary_df.query('awd_year in (2018, 2020, 2022, 2024)'), \n",
    "            kind='bar', x='dir_abbr', y='awd_count', aspect=1.8)"
   ]
  },
  {
   "cell_type": "code",
   "execution_count": null,
   "metadata": {},
   "outputs": [],
   "source": [
    "sns.catplot(data=awards_summary_df.query('awd_year in (2018,2020,2022,2024)'),\n",
    "            kind='bar', x='dir_abbr', y='awd_count', height=4,\n",
    "            col='awd_year', col_wrap=3)"
   ]
  },
  {
   "cell_type": "code",
   "execution_count": null,
   "metadata": {},
   "outputs": [],
   "source": [
    "ax = sns.lineplot(data=awards_summary_df.query('dir_abbr == \"MPS\"'), x='awd_year', y='awd_count')\n",
    "ax.set(title = 'MPS', ylabel='# of Awards')"
   ]
  },
  {
   "cell_type": "code",
   "execution_count": null,
   "metadata": {},
   "outputs": [],
   "source": [
    "sns.relplot(data=awards_summary_df.query('awd_year >= 2014 and awd_year <= 2024'), kind='line',\n",
    "            x='awd_year', y='awd_count', hue='dir_abbr')"
   ]
  },
  {
   "cell_type": "code",
   "execution_count": null,
   "metadata": {},
   "outputs": [],
   "source": [
    "sns.relplot(data=awards_summary_df.query('awd_year >= 2014 and awd_year <= 2024'), kind='scatter',\n",
    "            x='awd_year', y='awd_count', hue='dir_abbr', size='awd_count', sizes=(10,50))"
   ]
  },
  {
   "cell_type": "code",
   "execution_count": null,
   "metadata": {},
   "outputs": [],
   "source": [
    "g = sns.catplot(data=awards_summary_df.query('awd_year in (2020,2021,2022,2023,2024)'),\n",
    "               kind='bar', x='awd_year', y='awd_count', hue='dir_abbr', legend=False,\n",
    "               col='dir_abbr', col_wrap=4, height=4)\n",
    "g.fig.suptitle('Awards by Directorate', y=1.025)\n",
    "for ax in g.axes.flat:\n",
    "    ax.set(ylabel='# of Awards')\n",
    "g.savefig('barCharts.png')"
   ]
  },
  {
   "cell_type": "markdown",
   "metadata": {},
   "source": [
    "## Let's do one more quick one with award type by month"
   ]
  },
  {
   "cell_type": "code",
   "execution_count": null,
   "metadata": {},
   "outputs": [],
   "source": [
    "# Read the awards_with_type_df DataFrame back from the pickle file\n",
    "awards_with_type_df = pd.read_pickle(f'{data_dir}/pkl_files/awards_with_type_df.pkl')"
   ]
  },
  {
   "cell_type": "code",
   "execution_count": null,
   "metadata": {},
   "outputs": [],
   "source": [
    "# Generate an 'awd_month_and_year' column\n",
    "awards_with_type_df['awd_month_and_year'] = awards_with_type_df['awd_eff_date'].dt.to_period('M').astype(str)"
   ]
  },
  {
   "cell_type": "code",
   "execution_count": null,
   "metadata": {},
   "outputs": [],
   "source": [
    "sns.relplot(data=awards_with_type_df, kind='line',\n",
    "            x='awd_month_and_year', y='awd_amount', hue='awd_type')"
   ]
  }
 ],
 "metadata": {
  "kernelspec": {
   "display_name": "base",
   "language": "python",
   "name": "python3"
  },
  "language_info": {
   "codemirror_mode": {
    "name": "ipython",
    "version": 3
   },
   "file_extension": ".py",
   "mimetype": "text/x-python",
   "name": "python",
   "nbconvert_exporter": "python",
   "pygments_lexer": "ipython3",
   "version": "3.11.7"
  },
  "nteract": {
   "version": "0.15.0"
  }
 },
 "nbformat": 4,
 "nbformat_minor": 4
}
