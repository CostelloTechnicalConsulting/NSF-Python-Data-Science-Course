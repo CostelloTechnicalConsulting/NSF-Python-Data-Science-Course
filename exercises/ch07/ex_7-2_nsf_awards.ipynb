{
 "cells": [
  {
   "cell_type": "markdown",
   "metadata": {},
   "source": [
    "# Exercise 7-2: Prepare the Cars data"
   ]
  },
  {
   "cell_type": "markdown",
   "metadata": {},
   "source": [
    "## Read the data"
   ]
  },
  {
   "cell_type": "code",
   "execution_count": 1,
   "metadata": {},
   "outputs": [],
   "source": [
    "import pandas as pd\n",
    "\n",
    "data_dir = '../../data'"
   ]
  },
  {
   "cell_type": "code",
   "execution_count": 2,
   "metadata": {},
   "outputs": [],
   "source": [
    "awards_df = pd.read_pickle(f'{data_dir}/pkl_files/awards_data_2010_2025.pkl')"
   ]
  },
  {
   "cell_type": "code",
   "execution_count": 3,
   "metadata": {},
   "outputs": [
    {
     "data": {
      "application/vnd.microsoft.datawrangler.viewer.v0+json": {
       "columns": [
        {
         "name": "index",
         "rawType": "int64",
         "type": "integer"
        },
        {
         "name": "awd_id",
         "rawType": "object",
         "type": "string"
        },
        {
         "name": "agcy_id",
         "rawType": "object",
         "type": "string"
        },
        {
         "name": "tran_type",
         "rawType": "object",
         "type": "string"
        },
        {
         "name": "awd_istr_txt",
         "rawType": "object",
         "type": "string"
        },
        {
         "name": "awd_titl_txt",
         "rawType": "object",
         "type": "string"
        },
        {
         "name": "cfda_num",
         "rawType": "object",
         "type": "string"
        },
        {
         "name": "org_code",
         "rawType": "object",
         "type": "string"
        },
        {
         "name": "po_phone",
         "rawType": "object",
         "type": "unknown"
        },
        {
         "name": "po_email",
         "rawType": "object",
         "type": "string"
        },
        {
         "name": "po_sign_block_name",
         "rawType": "object",
         "type": "string"
        },
        {
         "name": "awd_eff_date",
         "rawType": "object",
         "type": "string"
        },
        {
         "name": "awd_exp_date",
         "rawType": "object",
         "type": "string"
        },
        {
         "name": "tot_intn_awd_amt",
         "rawType": "float64",
         "type": "float"
        },
        {
         "name": "awd_amount",
         "rawType": "float64",
         "type": "float"
        },
        {
         "name": "awd_min_amd_letter_date",
         "rawType": "object",
         "type": "string"
        },
        {
         "name": "awd_max_amd_letter_date",
         "rawType": "object",
         "type": "string"
        },
        {
         "name": "awd_abstract_narration",
         "rawType": "object",
         "type": "string"
        },
        {
         "name": "awd_arra_amount",
         "rawType": "float64",
         "type": "float"
        },
        {
         "name": "dir_abbr",
         "rawType": "object",
         "type": "string"
        },
        {
         "name": "org_dir_long_name",
         "rawType": "object",
         "type": "string"
        },
        {
         "name": "div_abbr",
         "rawType": "object",
         "type": "string"
        },
        {
         "name": "org_div_long_name",
         "rawType": "object",
         "type": "string"
        },
        {
         "name": "awd_agcy_code",
         "rawType": "object",
         "type": "string"
        },
        {
         "name": "fund_agcy_code",
         "rawType": "object",
         "type": "string"
        },
        {
         "name": "pi",
         "rawType": "object",
         "type": "unknown"
        },
        {
         "name": "pgm_ele",
         "rawType": "object",
         "type": "unknown"
        },
        {
         "name": "pgm_ref",
         "rawType": "object",
         "type": "unknown"
        },
        {
         "name": "app_fund",
         "rawType": "object",
         "type": "unknown"
        },
        {
         "name": "oblg_fy",
         "rawType": "object",
         "type": "unknown"
        },
        {
         "name": "inst.inst_name",
         "rawType": "object",
         "type": "string"
        },
        {
         "name": "inst.inst_street_address",
         "rawType": "object",
         "type": "string"
        },
        {
         "name": "inst.inst_street_address_2",
         "rawType": "object",
         "type": "string"
        },
        {
         "name": "inst.inst_city_name",
         "rawType": "object",
         "type": "string"
        },
        {
         "name": "inst.inst_state_code",
         "rawType": "object",
         "type": "string"
        },
        {
         "name": "inst.inst_state_name",
         "rawType": "object",
         "type": "string"
        },
        {
         "name": "inst.inst_phone_num",
         "rawType": "object",
         "type": "string"
        },
        {
         "name": "inst.inst_zip_code",
         "rawType": "object",
         "type": "string"
        },
        {
         "name": "inst.inst_country_name",
         "rawType": "object",
         "type": "string"
        },
        {
         "name": "inst.cong_dist_code",
         "rawType": "object",
         "type": "string"
        },
        {
         "name": "inst.st_cong_dist_code",
         "rawType": "object",
         "type": "string"
        },
        {
         "name": "inst.org_lgl_bus_name",
         "rawType": "object",
         "type": "string"
        },
        {
         "name": "inst.org_prnt_uei_num",
         "rawType": "object",
         "type": "string"
        },
        {
         "name": "inst.org_uei_num",
         "rawType": "object",
         "type": "string"
        },
        {
         "name": "perf_inst.perf_inst_name",
         "rawType": "object",
         "type": "string"
        },
        {
         "name": "perf_inst.perf_str_addr",
         "rawType": "object",
         "type": "string"
        },
        {
         "name": "perf_inst.perf_city_name",
         "rawType": "object",
         "type": "string"
        },
        {
         "name": "perf_inst.perf_st_code",
         "rawType": "object",
         "type": "string"
        },
        {
         "name": "perf_inst.perf_st_name",
         "rawType": "object",
         "type": "string"
        },
        {
         "name": "perf_inst.perf_zip_code",
         "rawType": "object",
         "type": "string"
        },
        {
         "name": "perf_inst.perf_ctry_code",
         "rawType": "object",
         "type": "string"
        },
        {
         "name": "perf_inst.perf_cong_dist",
         "rawType": "object",
         "type": "string"
        },
        {
         "name": "perf_inst.perf_st_cong_dist",
         "rawType": "object",
         "type": "string"
        },
        {
         "name": "perf_inst.perf_ctry_name",
         "rawType": "object",
         "type": "string"
        },
        {
         "name": "perf_inst.perf_ctry_flag",
         "rawType": "object",
         "type": "string"
        },
        {
         "name": "por.por_cntn",
         "rawType": "object",
         "type": "unknown"
        },
        {
         "name": "por.por_txt_cntn",
         "rawType": "object",
         "type": "unknown"
        },
        {
         "name": "por",
         "rawType": "object",
         "type": "unknown"
        }
       ],
       "conversionMethod": "pd.DataFrame",
       "ref": "fd94e59a-3145-423f-af9e-9f0b5c2c37a3",
       "rows": [
        [
         "0",
         "0415302",
         "NSF",
         "CoopAgrmnt",
         "Cooperative Agreement",
         "Advanced Technology Solar Telescope (ATST) Construction under the American Recovery and Reinvestment Act of 2009 (ARRA)",
         "47.049",
         "03020000",
         null,
         "",
         "David Boboltz",
         "2010-01-01",
         "2015-09-30",
         "146000000.0",
         "146000000.0",
         "2010-01-15",
         "2015-05-13",
         "Abstract\r\nAST 0415302\r\n\r\nMagnetic fields control the inconstant Sun. The key to understanding solar variability and its direct impact on the Earth rests with understanding all aspects of these magnetic fields. This is the ?dark energy? problem of solar physics since the magnetic fields lie beyond the resolution limits of current solar telescopes, are obscured by Earth's atmosphere, or hidden by the glare of the solar disk in the outer solar atmosphere. The Sun provides the laboratory where crucial properties of non-linear dynamics in highly ionized magnetic plasma can be observed and understood, and models can be tested and refined. The technology now exists to resolve and measure the Sun?s magnetic fields and how they control the solar atmosphere. All aspects of the Advanced Technology Solar Telescope (ATST) design are optimized to study these fields in our astrophysical backyard.  With it, we will understand the life cycle of magnetic fields, how they are born by dynamo mechanisms, evolve by convective and explosive phenomena, and dissipated by resistive and reconnective magnetic events.  \r\n\r\nThe ATST will be a 4-m aperture, off-axis solar telescope with integrated adaptive optics, low-scattered light, infrared, coronagraphic, and polarimetric capabilities. It will resolve the essential, fine-scale magnetic features and their dynamics that dictate the varying release of energy from the Sun?s atmosphere. The ATST design is optimized (throughput, scattered light and instrumental polarization properties) to make vector magnetograms down to its diffraction limit (0.03 arcseconds at 500 nm). Its collecting area, which is a factor of 16 greater than today?s solar telescopes, will provide the sensitivity to measure both weak fields and rapidly evolving stronger fields. It has a factor of 64 greater collecting area than the largest existing coronagraph, and will provide the sensitivity and coronagraphic capability needed to measure the weak, fine-scale coronal magnetic fields. The new technologies, and our increased awareness of what we know we must learn, make ATST the necessary and logical successor to the solar telescopes built in the 1960s and 1970s, and is a natural complement to space missions such the Solar Dynamics Observatory, STEREO, and Solar Orbiter.\r\n\r\nThe ATST offers tremendous opportunity for the training of students and recruitment of post-docs and faculty in solar physics who will become users of the ATST and the instrument builders and theoreticians of the future. ATST plans to establish a strong synergy with the education and outreach programs at the collaborating institutions, including programs for the K-12 classroom, internships, public outreach through tours, hands-on exhibits, and displays. The ATST program has and will continue to actively involve large segments of the US and international solar physics community, helping to strengthen solar astronomy programs at universities and national centers.\r\n",
         "146000000.0",
         "MPS",
         "Directorate for Mathematical and Physical Sciences",
         "AST",
         "Division Of Astronomical Sciences",
         "4900",
         "4900",
         "[{'pi_role': 'Former Principal Investigator', 'pi_first_name': 'Thomas', 'pi_last_name': 'Rimmele', 'pi_mid_init': 'R', 'pi_sufx_name': '', 'pi_full_name': 'Thomas R Rimmele', 'pi_email_addr': 'trimmele@nso.edu', 'nsf_id': '000420643', 'pi_start_date': '2012-03-15', 'pi_end_date': '2014-06-28'}, {'pi_role': 'Former Principal Investigator', 'pi_first_name': 'William', 'pi_last_name': 'Smith', 'pi_mid_init': 'S', 'pi_sufx_name': '', 'pi_full_name': 'William S Smith', 'pi_email_addr': 'wsmith@aura-astronomy.org', 'nsf_id': '000366920', 'pi_start_date': '2014-06-28', 'pi_end_date': '2015-05-13'}, {'pi_role': 'Former Principal Investigator', 'pi_first_name': 'Stephen', 'pi_last_name': 'Keil', 'pi_mid_init': 'L', 'pi_sufx_name': '', 'pi_full_name': 'Stephen L Keil', 'pi_email_addr': 'skeil@nso.edu', 'nsf_id': '000094824', 'pi_start_date': '2010-01-15', 'pi_end_date': '2012-03-15'}, {'pi_role': 'Principal Investigator', 'pi_first_name': 'Charles Mattias', 'pi_last_name': 'Mountain', 'pi_mid_init': '', 'pi_sufx_name': '', 'pi_full_name': 'Charles Mattias Mountain', 'pi_email_addr': 'Matt.Mountain.NSF@aura-astronomy.org', 'nsf_id': '000693831', 'pi_start_date': '2015-05-13', 'pi_end_date': None}, {'pi_role': 'Co-Principal Investigator', 'pi_first_name': 'Jeffrey', 'pi_last_name': 'Kuhn', 'pi_mid_init': 'R', 'pi_sufx_name': '', 'pi_full_name': 'Jeffrey R Kuhn', 'pi_email_addr': 'kuhn@ifa.hawaii.edu', 'nsf_id': '000328468', 'pi_start_date': '2010-01-15', 'pi_end_date': None}, {'pi_role': 'Co-Principal Investigator', 'pi_first_name': 'Robert', 'pi_last_name': 'Rosner', 'pi_mid_init': '', 'pi_sufx_name': '', 'pi_full_name': 'Robert Rosner', 'pi_email_addr': 'rrosner@uchicago.edu', 'nsf_id': '000181653', 'pi_start_date': '2010-01-15', 'pi_end_date': None}, {'pi_role': 'Co-Principal Investigator', 'pi_first_name': 'Philip', 'pi_last_name': 'Goode', 'pi_mid_init': '', 'pi_sufx_name': '', 'pi_full_name': 'Philip Goode', 'pi_email_addr': 'pgoode@bbso.njit.edu', 'nsf_id': '000444170', 'pi_start_date': '2010-01-15', 'pi_end_date': None}, {'pi_role': 'Co-Principal Investigator', 'pi_first_name': 'Michael', 'pi_last_name': 'Knoelker', 'pi_mid_init': 'T', 'pi_sufx_name': '', 'pi_full_name': 'Michael T Knoelker', 'pi_email_addr': 'knoe@ucar.edu', 'nsf_id': '000055062', 'pi_start_date': '2010-01-15', 'pi_end_date': None}]",
         "[{'pgm_ele_code': '051F00', 'pgm_ele_name': 'ATST - CONCEPT & DEVELOPMENT'}]",
         "[{'pgm_ref_code': '6890', 'pgm_ref_txt': 'RECOVERY ACT ACTION'}, {'pgm_ref_code': 'OTHR', 'pgm_ref_txt': 'OTHER RESEARCH OR EDUCATION'}, {'pgm_ref_code': '0000', 'pgm_ref_txt': 'UNASSIGNED'}]",
         "[{'app_code': '05R9', 'app_name': 'MREFC RECOVERY ACT', 'app_symb_id': '040552', 'fund_code': '05R00910DB', 'fund_name': 'MREFC RECOVERY ACT', 'fund_symb_id': '040552'}]",
         "[{'fund_oblg_fiscal_yr': 2010, 'fund_oblg_amt': 146000000.0}]",
         "Association of Universities for Research in Astronomy, Inc.",
         "950 N CHERRY AVE",
         "",
         "TUCSON",
         "AZ",
         "Arizona",
         "2024832101",
         "857194933",
         "United States",
         "07",
         "AZ07",
         "ASSOCIATION OF UNIVERSITIES FOR RESEARCH IN ASTRONOMY, INC.",
         "",
         "LFDKLGTB62C4",
         "Association of Universities for Research in Astronomy, Inc.",
         "950 N CHERRY AVE",
         "TUCSON",
         "AZ",
         "Arizona",
         "857194933",
         "US",
         "07",
         "AZ07",
         "",
         "1",
         "<div class=\"porColContainerWBG\">\n<div class=\"porContentCol\"><p class=\"BodyText\">The 4m Daniel K. Inouye Solar Telescope (DKIST) will be the most powerful solar telescope and the world&rsquo;s leading ground-based resource for studying solar magnetism that controls the solar wind, flares, coronal mass ejections, and variability in the Sun&rsquo;s output.</p>\n<p>The Sun is the most important astrophysical object to humanity. It uniquely interacts with earth, driving processes in the terrestrial climate, as well as the environmental conditions in space around earth (space weather), which can profoundly impact out planet&rsquo;s communications, civil infrastructure, economies and biology. To investigate and ultimately understand and predict solar activity, we need to observe and model the physical processes throughout the solar atmosphere on their intrinsic spatial and temporal scales. The science needs drive a design that supports diffraction-limited imaging and spectropolarimetry of all atmospheric layers from the photosphere to the corona over a range of wavelengths from the visible to the infrared.</p>\n<p>The DKIST is a facility designed to provide these critical capabilities and lead to profound improvements in our understanding of solar magnetism. The funding from AST-0415302 provided the resources to complete the designs of the fundamental components of this facility as well as advance the fabrication of the principal subsystems.</p>\n<p>The DKIST, directly and in combination with other space- and ground-based instruments, will address many long-standing questions that encapsulate the physics of solar activity and variability that we still don&rsquo;t understand but have a good chance of answering in the next few decades with the proper observational and theoretical tools. These questions are:</p>\n<ul>\n<li>What heats the solar corona, making the Sun a variable X-ray star?</li>\n<li>How does the magnetized solar plasma accelerate the solar wind?</li>\n<li>What triggers solar mass ejections, converting pent up magnetic energy to magnetized clouds of plasma traversing the interplanetary space?</li>\n<li>How is energy stored and released in solar flares?</li>\n<li>What role does the ubiquitous magnetic flux play in the solar dynamo process, leading to cyclic variation of magnetic activity?</li>\n</ul>\n<p>The study of the Sun guides astronomers in their investigations of other stars, and was a major aspect of solar physics touched on by the <em>New Worlds, New Horizons</em> (NWNH) decadal survey.&nbsp; As stated in NWNH (pp. 61, 64), &ldquo;to understand the lives of stars and the role they play in cosmic evolution we must understand the roles of mass loss, rotation, and magnetic fields in stellar evolution.&rdquo;&nbsp; Magnetic fields play a role in both mass loss and rotation, and they also play a role in the evolution and destiny of life around stars through control of the radiation environment to which planets are subjected. &nbsp;The latter touches on the habitability of planets (NWNH, p. 37). &nbsp;A goal of the proposed NSO CA program is to understand the role of solar magnetic fields on all of its various scales using the DKIST and synoptic assets.</p>\n<p>Solar physics has entered a new age in which the coupling of advanced instrumentation and detailed modeling are challenging what solar physicists think they know about the Sun and the solar processes that affect life on Earth and govern interplanetary space.&nbsp;</p>\n<p class=\"BodyText\">The DKIST will be the world&rsquo;s most advanced and capable solar telescope, reaching far beyond the limitations of current telescopes to study magnetic fields on the Sun as small as 25 km in size. Such resolution will allow solar physicists for the first time to observe the interactions of the star&rsquo;s convective envelope with magnetic fields and the possible generation of magnetic fields in a &ldquo;turbulent dynamo&rdquo; process that has been theorized but never observationally con...",
         "The 4m Daniel K. Inouye Solar Telescope (DKIST) will be the most powerful solar telescope and the worldÆs leading ground-based resource for studying solar magnetism that controls the solar wind, flares, coronal mass ejections, and variability in the SunÆs output.\n\nThe Sun is the most important astrophysical object to humanity. It uniquely interacts with earth, driving processes in the terrestrial climate, as well as the environmental conditions in space around earth (space weather), which can profoundly impact out planetÆs communications, civil infrastructure, economies and biology. To investigate and ultimately understand and predict solar activity, we need to observe and model the physical processes throughout the solar atmosphere on their intrinsic spatial and temporal scales. The science needs drive a design that supports diffraction-limited imaging and spectropolarimetry of all atmospheric layers from the photosphere to the corona over a range of wavelengths from the visible to the infrared.\n\nThe DKIST is a facility designed to provide these critical capabilities and lead to profound improvements in our understanding of solar magnetism. The funding from AST-0415302 provided the resources to complete the designs of the fundamental components of this facility as well as advance the fabrication of the principal subsystems.\n\nThe DKIST, directly and in combination with other space- and ground-based instruments, will address many long-standing questions that encapsulate the physics of solar activity and variability that we still donÆt understand but have a good chance of answering in the next few decades with the proper observational and theoretical tools. These questions are:\n\nWhat heats the solar corona, making the Sun a variable X-ray star?\nHow does the magnetized solar plasma accelerate the solar wind?\nWhat triggers solar mass ejections, converting pent up magnetic energy to magnetized clouds of plasma traversing the interplanetary space?\nHow is energy stored and released in solar flares?\nWhat role does the ubiquitous magnetic flux play in the solar dynamo process, leading to cyclic variation of magnetic activity?\n\n\nThe study of the Sun guides astronomers in their investigations of other stars, and was a major aspect of solar physics touched on by the New Worlds, New Horizons (NWNH) decadal survey.  As stated in NWNH (pp. 61, 64), \"to understand the lives of stars and the role they play in cosmic evolution we must understand the roles of mass loss, rotation, and magnetic fields in stellar evolution.\"  Magnetic fields play a role in both mass loss and rotation, and they also play a role in the evolution and destiny of life around stars through control of the radiation environment to which planets are subjected.  The latter touches on the habitability of planets (NWNH, p. 37).  A goal of the proposed NSO CA program is to understand the role of solar magnetic fields on all of its various scales using the DKIST and synoptic assets.\n\nSolar physics has entered a new age in which the coupling of advanced instrumentation and detailed modeling are challenging what solar physicists think they know about the Sun and the solar processes that affect life on Earth and govern interplanetary space. \nThe DKIST will be the worldÆs most advanced and capable solar telescope, reaching far beyond the limitations of current telescopes to study magnetic fields on the Sun as small as 25 km in size. Such resolution will allow solar physicists for the first time to observe the interactions of the starÆs convective envelope with magnetic fields and the possible generation of magnetic fields in a \"turbulent dynamo\" process that has been theorized but never observationally confirmed.\nThe DKIST will be the first high-resolution solar telescope to include the capability to observe the SunÆs elusive and superheated outer atmosphere or \"corona\", normally seen from the ground only during solar eclipses. This capability will allow scientists to explore the ph...",
         null
        ],
        [
         "1",
         "0731599",
         "NSF",
         "Grant",
         "Standard Grant",
         "Individual - Nomination for Presidential Award for Excellence in Scientific Mentoring",
         "47.076",
         "11040300",
         "7032927772",
         "mjames@nsf.gov",
         "Martha James",
         "2009-12-01",
         "2014-11-30",
         "10000.0",
         "10000.0",
         "2009-12-01",
         "2013-11-08",
         "Dr. Kennedy Reed has an extensive portfolio of work broadening the participation of women and minorities in STEM disciplines. Dr. Reed has been a physicist at Lawrence Livermore National Laboratory (LLNL) since 1979, working on research in theoretical atomic physics. Throughout his career at LLNL, he has played a significant role in efforts to increase opportunities for minority students and professionals in the sciences. An important contribution has been the establishment of a national model for scientific collaborations linking leading scientists from a national laboratory with professors and students from Minority Serving Institutions. Through a program to bring together LLNL scientists, faculty from Historically Black College and Universities (HBCUs) and other institutions serving predominantly minority students (MIs) the LLNL/HBCU/MI Program, has produced more than thirty scientific publications co-authored by LLNL scientists and HBCU/MI faculty and students. A significant number of student participants in the program have pursued advanced degrees, and many have entered the science and technology workforce. Dr. Reed initiated an undergraduate program at LLNL and has encouraged minority students to pursue advanced degrees and careers in STEM disciplines. Many of these students have entered the STEM workforce. Recognizing that minority recruitment and retention in these disciplines posed challenges, he was instrumental in the creation of graduate fellowships at LLNL for students, and then helped to broaden those opportunities among the other national laboratories. In his commitment to broadening the participation of minority and female students in the physical sciences, Dr. Reed has succeeded in helping 100 of these students to earn their doctorates.\r\n\r\nDr. Reed has been instrumental in shaping the careers of numerous students through other activities such as the National Physical Science Consortium Fellows program and the National Society of Black Physicists Fellows. Dr. Reed's work has helped to broaden the participation of underrepresented students in STEM and enhance the research and academic infrastructure of Minority Serving Institutions. Through the efforts of the consortium, over 300 graduate fellowships have been awarded. He served as the Chair of the National Society of Black Physicists, and continues to chair its scholarship committee. Over 30 undergraduates have received scholarships.",
         "0.0",
         "EDU",
         "Directorate for STEM Education",
         "DUE",
         "Division Of Undergraduate Education",
         "4900",
         "4900",
         "[{'pi_role': 'Principal Investigator', 'pi_first_name': 'Kennedy', 'pi_last_name': 'Reed', 'pi_mid_init': '', 'pi_sufx_name': '', 'pi_full_name': 'Kennedy Reed', 'pi_email_addr': 'Reed5@llnl.gov', 'nsf_id': '000296633', 'pi_start_date': '2009-12-01', 'pi_end_date': None}]",
         "[{'pgm_ele_code': '159300', 'pgm_ele_name': 'PAESMEM Pres Awrds Excell Ment'}]",
         "[{'pgm_ref_code': '9178', 'pgm_ref_txt': 'UNDERGRADUATE EDUCATION'}, {'pgm_ref_code': 'SMET', 'pgm_ref_txt': 'SCIENCE, MATH, ENG & TECH EDUCATION'}]",
         "[{'app_code': '0410', 'app_name': 'NSF Education & Human Resource', 'app_symb_id': '040106', 'fund_code': '04001011DB', 'fund_name': 'NSF Education & Human Resource', 'fund_symb_id': '040106'}]",
         "[{'fund_oblg_fiscal_yr': 2010, 'fund_oblg_amt': 10000.0}]",
         "Lawrence Livermore National Laboratory",
         "2300 1ST ST STE 204",
         "",
         "LIVERMORE",
         "CA",
         "California",
         "9254239870",
         "945503141",
         "United States",
         "14",
         "CA14",
         "LAWRENCE LIVERMORE NATIONAL SECURITY, LLC",
         "",
         "PM52LCJH72T9",
         "University of California, Office of the President, Oakland",
         "1111 FRANKLIN ST FL 8",
         "OAKLAND",
         "CA",
         "California",
         "946075201",
         "US",
         "12",
         "CA12",
         "",
         "1",
         null,
         null,
         null
        ],
        [
         "2",
         "0804541",
         "NSF",
         "Grant",
         "Standard Grant",
         "The Geometric Background of biHamiltonian Systems",
         "47.049",
         "03040000",
         null,
         "",
         "Christopher Stark",
         "2010-09-01",
         "2014-08-31",
         "155998.0",
         "155998.0",
         "2010-08-27",
         "2010-08-27",
         "Abstract\r\n\r\nAward:  DMS-0804541\r\nPrincipal Investigator:  Gloria Mari-Beffa\r\n\r\nIn this project the PI proposes to research the existence of\r\ngeometric realizations for nonlinear biHamiltonian PDEs and the\r\nimplications of this existence for the biHamiltonian system and\r\nfor the realizing manifold alike. In particular she intends to\r\ndescribe possible realizing manifolds and to link their geometry\r\nto the type of system they realize. In the past the PI has\r\nstudied how biHamiltonian structures are generated by the\r\ngeometry of curves in realizing manifolds. She also studied\r\ngeometric realizations of equations of KdV type in Hermitian\r\nSymmetric manifolds, linking the projective character of\r\ndifferential invariants to equations of KdV-type. In this project\r\nshe proposes to deepen this relation and to expand it to\r\nparabolic manifolds. In joint work with M. Eastwood she will be\r\nusing tools in classical differential geometry to find projective\r\nstructures on flows. Resolving this differential geometry problem\r\nwill very likely create geometric realizations of KdV-type in\r\nparabolic manifolds. She will also investigate the possibility of\r\na similar connection in other geometries, for example that of\r\nSchrödinger, mKdV and sine-Gordon flows to Riemannian\r\ngeometry. Finally, in joint work with Calini and Ivey, the PI\r\nwill study geometric and topological properties of solutions to\r\nrealizations of soliton equations, in particular those\r\ncorresponding to finite-gap solutions (periodic case). The study\r\nwill try to link properties of these solutions to their spectral\r\nparameter.\r\n\r\nSetting an appropriate geometric background is often a\r\nfundamental step in the resolution of a problem.  A choice of\r\ngeometry establishes the properties and laws we wish to keep\r\nunchanged: Relativity (with Lorentzian geometry setting the\r\ninteraction between space and time) and computer imaging (using\r\nprojective geometry when 3D perspective needs to be preserved)\r\nare some of the best-known examples. But nowadays many engineers\r\nand physicists, including some groups working on data collection,\r\nconsider a basic knowledge of differential geometry to be\r\nfundamental. Geometric thought is commonplace, as often finding\r\nthe right choice of geometry for a problem is an initial step in\r\nits resolution - it all depends on how (or with which geometric\r\neyes) you look at it -. BiHamiltonian nonlinear equations are\r\nvery rich in structure and they are often used to model different\r\ntypes of phenomena. Their rich structure allows us to find a\r\ngreat deal of information about the system they model and to\r\npredict behavior. The best-known completely integrable systems\r\nare bi-Hamiltonian, and their solutions predict the behavior of\r\nfluids, from water waves in shallow water to the trailing\r\nvortices behind the wing tips of an airplane.  These phenomena do\r\nnot, in principle, exist within any given geometric\r\nbackground. When we find geometric realizations for a completely\r\nintegrable system we gain information in two different ways: 1)\r\nWe learn that the behavior of these phenomena can be visualized\r\nwithin a certain geometry, and we learn how to visualize it. In\r\nparticular, the same phenomena can be described in more than one\r\ngeometry; 2) We learn that some geometries are hosts to phenomena\r\nthat were not known to exist in that context before. For example,\r\nby linking projective and centro-equi-affine geometries, we can\r\nfind evolutions of star-shaped curves that behave like solitary\r\nwaves. The better we understand the relation between these two\r\napparently unrelated subjects, the more we can transfer our\r\nextensive geometric knowledge, their connections and properties,\r\nto the understanding of completely integrable systems. And\r\nvice-versa.",
         "0.0",
         "MPS",
         "Directorate for Mathematical and Physical Sciences",
         "DMS",
         "Division Of Mathematical Sciences",
         "4900",
         "4900",
         "[{'pi_role': 'Principal Investigator', 'pi_first_name': 'Gloria', 'pi_last_name': 'Mari-Beffa', 'pi_mid_init': '', 'pi_sufx_name': '', 'pi_full_name': 'Gloria Mari-Beffa', 'pi_email_addr': 'maribeff@math.wisc.edu', 'nsf_id': '000381815', 'pi_start_date': '2010-08-27', 'pi_end_date': None}]",
         "[{'pgm_ele_code': '126500', 'pgm_ele_name': 'GEOMETRIC ANALYSIS'}]",
         null,
         "[{'app_code': '0110', 'app_name': 'NSF RESEARCH & RELATED ACTIVIT', 'app_symb_id': '040100', 'fund_code': '01001011DB', 'fund_name': 'NSF RESEARCH & RELATED ACTIVIT', 'fund_symb_id': '040100'}]",
         "[{'fund_oblg_fiscal_yr': 2010, 'fund_oblg_amt': 155998.0}]",
         "University of Wisconsin-Madison",
         "21 N PARK ST STE 6301",
         "",
         "MADISON",
         "WI",
         "Wisconsin",
         "6082623822",
         "537151218",
         "United States",
         "02",
         "WI02",
         "UNIVERSITY OF WISCONSIN SYSTEM",
         "",
         "LCLSJAGTNZQ7",
         "University of Wisconsin-Madison",
         "21 N PARK ST STE 6301",
         "MADISON",
         "WI",
         "Wisconsin",
         "537151218",
         "US",
         "02",
         "WI02",
         "",
         "1",
         "<div class=\"porColContainerWBG\">\n<div class=\"porContentCol\"><p>Intellectual merits: During the last four years (three years plus a small extension) I have worked on the interrelation of the moduli space of curves (curves described by their curvatures) and soliton equations (equations whose solutions are extremely stable, like smoke rings). In particular, I aimed to identify evolutions of curves in many different geometric backgrounds, each one with a different practical relevance, that will be soliton equations when written in terms of the curvatures. I also tied projective-type of curvatures to KDV-type of equations modelling waves. During the last two years the project moved into discretizations of these systems, a move that made it much more applicable to real life since everything in life - and certainly anything one enters in a computer - is discrete, and hence not really a curve but a polygon. Thus, we have aimed to define discrete moving frames in general geometries - frames that would allow us to study the properties and curvatures of polygons - not curves, and to apply them to the study of completely integrable discrete systems. The change was motivated by the study of the pentagram map, a map that associates to a polygon the polygon obtained by joining every other vertez of the polygon with a segment. Nevertheless because of its relevance when dealing with symmetries, we expect it to be important to some applications, like image analysis.</p>\n<p>Broader impact:&nbsp;</p>\n<p>the PI has organized a mentorship program for female high school students during 2004-2012. It served 7-15 students from local high schools each year, some of them minorities, working in math at three levels. The students work with graduates and undergraduates in math and have regular contact with female faculty. The PI tries to familiarize students with the world of research in mathematics. Simpler problems within this project were appropriate for undergraduate research and as Honors adviser in Madison the PI interacted regularly with undergraduates. During 2010-11 she supervised the undergraduate Honors thesis of Tess Anderson, and they co-authored a paper that was published in the Journal of Physics A, and included in the IOP &ldquo;Select collection&rdquo; (&ldquo;Articles from the last 12 months that have been chosen by our editors for their novelty, significance and potential impact on future research&rdquo;). Ms. Anderson is currently a graduate student at Brown. The PI also worked with Laura Balzano, a graduate student in Electrical and Computer Engineering who studied the application of Grassmannian techniques to the study of data. The PI helped her understand some relevant literature and how to do analysis on Grassmannians. Dr. Balzano has now a tenure-track position in Ann Arbor. At the other end of the spectrum, the PI is Chair of the committee remodeling pre-Calculus and Calculus classes in Madison, and has collaborated closely with the State of Wisconsin regarding Math standards in K-12 during 2008-12.</p><br>\n<p>\n\t\t\t\t      \tLast Modified: 10/02/2014<br>\n\t\t\t\t\tModified by: Gloria&nbsp;Mari-Beffa</p>\n</div>\n<div class=\"porSideCol\"></div>\n</div>",
         "\nIntellectual merits: During the last four years (three years plus a small extension) I have worked on the interrelation of the moduli space of curves (curves described by their curvatures) and soliton equations (equations whose solutions are extremely stable, like smoke rings). In particular, I aimed to identify evolutions of curves in many different geometric backgrounds, each one with a different practical relevance, that will be soliton equations when written in terms of the curvatures. I also tied projective-type of curvatures to KDV-type of equations modelling waves. During the last two years the project moved into discretizations of these systems, a move that made it much more applicable to real life since everything in life - and certainly anything one enters in a computer - is discrete, and hence not really a curve but a polygon. Thus, we have aimed to define discrete moving frames in general geometries - frames that would allow us to study the properties and curvatures of polygons - not curves, and to apply them to the study of completely integrable discrete systems. The change was motivated by the study of the pentagram map, a map that associates to a polygon the polygon obtained by joining every other vertez of the polygon with a segment. Nevertheless because of its relevance when dealing with symmetries, we expect it to be important to some applications, like image analysis.\n\nBroader impact: \n\nthe PI has organized a mentorship program for female high school students during 2004-2012. It served 7-15 students from local high schools each year, some of them minorities, working in math at three levels. The students work with graduates and undergraduates in math and have regular contact with female faculty. The PI tries to familiarize students with the world of research in mathematics. Simpler problems within this project were appropriate for undergraduate research and as Honors adviser in Madison the PI interacted regularly with undergraduates. During 2010-11 she supervised the undergraduate Honors thesis of Tess Anderson, and they co-authored a paper that was published in the Journal of Physics A, and included in the IOP \"Select collection\" (\"Articles from the last 12 months that have been chosen by our editors for their novelty, significance and potential impact on future research\"). Ms. Anderson is currently a graduate student at Brown. The PI also worked with Laura Balzano, a graduate student in Electrical and Computer Engineering who studied the application of Grassmannian techniques to the study of data. The PI helped her understand some relevant literature and how to do analysis on Grassmannians. Dr. Balzano has now a tenure-track position in Ann Arbor. At the other end of the spectrum, the PI is Chair of the committee remodeling pre-Calculus and Calculus classes in Madison, and has collaborated closely with the State of Wisconsin regarding Math standards in K-12 during 2008-12.\n\n\t\t\t\t\tLast Modified: 10/02/2014\n\n\t\t\t\t\tSubmitted by: Gloria Mari-Beffa",
         null
        ],
        [
         "3",
         "0805878",
         "NSF",
         "Grant",
         "Standard Grant",
         "The Semiclassical Limit and Geometric Quantization",
         "47.049",
         "03040000",
         null,
         "",
         "Christopher Stark",
         "2010-04-15",
         "2014-03-31",
         "196001.0",
         "196001.0",
         "2010-04-28",
         "2010-06-18",
         "Abstract\r\n\r\nAward:  DMS-0805878\r\nPrincipal Investigator:  Alejandro Uribe\r\n\r\nThe principal investigator will study aspects of the relationship\r\nbetween the semiclassical behavior (i.e. as Planck's constant\r\ntends to zero) of quantum-mechanical objects with their geometric\r\ncounterpart in phase space.  More specifically, problems to be\r\ninvestigated include: Direct and inverse spectral problems for\r\nSchrodinger operators in various semi-classical settings,\r\nrigorous analyses of semiclassical approximations commonly used\r\nin the physics and quantum chemistry communities (Bohr-Sommerfeld\r\nconditions, approximate propagators and computation of\r\ncorrelation functions), as well as quantum-mechanical analogies\r\nof constructions in symplectic geometry (like symplectic\r\ncutting).  The settings will be both classical (when the phase\r\nspace is Euclidean) and more geometric (e.g. when the phase space\r\nis a compact Kahler manifold or the cotangent bundle of a\r\nconfiguration space).\r\n\r\nThe relationship between mathematics and physics is profoundly\r\nimportant for both the theory and applications of these subjects.\r\nIn one direction, mathematics is the language of physics and its\r\nmethods can have powerful applications; in the other, physical\r\nproblems often give rise to new mathematical problems that can be\r\nextremely fruitful.  The proposed research will study problems at\r\nthe interface between quantum mechanics and geometry.  The\r\nproblems are generally of two kinds: spectral, meaning related to\r\nthe energy of a quantum system, and dynamical, comparing the\r\nevolution of a quantum system with its classical counterpart.\r\nThe spectral problems seek to understand the relationship between\r\nthe possible energy levels of a quantum system and the geometry\r\nof the corresponding classical system.  The dynamic problems\r\nshould result in a better understanding of the underpinnings of\r\nsome popular computational methods in quantum chemistry.",
         "0.0",
         "MPS",
         "Directorate for Mathematical and Physical Sciences",
         "DMS",
         "Division Of Mathematical Sciences",
         "4900",
         "4900",
         "[{'pi_role': 'Principal Investigator', 'pi_first_name': 'Alejandro', 'pi_last_name': 'Uribe', 'pi_mid_init': '', 'pi_sufx_name': '', 'pi_full_name': 'Alejandro Uribe', 'pi_email_addr': 'uribe@umich.edu', 'nsf_id': '000190720', 'pi_start_date': '2010-04-28', 'pi_end_date': None}]",
         "[{'pgm_ele_code': '126500', 'pgm_ele_name': 'GEOMETRIC ANALYSIS'}]",
         null,
         "[{'app_code': '0110', 'app_name': 'NSF RESEARCH & RELATED ACTIVIT', 'app_symb_id': '040100', 'fund_code': '01001011DB', 'fund_name': 'NSF RESEARCH & RELATED ACTIVIT', 'fund_symb_id': '040100'}]",
         "[{'fund_oblg_fiscal_yr': 2010, 'fund_oblg_amt': 196001.0}]",
         "Regents of the University of Michigan - Ann Arbor",
         "1109 GEDDES AVE STE 3300",
         "",
         "ANN ARBOR",
         "MI",
         "Michigan",
         "7347636438",
         "481091015",
         "United States",
         "06",
         "MI06",
         "REGENTS OF THE UNIVERSITY OF MICHIGAN",
         "",
         "GNJ7BBP73WE9",
         "Regents of the University of Michigan - Ann Arbor",
         "1109 GEDDES AVE STE 3300",
         "ANN ARBOR",
         "MI",
         "Michigan",
         "481091015",
         "US",
         "06",
         "MI06",
         "",
         "1",
         "<div class=\"porColContainerWBG\">\n<div class=\"porContentCol\"><p class=\"p1\">The research that was conducted under this award is on the mathematical aspects of the relationship between classical and quantum mechanics.&nbsp; The mathematical theories describing classical and quantum mechanics are very different:&nbsp; Classical mechanics is based on geometry, while quantum mechanics is based on analysis,&nbsp; which is advanced calculus.&nbsp; One is deterministic, the other probabilistic.&nbsp; Yet there is a very deep connection between these two fields, and the outcomes of this project significantly add to the understanding of that connection.&nbsp; They also uncover new aspects of the quantum-classical relationship.</p>\n<p class=\"p2\">&nbsp;</p>\n<p class=\"p1\">Our main results give some answers to the general question:&nbsp; To what extent the vibrations of an object reflect its geometry?&nbsp; In our setting <em>vibrations</em> refers to to the quantum energy levels, and we show that in a number of cases the quantum energy levels do determine much of the geometry, or classical mechanics, of the same system.</p>\n<p class=\"p2\">&nbsp;</p>\n<p class=\"p1\">Other results we have obtained indicate how to extend the classical notion of time to complex-valued notions of time, in classical mechanics.&nbsp; Complex-valued means that complex numbers (including the square root of (-1)) are now to be considered &ldquo;fair game&rdquo; in the classical world. The insight on how that happens comes from quantum mechanics.&nbsp; Interestingly, this is related to deep problems of geometry (over the complex numbers).</p>\n<p class=\"p1\">We have also obtained results on quantum systems that are subject to evolve within certain energy bounds.&nbsp; We have constructed a sound mathematical theory for particles subject to such energy bounds.&nbsp; Further, we have obtained strong numerical evidence that shows that, under such bounds, a quantum particle would split as it reaches the boundary of the allowed energy. &nbsp;The center of the particle(s) follow the contour lines that represent the classical dynamics of the same system. &nbsp;This is a new phenomenon we can predict, based on our theoretical resulst as well as on our numerical calculations.</p>\n<p class=\"p1\">In this way our results contribute to the knowledge of the relationship between classical and quantum mechanics, and also suggest intriguing lines of further research.</p>\n<p>&nbsp;</p><br>\n<p>\n\t\t\t\t      \tLast Modified: 04/06/2015<br>\n\t\t\t\t\tModified by: Alejandro&nbsp;Uribe</p>\n</div>\n<div class=\"porSideCol\"></div>\n</div>",
         "The research that was conducted under this award is on the mathematical aspects of the relationship between classical and quantum mechanics.  The mathematical theories describing classical and quantum mechanics are very different:  Classical mechanics is based on geometry, while quantum mechanics is based on analysis,  which is advanced calculus.  One is deterministic, the other probabilistic.  Yet there is a very deep connection between these two fields, and the outcomes of this project significantly add to the understanding of that connection.  They also uncover new aspects of the quantum-classical relationship.\n \nOur main results give some answers to the general question:  To what extent the vibrations of an object reflect its geometry?  In our setting vibrations refers to to the quantum energy levels, and we show that in a number of cases the quantum energy levels do determine much of the geometry, or classical mechanics, of the same system.\n \nOther results we have obtained indicate how to extend the classical notion of time to complex-valued notions of time, in classical mechanics.  Complex-valued means that complex numbers (including the square root of (-1)) are now to be considered \"fair game\" in the classical world. The insight on how that happens comes from quantum mechanics.  Interestingly, this is related to deep problems of geometry (over the complex numbers).\nWe have also obtained results on quantum systems that are subject to evolve within certain energy bounds.  We have constructed a sound mathematical theory for particles subject to such energy bounds.  Further, we have obtained strong numerical evidence that shows that, under such bounds, a quantum particle would split as it reaches the boundary of the allowed energy.  The center of the particle(s) follow the contour lines that represent the classical dynamics of the same system.  This is a new phenomenon we can predict, based on our theoretical resulst as well as on our numerical calculations.\nIn this way our results contribute to the knowledge of the relationship between classical and quantum mechanics, and also suggest intriguing lines of further research.\n\n \n\n\t\t\t\t\tLast Modified: 04/06/2015\n\n\t\t\t\t\tSubmitted by: Alejandro Uribe",
         null
        ],
        [
         "4",
         "0805989",
         "NSF",
         "Grant",
         "Standard Grant",
         "Application of methods of arithmetic geometry and homological algebra to quantum field theory and string theory",
         "47.049",
         "03040000",
         null,
         "",
         "Christopher Stark",
         "2010-09-01",
         "2014-08-31",
         "196252.0",
         "196252.0",
         "2010-08-26",
         "2010-08-26",
         "Abstract\r\n\r\nAward:  DMS-0805989\r\nPrincipal Investigator:  Albert Schwarz\r\n\r\n\r\nThe first of these projects concerns applications of p-adic\r\nmethods to topological strings. The goal of these projects is to\r\nexpress physical quantities in terms of arithmetic geometry over\r\np-adic numbers and to use these expressions to prove integrality\r\ntheorems.  Another set of investigations deals with\r\nsupersymmetric deformations of quantum field theories.  This is\r\njoint work with M. Movshev and applies the theory of L-infinity\r\nand A-infinity algebras.  Another project is devoted to the\r\nanalysis of the relation between string theory and quantum field\r\ntheory. The principal investigator has argued that quantum field\r\ntheory can be formulated such that time and space do not appear\r\nas primary notions, and is planning to show that string theory\r\ncan be regarded as a quantum field theory in this sense.\r\n\r\nThese research projects are based on the application of methods\r\nof modern mathematics to physics, particularly making use of\r\narithmetic geometry and homological algebra to improve our\r\nunderstanding of quantum field theory and string theory.\r\nSophisticated mathematics originally developed for other purposes\r\nsuch as the study of Diophantine equations in number theory seems\r\nto bear directly on challenging issues in theoretical physics.\r\n",
         "0.0",
         "MPS",
         "Directorate for Mathematical and Physical Sciences",
         "DMS",
         "Division Of Mathematical Sciences",
         "4900",
         "4900",
         "[{'pi_role': 'Principal Investigator', 'pi_first_name': 'Albert', 'pi_last_name': 'Schwarz', 'pi_mid_init': '', 'pi_sufx_name': '', 'pi_full_name': 'Albert Schwarz', 'pi_email_addr': 'schwarz@math.ucdavis.edu', 'nsf_id': '000203100', 'pi_start_date': '2010-08-26', 'pi_end_date': None}]",
         "[{'pgm_ele_code': '126500', 'pgm_ele_name': 'GEOMETRIC ANALYSIS'}]",
         null,
         "[{'app_code': '0110', 'app_name': 'NSF RESEARCH & RELATED ACTIVIT', 'app_symb_id': '040100', 'fund_code': '01001011DB', 'fund_name': 'NSF RESEARCH & RELATED ACTIVIT', 'fund_symb_id': '040100'}]",
         "[{'fund_oblg_fiscal_yr': 2010, 'fund_oblg_amt': 196252.0}]",
         "University of California-Davis",
         "1850 RESEARCH PARK DR STE 300",
         "",
         "DAVIS",
         "CA",
         "California",
         "5307547700",
         "956186153",
         "United States",
         "04",
         "CA04",
         "UNIVERSITY OF CALIFORNIA, DAVIS",
         "",
         "TX2DAGQPENZ5",
         "University of California-Davis",
         "1850 RESEARCH PARK DR STE 300",
         "DAVIS",
         "CA",
         "California",
         "956186153",
         "US",
         "04",
         "CA04",
         "",
         "1",
         "<div class=\"porColContainerWBG\">\n<div class=\"porContentCol\"><p>&nbsp; My project is an interdisciplinary project on the interface between mathematics and physics. &nbsp;In recent decades the renewed collaboration between mathematics and physics led to spectacular results in both fields. Quantum field theory and string theory essentially &nbsp; use the results of many branches of modern mathematics. From the other side the ideas borrowed from physics transformed several mathematical fields, like low-dimensional topology and algebraic geometry. I have participated actively in this development, both as a mathematician and as a theoretical physicist. (Topologically non-trivial solutions of equations of motion - monopoles and instantons, first examples of topological quantum field theories, applications of noncommutative geometry, etc .)</p>\n<p>My recent results go in the same direction. They are based on the application of arithmetic geometry and homological algebra to physics.</p>\n<p>&nbsp; In one of my papers that served as a basis of my proposal I developed some basic notions of \"physics over a ring\" where the role of real or complex numbers play elements of some ring. The physics over a ring can have &nbsp;fundamental meaning if &nbsp;physical quantities &nbsp;take only discrete values (for example if length can take only values proportional to some unit length). &nbsp;In any case it gives useful technical tools allowing &nbsp;to obtain new results in conventional physics. In particular, in my papers with V. Vologodsky and J. Walcher \" physics over p-adic numbers\" was used to obtain some integrality theorem in &nbsp;the theory of topological strings.</p>\n<p><span style=\"font-size: 12px;\">&nbsp; Homological algebra &nbsp;enters physics in the framework of BRST formalism. &nbsp;Among the results of my project was calculation of some homology groups that appear in many problems of quantum field theory and string theory (together with M. Movshev, &nbsp;Renjun Xu and A. Mikhailov). </span></p>\n<p><span style=\"font-size: 12px;\">&nbsp;In a series of papers with Jia-Ming Liou we have solved some topological problems that can be useful in the construction of nonperturbative string theory. (It was conjectured that such a theory can be constructed in terms of infinite-dimensional Grassmannian; we have studied the topological properties of the Krichever map relating moduli spaces of algebraic curves with Grassmannian.) &nbsp;</span></p>\n<p><span style=\"font-size: 12px;\">&nbsp; My recent papers are devoted to quantum curves, that appear in many questions of theoretical physics &nbsp;and mathematics (matrix models, topological strings, knot theory etc). &nbsp;I define quantum curves and discrete quantum curves as pairs of differential or difference operators satisfying some equations; I describe moduli spaces of these curves.</span></p>\n<p>&nbsp;</p>\n<p>&nbsp;</p><br>\n<p>\n\t\t\t\t      \tLast Modified: 10/31/2014<br>\n\t\t\t\t\tModified by: Albert&nbsp;Schwarz</p>\n</div>\n<div class=\"porSideCol\"></div>\n</div>",
         "\n  My project is an interdisciplinary project on the interface between mathematics and physics.  In recent decades the renewed collaboration between mathematics and physics led to spectacular results in both fields. Quantum field theory and string theory essentially   use the results of many branches of modern mathematics. From the other side the ideas borrowed from physics transformed several mathematical fields, like low-dimensional topology and algebraic geometry. I have participated actively in this development, both as a mathematician and as a theoretical physicist. (Topologically non-trivial solutions of equations of motion - monopoles and instantons, first examples of topological quantum field theories, applications of noncommutative geometry, etc .)\n\nMy recent results go in the same direction. They are based on the application of arithmetic geometry and homological algebra to physics.\n\n  In one of my papers that served as a basis of my proposal I developed some basic notions of \"physics over a ring\" where the role of real or complex numbers play elements of some ring. The physics over a ring can have  fundamental meaning if  physical quantities  take only discrete values (for example if length can take only values proportional to some unit length).  In any case it gives useful technical tools allowing  to obtain new results in conventional physics. In particular, in my papers with V. Vologodsky and J. Walcher \" physics over p-adic numbers\" was used to obtain some integrality theorem in  the theory of topological strings.\n\n  Homological algebra  enters physics in the framework of BRST formalism.  Among the results of my project was calculation of some homology groups that appear in many problems of quantum field theory and string theory (together with M. Movshev,  Renjun Xu and A. Mikhailov). \n\n In a series of papers with Jia-Ming Liou we have solved some topological problems that can be useful in the construction of nonperturbative string theory. (It was conjectured that such a theory can be constructed in terms of infinite-dimensional Grassmannian; we have studied the topological properties of the Krichever map relating moduli spaces of algebraic curves with Grassmannian.)  \n\n  My recent papers are devoted to quantum curves, that appear in many questions of theoretical physics  and mathematics (matrix models, topological strings, knot theory etc).  I define quantum curves and discrete quantum curves as pairs of differential or difference operators satisfying some equations; I describe moduli spaces of these curves.\n\n \n\n \n\n\t\t\t\t\tLast Modified: 10/31/2014\n\n\t\t\t\t\tSubmitted by: Albert Schwarz",
         null
        ]
       ],
       "shape": {
        "columns": 57,
        "rows": 5
       }
      },
      "text/html": [
       "<div>\n",
       "<style scoped>\n",
       "    .dataframe tbody tr th:only-of-type {\n",
       "        vertical-align: middle;\n",
       "    }\n",
       "\n",
       "    .dataframe tbody tr th {\n",
       "        vertical-align: top;\n",
       "    }\n",
       "\n",
       "    .dataframe thead th {\n",
       "        text-align: right;\n",
       "    }\n",
       "</style>\n",
       "<table border=\"1\" class=\"dataframe\">\n",
       "  <thead>\n",
       "    <tr style=\"text-align: right;\">\n",
       "      <th></th>\n",
       "      <th>awd_id</th>\n",
       "      <th>agcy_id</th>\n",
       "      <th>tran_type</th>\n",
       "      <th>awd_istr_txt</th>\n",
       "      <th>awd_titl_txt</th>\n",
       "      <th>cfda_num</th>\n",
       "      <th>org_code</th>\n",
       "      <th>po_phone</th>\n",
       "      <th>po_email</th>\n",
       "      <th>po_sign_block_name</th>\n",
       "      <th>...</th>\n",
       "      <th>perf_inst.perf_st_name</th>\n",
       "      <th>perf_inst.perf_zip_code</th>\n",
       "      <th>perf_inst.perf_ctry_code</th>\n",
       "      <th>perf_inst.perf_cong_dist</th>\n",
       "      <th>perf_inst.perf_st_cong_dist</th>\n",
       "      <th>perf_inst.perf_ctry_name</th>\n",
       "      <th>perf_inst.perf_ctry_flag</th>\n",
       "      <th>por.por_cntn</th>\n",
       "      <th>por.por_txt_cntn</th>\n",
       "      <th>por</th>\n",
       "    </tr>\n",
       "  </thead>\n",
       "  <tbody>\n",
       "    <tr>\n",
       "      <th>0</th>\n",
       "      <td>0415302</td>\n",
       "      <td>NSF</td>\n",
       "      <td>CoopAgrmnt</td>\n",
       "      <td>Cooperative Agreement</td>\n",
       "      <td>Advanced Technology Solar Telescope (ATST) Con...</td>\n",
       "      <td>47.049</td>\n",
       "      <td>03020000</td>\n",
       "      <td>None</td>\n",
       "      <td></td>\n",
       "      <td>David Boboltz</td>\n",
       "      <td>...</td>\n",
       "      <td>Arizona</td>\n",
       "      <td>857194933</td>\n",
       "      <td>US</td>\n",
       "      <td>07</td>\n",
       "      <td>AZ07</td>\n",
       "      <td></td>\n",
       "      <td>1</td>\n",
       "      <td>&lt;div class=\"porColContainerWBG\"&gt;\\n&lt;div class=\"...</td>\n",
       "      <td>The 4m Daniel K. Inouye Solar Telescope (DKIST...</td>\n",
       "      <td>NaN</td>\n",
       "    </tr>\n",
       "    <tr>\n",
       "      <th>1</th>\n",
       "      <td>0731599</td>\n",
       "      <td>NSF</td>\n",
       "      <td>Grant</td>\n",
       "      <td>Standard Grant</td>\n",
       "      <td>Individual - Nomination for Presidential Award...</td>\n",
       "      <td>47.076</td>\n",
       "      <td>11040300</td>\n",
       "      <td>7032927772</td>\n",
       "      <td>mjames@nsf.gov</td>\n",
       "      <td>Martha James</td>\n",
       "      <td>...</td>\n",
       "      <td>California</td>\n",
       "      <td>946075201</td>\n",
       "      <td>US</td>\n",
       "      <td>12</td>\n",
       "      <td>CA12</td>\n",
       "      <td></td>\n",
       "      <td>1</td>\n",
       "      <td>NaN</td>\n",
       "      <td>NaN</td>\n",
       "      <td>None</td>\n",
       "    </tr>\n",
       "    <tr>\n",
       "      <th>2</th>\n",
       "      <td>0804541</td>\n",
       "      <td>NSF</td>\n",
       "      <td>Grant</td>\n",
       "      <td>Standard Grant</td>\n",
       "      <td>The Geometric Background of biHamiltonian Systems</td>\n",
       "      <td>47.049</td>\n",
       "      <td>03040000</td>\n",
       "      <td>None</td>\n",
       "      <td></td>\n",
       "      <td>Christopher Stark</td>\n",
       "      <td>...</td>\n",
       "      <td>Wisconsin</td>\n",
       "      <td>537151218</td>\n",
       "      <td>US</td>\n",
       "      <td>02</td>\n",
       "      <td>WI02</td>\n",
       "      <td></td>\n",
       "      <td>1</td>\n",
       "      <td>&lt;div class=\"porColContainerWBG\"&gt;\\n&lt;div class=\"...</td>\n",
       "      <td>\\nIntellectual merits: During the last four ye...</td>\n",
       "      <td>NaN</td>\n",
       "    </tr>\n",
       "    <tr>\n",
       "      <th>3</th>\n",
       "      <td>0805878</td>\n",
       "      <td>NSF</td>\n",
       "      <td>Grant</td>\n",
       "      <td>Standard Grant</td>\n",
       "      <td>The Semiclassical Limit and Geometric Quantiza...</td>\n",
       "      <td>47.049</td>\n",
       "      <td>03040000</td>\n",
       "      <td>None</td>\n",
       "      <td></td>\n",
       "      <td>Christopher Stark</td>\n",
       "      <td>...</td>\n",
       "      <td>Michigan</td>\n",
       "      <td>481091015</td>\n",
       "      <td>US</td>\n",
       "      <td>06</td>\n",
       "      <td>MI06</td>\n",
       "      <td></td>\n",
       "      <td>1</td>\n",
       "      <td>&lt;div class=\"porColContainerWBG\"&gt;\\n&lt;div class=\"...</td>\n",
       "      <td>The research that was conducted under this awa...</td>\n",
       "      <td>NaN</td>\n",
       "    </tr>\n",
       "    <tr>\n",
       "      <th>4</th>\n",
       "      <td>0805989</td>\n",
       "      <td>NSF</td>\n",
       "      <td>Grant</td>\n",
       "      <td>Standard Grant</td>\n",
       "      <td>Application of methods of arithmetic geometry ...</td>\n",
       "      <td>47.049</td>\n",
       "      <td>03040000</td>\n",
       "      <td>None</td>\n",
       "      <td></td>\n",
       "      <td>Christopher Stark</td>\n",
       "      <td>...</td>\n",
       "      <td>California</td>\n",
       "      <td>956186153</td>\n",
       "      <td>US</td>\n",
       "      <td>04</td>\n",
       "      <td>CA04</td>\n",
       "      <td></td>\n",
       "      <td>1</td>\n",
       "      <td>&lt;div class=\"porColContainerWBG\"&gt;\\n&lt;div class=\"...</td>\n",
       "      <td>\\n  My project is an interdisciplinary project...</td>\n",
       "      <td>NaN</td>\n",
       "    </tr>\n",
       "  </tbody>\n",
       "</table>\n",
       "<p>5 rows × 57 columns</p>\n",
       "</div>"
      ],
      "text/plain": [
       "    awd_id agcy_id   tran_type           awd_istr_txt  \\\n",
       "0  0415302     NSF  CoopAgrmnt  Cooperative Agreement   \n",
       "1  0731599     NSF       Grant         Standard Grant   \n",
       "2  0804541     NSF       Grant         Standard Grant   \n",
       "3  0805878     NSF       Grant         Standard Grant   \n",
       "4  0805989     NSF       Grant         Standard Grant   \n",
       "\n",
       "                                        awd_titl_txt cfda_num  org_code  \\\n",
       "0  Advanced Technology Solar Telescope (ATST) Con...   47.049  03020000   \n",
       "1  Individual - Nomination for Presidential Award...   47.076  11040300   \n",
       "2  The Geometric Background of biHamiltonian Systems   47.049  03040000   \n",
       "3  The Semiclassical Limit and Geometric Quantiza...   47.049  03040000   \n",
       "4  Application of methods of arithmetic geometry ...   47.049  03040000   \n",
       "\n",
       "     po_phone        po_email po_sign_block_name  ... perf_inst.perf_st_name  \\\n",
       "0        None                      David Boboltz  ...                Arizona   \n",
       "1  7032927772  mjames@nsf.gov       Martha James  ...             California   \n",
       "2        None                  Christopher Stark  ...              Wisconsin   \n",
       "3        None                  Christopher Stark  ...               Michigan   \n",
       "4        None                  Christopher Stark  ...             California   \n",
       "\n",
       "  perf_inst.perf_zip_code  perf_inst.perf_ctry_code  perf_inst.perf_cong_dist  \\\n",
       "0               857194933                        US                        07   \n",
       "1               946075201                        US                        12   \n",
       "2               537151218                        US                        02   \n",
       "3               481091015                        US                        06   \n",
       "4               956186153                        US                        04   \n",
       "\n",
       "  perf_inst.perf_st_cong_dist perf_inst.perf_ctry_name  \\\n",
       "0                        AZ07                            \n",
       "1                        CA12                            \n",
       "2                        WI02                            \n",
       "3                        MI06                            \n",
       "4                        CA04                            \n",
       "\n",
       "  perf_inst.perf_ctry_flag                                       por.por_cntn  \\\n",
       "0                        1  <div class=\"porColContainerWBG\">\\n<div class=\"...   \n",
       "1                        1                                                NaN   \n",
       "2                        1  <div class=\"porColContainerWBG\">\\n<div class=\"...   \n",
       "3                        1  <div class=\"porColContainerWBG\">\\n<div class=\"...   \n",
       "4                        1  <div class=\"porColContainerWBG\">\\n<div class=\"...   \n",
       "\n",
       "                                    por.por_txt_cntn   por  \n",
       "0  The 4m Daniel K. Inouye Solar Telescope (DKIST...   NaN  \n",
       "1                                                NaN  None  \n",
       "2  \\nIntellectual merits: During the last four ye...   NaN  \n",
       "3  The research that was conducted under this awa...   NaN  \n",
       "4  \\n  My project is an interdisciplinary project...   NaN  \n",
       "\n",
       "[5 rows x 57 columns]"
      ]
     },
     "execution_count": 3,
     "metadata": {},
     "output_type": "execute_result"
    }
   ],
   "source": [
    "awards_df.head()"
   ]
  },
  {
   "cell_type": "markdown",
   "metadata": {},
   "source": [
    "### Make changes to the data structure to prepare it for this exercise"
   ]
  },
  {
   "cell_type": "code",
   "execution_count": 4,
   "metadata": {},
   "outputs": [],
   "source": [
    "# Remove most columns\n",
    "awards_df = awards_df[['awd_id', 'awd_titl_txt', 'awd_eff_date', 'awd_exp_date', 'awd_amount', 'dir_abbr', 'div_abbr', 'inst.inst_state_code']]"
   ]
  },
  {
   "cell_type": "code",
   "execution_count": 5,
   "metadata": {},
   "outputs": [],
   "source": [
    "# Fix datetime columns\n",
    "date_cols = ['awd_eff_date', 'awd_exp_date']\n",
    "awards_df[date_cols] = awards_df[date_cols].apply(pd.to_datetime)"
   ]
  },
  {
   "cell_type": "code",
   "execution_count": 6,
   "metadata": {},
   "outputs": [],
   "source": [
    "# Add an awd_year column\n",
    "awards_df['awd_year'] = awards_df['awd_eff_date'].dt.year"
   ]
  },
  {
   "cell_type": "code",
   "execution_count": 7,
   "metadata": {},
   "outputs": [],
   "source": [
    "# Rename column 'inst.inst_state_code' to 'inst_state_code'\n",
    "awards_df = awards_df.rename(columns={'inst.inst_state_code': 'inst_state_code'})"
   ]
  },
  {
   "cell_type": "markdown",
   "metadata": {},
   "source": [
    "### Make three subsets for CAREER, REU Site, and RUI awards"
   ]
  },
  {
   "cell_type": "code",
   "execution_count": 8,
   "metadata": {},
   "outputs": [],
   "source": [
    "# Filter the awards_df DataFrame for rows where the award title starts with \"CAREER:\"\n",
    "# use the .copy() method to create a new DataFrame\n",
    "# and avoid SettingWithCopyWarning\n"
   ]
  },
  {
   "cell_type": "code",
   "execution_count": 9,
   "metadata": {},
   "outputs": [],
   "source": [
    "# Filter the awards_df DataFrame for rows where the award title contains \"REU Site\"\n",
    "# use the .copy() method to create a new DataFrame\n",
    "# and avoid SettingWithCopyWarning\n"
   ]
  },
  {
   "cell_type": "code",
   "execution_count": 10,
   "metadata": {},
   "outputs": [],
   "source": [
    "# Filter the awards_df DataFrame for rows where the award title starts with \"RUI:\"\n",
    "# use the .copy() method to create a new DataFrame\n",
    "# and avoid SettingWithCopyWarning\n"
   ]
  },
  {
   "cell_type": "code",
   "execution_count": 11,
   "metadata": {},
   "outputs": [],
   "source": [
    "# Use concat to combine the dataframes back into the awards_df DataFrame\n"
   ]
  },
  {
   "cell_type": "markdown",
   "metadata": {},
   "source": [
    "## Make a summarized dataframe, grouping by awd_year and awd_type"
   ]
  },
  {
   "cell_type": "code",
   "execution_count": 12,
   "metadata": {},
   "outputs": [],
   "source": [
    "# Make a summarized version of the DataFrame\n",
    "# Drop rows with blank state codes\n",
    "# Group by state code, year, and award type\n"
   ]
  },
  {
   "cell_type": "markdown",
   "metadata": {},
   "source": [
    "## Set an index and unstack the data"
   ]
  },
  {
   "cell_type": "code",
   "execution_count": 13,
   "metadata": {},
   "outputs": [],
   "source": [
    "# Set a multi-level index using 'inst_state_code', 'awd_year', and 'awd_type'\n"
   ]
  },
  {
   "cell_type": "code",
   "execution_count": 14,
   "metadata": {},
   "outputs": [],
   "source": [
    "# Unstack the 'awd_type' level to pivot the data\n"
   ]
  },
  {
   "cell_type": "code",
   "execution_count": 15,
   "metadata": {},
   "outputs": [],
   "source": [
    "# Reset the index of the pivoted DataFrame to convert multi-level index into columns\n"
   ]
  }
 ],
 "metadata": {
  "kernelspec": {
   "display_name": "base",
   "language": "python",
   "name": "python3"
  },
  "language_info": {
   "codemirror_mode": {
    "name": "ipython",
    "version": 3
   },
   "file_extension": ".py",
   "mimetype": "text/x-python",
   "name": "python",
   "nbconvert_exporter": "python",
   "pygments_lexer": "ipython3",
   "version": "3.11.7"
  }
 },
 "nbformat": 4,
 "nbformat_minor": 4
}
