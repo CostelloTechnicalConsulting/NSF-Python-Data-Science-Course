{
 "cells": [
  {
   "cell_type": "markdown",
   "metadata": {},
   "source": [
    "# Exercise 5-5: Get data from a JSON file"
   ]
  },
  {
   "cell_type": "code",
   "execution_count": null,
   "metadata": {},
   "outputs": [],
   "source": [
    "import pandas as pd"
   ]
  },
  {
   "cell_type": "code",
   "execution_count": null,
   "metadata": {},
   "outputs": [],
   "source": [
    "awd_2335725_url = 'https://onlcfiles.blob.core.windows.net/clientfiles/NSF/data/award-2335725.json'\n",
    "from urllib import request\n",
    "request.urlretrieve(awd_2335725_url, filename='award-2335725.json')"
   ]
  },
  {
   "cell_type": "code",
   "execution_count": null,
   "metadata": {},
   "outputs": [],
   "source": [
    "import json\n",
    "with open('award-2335725.json') as json_data:\n",
    "    awd = json.load(json_data)\n",
    "\n",
    "print(awd)\n",
    "print(awd['agcy_id'])\n",
    "print(awd['pi'])\n",
    "print(awd['pi'][0]['pi_full_name'])"
   ]
  },
  {
   "cell_type": "code",
   "execution_count": null,
   "metadata": {},
   "outputs": [],
   "source": [
    "awd_df = pd.json_normalize(awd)\n",
    "\n",
    "awd_df.head()"
   ]
  }
 ],
 "metadata": {
  "kernelspec": {
   "display_name": "base",
   "language": "python",
   "name": "python3"
  },
  "language_info": {
   "codemirror_mode": {
    "name": "ipython",
    "version": 3
   },
   "file_extension": ".py",
   "mimetype": "text/x-python",
   "name": "python",
   "nbconvert_exporter": "python",
   "pygments_lexer": "ipython3",
   "version": "3.11.7"
  }
 },
 "nbformat": 4,
 "nbformat_minor": 4
}
