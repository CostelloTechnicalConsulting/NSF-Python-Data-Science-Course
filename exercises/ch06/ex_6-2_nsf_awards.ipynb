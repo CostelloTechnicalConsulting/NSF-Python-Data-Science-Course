{
 "cells": [
  {
   "cell_type": "markdown",
   "metadata": {},
   "source": [
    "# Exercise 6-2: Do more cleaning on the Awards data"
   ]
  },
  {
   "cell_type": "markdown",
   "metadata": {},
   "source": [
    "## Read the data"
   ]
  },
  {
   "cell_type": "code",
   "execution_count": 8,
   "metadata": {},
   "outputs": [],
   "source": [
    "import pandas as pd"
   ]
  },
  {
   "cell_type": "code",
   "execution_count": 9,
   "metadata": {},
   "outputs": [],
   "source": [
    "# Load the cleaned NSF awards data into a DataFrame\n",
    "# NOTE: If this fails, run the notebook from exercise 6.1 to create the file\n",
    "awards_df = pd.read_pickle(\"nsf_awards_ex61_cleaned.pkl\")"
   ]
  },
  {
   "cell_type": "code",
   "execution_count": 10,
   "metadata": {},
   "outputs": [
    {
     "data": {
      "application/vnd.microsoft.datawrangler.viewer.v0+json": {
       "columns": [
        {
         "name": "index",
         "rawType": "int64",
         "type": "integer"
        },
        {
         "name": "awd_id",
         "rawType": "int64",
         "type": "integer"
        },
        {
         "name": "agcy_id",
         "rawType": "object",
         "type": "string"
        },
        {
         "name": "title",
         "rawType": "object",
         "type": "string"
        },
        {
         "name": "cfda_num",
         "rawType": "object",
         "type": "unknown"
        },
        {
         "name": "org_code",
         "rawType": "int64",
         "type": "integer"
        },
        {
         "name": "po_phone",
         "rawType": "float64",
         "type": "float"
        },
        {
         "name": "po_email",
         "rawType": "object",
         "type": "unknown"
        },
        {
         "name": "po_sign_block_name",
         "rawType": "object",
         "type": "string"
        },
        {
         "name": "awd_eff_date",
         "rawType": "datetime64[ns]",
         "type": "datetime"
        },
        {
         "name": "awd_exp_date",
         "rawType": "datetime64[ns]",
         "type": "datetime"
        },
        {
         "name": "tot_intn_awd_amt",
         "rawType": "float64",
         "type": "float"
        },
        {
         "name": "awd_amount",
         "rawType": "float64",
         "type": "float"
        },
        {
         "name": "dir_abbr",
         "rawType": "category",
         "type": "unknown"
        },
        {
         "name": "directorate",
         "rawType": "object",
         "type": "string"
        },
        {
         "name": "div_abbr",
         "rawType": "category",
         "type": "unknown"
        },
        {
         "name": "division",
         "rawType": "object",
         "type": "string"
        },
        {
         "name": "inst_name",
         "rawType": "object",
         "type": "string"
        },
        {
         "name": "inst_street_address",
         "rawType": "object",
         "type": "string"
        },
        {
         "name": "inst_street_address_2",
         "rawType": "object",
         "type": "unknown"
        },
        {
         "name": "inst_city_name",
         "rawType": "object",
         "type": "string"
        },
        {
         "name": "inst_state_code",
         "rawType": "object",
         "type": "string"
        },
        {
         "name": "inst_phone_num",
         "rawType": "float64",
         "type": "float"
        },
        {
         "name": "inst_zip_code",
         "rawType": "object",
         "type": "string"
        },
        {
         "name": "inst_country_name",
         "rawType": "object",
         "type": "string"
        }
       ],
       "conversionMethod": "pd.DataFrame",
       "ref": "53e71bff-00f6-46d5-a58b-91333676c030",
       "rows": [
        [
         "31",
         "855351",
         "NSF",
         "Modeling Cloud Responses to Global Atmospheric Circuit Variability",
         "47.05",
         "6020105",
         null,
         null,
         "edward bensman",
         "2009-12-01 00:00:00",
         "2014-11-30 00:00:00",
         "305116.0",
         "305116.0",
         "GEO",
         "Directorate for Geosciences",
         "AGS",
         "Division of Atmospheric and Geospace Sciences",
         "University of Texas at Dallas",
         "800 WEST CAMPBELL RD.",
         "SP2.25",
         "RICHARDSON",
         "TX",
         "9728832313.0",
         "750803021",
         "United States"
        ],
        [
         "32",
         "856009",
         "NSF",
         "Materials World Network: Local Surface Chemistry and Atmospheric Corrosion of Cu-Zn Alloys",
         "47.049",
         "3070010",
         null,
         null,
         "Diana Farkas",
         "2009-12-15 00:00:00",
         "2013-11-30 00:00:00",
         "390000.0",
         "405000.0",
         "MPS",
         "Directorate for Mathematical and Physical Sciences",
         "DMR",
         "Division Of Materials Research",
         "University of Houston",
         "4300 MARTIN LUTHER KING BLVD",
         null,
         "HOUSTON",
         "TX",
         "7137435773.0",
         "772043067",
         "United States"
        ],
        [
         "58",
         "908968",
         "NSF",
         "RET Site: Nanotechnology Research Experience for Teachers",
         "47.041",
         "7050000",
         null,
         null,
         "Mary Poats",
         "2010-04-01 00:00:00",
         "2014-09-30 00:00:00",
         "350000.0",
         "350000.0",
         "ENG",
         "Directorate for Engineering",
         "EEC",
         "Division of Engineering Education and Centers",
         "William Marsh Rice University",
         "6100 MAIN ST",
         null,
         "Houston",
         "TX",
         "7133484820.0",
         "770051827",
         "United States"
        ],
        [
         "68",
         "910527",
         "NSF",
         "Study of Theoretically Interesting Molecules and Reactions",
         "47.049",
         "3090003",
         null,
         null,
         "Tyrone Mitchell",
         "2009-10-15 00:00:00",
         "2013-09-30 00:00:00",
         "600000.0",
         "600000.0",
         "MPS",
         "Directorate for Mathematical and Physical Sciences",
         "CHE",
         "Division Of Chemistry",
         "University of North Texas",
         "1112 DALLAS DR STE 4000",
         null,
         "DENTON",
         "TX",
         "9405653940.0",
         "762051132",
         "United States"
        ],
        [
         "75",
         "911317",
         "NSF",
         "Collaborative Research: Impact of Spatial and Temporal Heterogeneity of Soil Cracking on Watershed Hydrology",
         "47.05",
         "6030109",
         null,
         null,
         "Thomas Torgersen",
         "2010-04-01 00:00:00",
         "2015-03-31 00:00:00",
         "299624.0",
         "299624.0",
         "GEO",
         "Directorate for Geosciences",
         "EAR",
         "Division Of Earth Sciences",
         "Texas A&M Research Foundation",
         "400 HARVEY MITCHELL PKWY S STE 300",
         null,
         "COLLEGE STATION",
         "TX",
         "9798626777.0",
         "778454375",
         "United States"
        ]
       ],
       "shape": {
        "columns": 24,
        "rows": 5
       }
      },
      "text/html": [
       "<div>\n",
       "<style scoped>\n",
       "    .dataframe tbody tr th:only-of-type {\n",
       "        vertical-align: middle;\n",
       "    }\n",
       "\n",
       "    .dataframe tbody tr th {\n",
       "        vertical-align: top;\n",
       "    }\n",
       "\n",
       "    .dataframe thead th {\n",
       "        text-align: right;\n",
       "    }\n",
       "</style>\n",
       "<table border=\"1\" class=\"dataframe\">\n",
       "  <thead>\n",
       "    <tr style=\"text-align: right;\">\n",
       "      <th></th>\n",
       "      <th>awd_id</th>\n",
       "      <th>agcy_id</th>\n",
       "      <th>title</th>\n",
       "      <th>cfda_num</th>\n",
       "      <th>org_code</th>\n",
       "      <th>po_phone</th>\n",
       "      <th>po_email</th>\n",
       "      <th>po_sign_block_name</th>\n",
       "      <th>awd_eff_date</th>\n",
       "      <th>awd_exp_date</th>\n",
       "      <th>...</th>\n",
       "      <th>div_abbr</th>\n",
       "      <th>division</th>\n",
       "      <th>inst_name</th>\n",
       "      <th>inst_street_address</th>\n",
       "      <th>inst_street_address_2</th>\n",
       "      <th>inst_city_name</th>\n",
       "      <th>inst_state_code</th>\n",
       "      <th>inst_phone_num</th>\n",
       "      <th>inst_zip_code</th>\n",
       "      <th>inst_country_name</th>\n",
       "    </tr>\n",
       "  </thead>\n",
       "  <tbody>\n",
       "    <tr>\n",
       "      <th>31</th>\n",
       "      <td>855351</td>\n",
       "      <td>NSF</td>\n",
       "      <td>Modeling Cloud Responses to Global Atmospheric...</td>\n",
       "      <td>47.05</td>\n",
       "      <td>6020105</td>\n",
       "      <td>NaN</td>\n",
       "      <td>NaN</td>\n",
       "      <td>edward bensman</td>\n",
       "      <td>2009-12-01</td>\n",
       "      <td>2014-11-30</td>\n",
       "      <td>...</td>\n",
       "      <td>AGS</td>\n",
       "      <td>Division of Atmospheric and Geospace Sciences</td>\n",
       "      <td>University of Texas at Dallas</td>\n",
       "      <td>800 WEST CAMPBELL RD.</td>\n",
       "      <td>SP2.25</td>\n",
       "      <td>RICHARDSON</td>\n",
       "      <td>TX</td>\n",
       "      <td>9.728832e+09</td>\n",
       "      <td>750803021</td>\n",
       "      <td>United States</td>\n",
       "    </tr>\n",
       "    <tr>\n",
       "      <th>32</th>\n",
       "      <td>856009</td>\n",
       "      <td>NSF</td>\n",
       "      <td>Materials World Network: Local Surface Chemist...</td>\n",
       "      <td>47.049</td>\n",
       "      <td>3070010</td>\n",
       "      <td>NaN</td>\n",
       "      <td>NaN</td>\n",
       "      <td>Diana Farkas</td>\n",
       "      <td>2009-12-15</td>\n",
       "      <td>2013-11-30</td>\n",
       "      <td>...</td>\n",
       "      <td>DMR</td>\n",
       "      <td>Division Of Materials Research</td>\n",
       "      <td>University of Houston</td>\n",
       "      <td>4300 MARTIN LUTHER KING BLVD</td>\n",
       "      <td>NaN</td>\n",
       "      <td>HOUSTON</td>\n",
       "      <td>TX</td>\n",
       "      <td>7.137436e+09</td>\n",
       "      <td>772043067</td>\n",
       "      <td>United States</td>\n",
       "    </tr>\n",
       "    <tr>\n",
       "      <th>58</th>\n",
       "      <td>908968</td>\n",
       "      <td>NSF</td>\n",
       "      <td>RET Site: Nanotechnology Research Experience f...</td>\n",
       "      <td>47.041</td>\n",
       "      <td>7050000</td>\n",
       "      <td>NaN</td>\n",
       "      <td>NaN</td>\n",
       "      <td>Mary Poats</td>\n",
       "      <td>2010-04-01</td>\n",
       "      <td>2014-09-30</td>\n",
       "      <td>...</td>\n",
       "      <td>EEC</td>\n",
       "      <td>Division of Engineering Education and Centers</td>\n",
       "      <td>William Marsh Rice University</td>\n",
       "      <td>6100 MAIN ST</td>\n",
       "      <td>NaN</td>\n",
       "      <td>Houston</td>\n",
       "      <td>TX</td>\n",
       "      <td>7.133485e+09</td>\n",
       "      <td>770051827</td>\n",
       "      <td>United States</td>\n",
       "    </tr>\n",
       "    <tr>\n",
       "      <th>68</th>\n",
       "      <td>910527</td>\n",
       "      <td>NSF</td>\n",
       "      <td>Study of Theoretically Interesting Molecules a...</td>\n",
       "      <td>47.049</td>\n",
       "      <td>3090003</td>\n",
       "      <td>NaN</td>\n",
       "      <td>NaN</td>\n",
       "      <td>Tyrone Mitchell</td>\n",
       "      <td>2009-10-15</td>\n",
       "      <td>2013-09-30</td>\n",
       "      <td>...</td>\n",
       "      <td>CHE</td>\n",
       "      <td>Division Of Chemistry</td>\n",
       "      <td>University of North Texas</td>\n",
       "      <td>1112 DALLAS DR STE 4000</td>\n",
       "      <td>NaN</td>\n",
       "      <td>DENTON</td>\n",
       "      <td>TX</td>\n",
       "      <td>9.405654e+09</td>\n",
       "      <td>762051132</td>\n",
       "      <td>United States</td>\n",
       "    </tr>\n",
       "    <tr>\n",
       "      <th>75</th>\n",
       "      <td>911317</td>\n",
       "      <td>NSF</td>\n",
       "      <td>Collaborative Research: Impact of Spatial and ...</td>\n",
       "      <td>47.05</td>\n",
       "      <td>6030109</td>\n",
       "      <td>NaN</td>\n",
       "      <td>NaN</td>\n",
       "      <td>Thomas Torgersen</td>\n",
       "      <td>2010-04-01</td>\n",
       "      <td>2015-03-31</td>\n",
       "      <td>...</td>\n",
       "      <td>EAR</td>\n",
       "      <td>Division Of Earth Sciences</td>\n",
       "      <td>Texas A&amp;M Research Foundation</td>\n",
       "      <td>400 HARVEY MITCHELL PKWY S STE 300</td>\n",
       "      <td>NaN</td>\n",
       "      <td>COLLEGE STATION</td>\n",
       "      <td>TX</td>\n",
       "      <td>9.798627e+09</td>\n",
       "      <td>778454375</td>\n",
       "      <td>United States</td>\n",
       "    </tr>\n",
       "  </tbody>\n",
       "</table>\n",
       "<p>5 rows × 24 columns</p>\n",
       "</div>"
      ],
      "text/plain": [
       "    awd_id agcy_id                                              title  \\\n",
       "31  855351     NSF  Modeling Cloud Responses to Global Atmospheric...   \n",
       "32  856009     NSF  Materials World Network: Local Surface Chemist...   \n",
       "58  908968     NSF  RET Site: Nanotechnology Research Experience f...   \n",
       "68  910527     NSF  Study of Theoretically Interesting Molecules a...   \n",
       "75  911317     NSF  Collaborative Research: Impact of Spatial and ...   \n",
       "\n",
       "   cfda_num  org_code  po_phone po_email po_sign_block_name awd_eff_date  \\\n",
       "31    47.05   6020105       NaN      NaN     edward bensman   2009-12-01   \n",
       "32   47.049   3070010       NaN      NaN       Diana Farkas   2009-12-15   \n",
       "58   47.041   7050000       NaN      NaN         Mary Poats   2010-04-01   \n",
       "68   47.049   3090003       NaN      NaN    Tyrone Mitchell   2009-10-15   \n",
       "75    47.05   6030109       NaN      NaN   Thomas Torgersen   2010-04-01   \n",
       "\n",
       "   awd_exp_date  ...  div_abbr                                       division  \\\n",
       "31   2014-11-30  ...       AGS  Division of Atmospheric and Geospace Sciences   \n",
       "32   2013-11-30  ...       DMR                 Division Of Materials Research   \n",
       "58   2014-09-30  ...       EEC  Division of Engineering Education and Centers   \n",
       "68   2013-09-30  ...       CHE                          Division Of Chemistry   \n",
       "75   2015-03-31  ...       EAR                     Division Of Earth Sciences   \n",
       "\n",
       "                        inst_name                 inst_street_address  \\\n",
       "31  University of Texas at Dallas               800 WEST CAMPBELL RD.   \n",
       "32          University of Houston        4300 MARTIN LUTHER KING BLVD   \n",
       "58  William Marsh Rice University                        6100 MAIN ST   \n",
       "68      University of North Texas             1112 DALLAS DR STE 4000   \n",
       "75  Texas A&M Research Foundation  400 HARVEY MITCHELL PKWY S STE 300   \n",
       "\n",
       "   inst_street_address_2   inst_city_name inst_state_code inst_phone_num  \\\n",
       "31                SP2.25       RICHARDSON              TX   9.728832e+09   \n",
       "32                   NaN          HOUSTON              TX   7.137436e+09   \n",
       "58                   NaN          Houston              TX   7.133485e+09   \n",
       "68                   NaN           DENTON              TX   9.405654e+09   \n",
       "75                   NaN  COLLEGE STATION              TX   9.798627e+09   \n",
       "\n",
       "   inst_zip_code inst_country_name  \n",
       "31     750803021     United States  \n",
       "32     772043067     United States  \n",
       "58     770051827     United States  \n",
       "68     762051132     United States  \n",
       "75     778454375     United States  \n",
       "\n",
       "[5 rows x 24 columns]"
      ]
     },
     "execution_count": 10,
     "metadata": {},
     "output_type": "execute_result"
    }
   ],
   "source": [
    "# Display the first few rows of the DataFrame\n",
    "awards_df.head()"
   ]
  },
  {
   "cell_type": "markdown",
   "metadata": {},
   "source": [
    "## Examine the data"
   ]
  },
  {
   "cell_type": "code",
   "execution_count": 11,
   "metadata": {},
   "outputs": [],
   "source": [
    "# Display information about the awards_df DataFrame, including column data types and non-null counts\n"
   ]
  },
  {
   "cell_type": "code",
   "execution_count": 12,
   "metadata": {},
   "outputs": [],
   "source": [
    "# Count the occurrences of each unique value in the 'directorate' column\n"
   ]
  },
  {
   "cell_type": "code",
   "execution_count": 13,
   "metadata": {},
   "outputs": [],
   "source": [
    "# Display unique values in the 'inst_city_name' column\n"
   ]
  },
  {
   "cell_type": "markdown",
   "metadata": {},
   "source": [
    "## Fix spelling and capitalization problems in the data"
   ]
  },
  {
   "cell_type": "code",
   "execution_count": 14,
   "metadata": {},
   "outputs": [],
   "source": [
    "# Set contents of all columns with 'inst_' prefix to title case\n",
    "\n",
    "\n",
    "# But actually, put inst_state_code back to upper case :-)\n"
   ]
  },
  {
   "cell_type": "code",
   "execution_count": 15,
   "metadata": {},
   "outputs": [],
   "source": [
    "# Check unique values in the 'inst_city_name' column again\n"
   ]
  },
  {
   "cell_type": "code",
   "execution_count": 16,
   "metadata": {},
   "outputs": [],
   "source": [
    "# Check unique values in the 'inst_state_code' column\n"
   ]
  },
  {
   "cell_type": "code",
   "execution_count": 17,
   "metadata": {},
   "outputs": [],
   "source": [
    "# Investigate the unique values in the 'inst_street_address' column\n"
   ]
  },
  {
   "cell_type": "code",
   "execution_count": 18,
   "metadata": {},
   "outputs": [],
   "source": [
    "# Replace specific abbreviations in the 'inst_street_address' column with standardized forms\n",
    "# For example, 'St.' becomes 'St', 'Rd.' becomes 'Rd', etc. \n",
    "# NOTE: This is a simplified example; you may need to adjust the replacements based on your data\n",
    "abbreviations = {\n",
    "    'St.': 'St',\n",
    "    'Rd.': 'Rd',\n",
    "    'Ave.': 'Ave',\n",
    "    'Blvd.': 'Blvd',\n",
    "    'Dr.': 'Dr',\n",
    "    'Pkwy.': 'Pkwy',\n",
    "    'Cir.': 'Cir',\n",
    "    'Ct.': 'Ct',\n",
    "    'Pl.': 'Pl'\n",
    "}\n"
   ]
  },
  {
   "cell_type": "code",
   "execution_count": 19,
   "metadata": {},
   "outputs": [],
   "source": [
    "# Create a new column 'inst_full_address' by concatenating the street address, city name, state code, and zip code\n"
   ]
  },
  {
   "cell_type": "code",
   "execution_count": 20,
   "metadata": {},
   "outputs": [],
   "source": [
    "# Display the first 5 rows of the awards DataFrame\n"
   ]
  },
  {
   "cell_type": "code",
   "execution_count": 21,
   "metadata": {},
   "outputs": [],
   "source": [
    "# Write the cleaned DataFrame to a new pickle file\n",
    "# awards_df.to_pickle(\"nsf_awards_ex62_cleaned.pkl\")"
   ]
  }
 ],
 "metadata": {
  "kernelspec": {
   "display_name": "base",
   "language": "python",
   "name": "python3"
  },
  "language_info": {
   "codemirror_mode": {
    "name": "ipython",
    "version": 3
   },
   "file_extension": ".py",
   "mimetype": "text/x-python",
   "name": "python",
   "nbconvert_exporter": "python",
   "pygments_lexer": "ipython3",
   "version": "3.11.7"
  }
 },
 "nbformat": 4,
 "nbformat_minor": 4
}
