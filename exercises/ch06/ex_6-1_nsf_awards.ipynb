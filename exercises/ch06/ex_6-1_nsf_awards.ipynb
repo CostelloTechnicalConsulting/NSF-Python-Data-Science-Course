{
 "cells": [
  {
   "cell_type": "markdown",
   "metadata": {},
   "source": [
    "# Exercise 6-1: Clean the Awards data"
   ]
  },
  {
   "cell_type": "markdown",
   "metadata": {},
   "source": [
    "## Read the data"
   ]
  },
  {
   "cell_type": "code",
   "execution_count": 1,
   "metadata": {},
   "outputs": [],
   "source": [
    "import pandas as pd"
   ]
  },
  {
   "cell_type": "code",
   "execution_count": 2,
   "metadata": {},
   "outputs": [
    {
     "name": "stderr",
     "output_type": "stream",
     "text": [
      "C:\\Users\\dan\\AppData\\Local\\Temp\\ipykernel_16808\\756036033.py:2: DtypeWarning: Columns (5) have mixed types. Specify dtype option on import or set low_memory=False.\n",
      "  awards_df = pd.read_csv(awd_url)\n"
     ]
    }
   ],
   "source": [
    "awd_url = 'https://onlcfiles.blob.core.windows.net/clientfiles/NSF/nsf-awards-2010-2025.csv'\n",
    "awards_df = pd.read_csv(awd_url)"
   ]
  },
  {
   "cell_type": "markdown",
   "metadata": {},
   "source": [
    "## Examine the data"
   ]
  },
  {
   "cell_type": "code",
   "execution_count": 3,
   "metadata": {},
   "outputs": [],
   "source": [
    "# Display a concise summary of the awards DataFrame\n"
   ]
  },
  {
   "cell_type": "code",
   "execution_count": 4,
   "metadata": {},
   "outputs": [],
   "source": [
    "# Display the number of unique values for each column in the awards DataFrame\n"
   ]
  },
  {
   "cell_type": "markdown",
   "metadata": {},
   "source": [
    "## Drop columns and rows"
   ]
  },
  {
   "cell_type": "code",
   "execution_count": null,
   "metadata": {},
   "outputs": [],
   "source": [
    "# Filter the awards DataFrame to include only rows where the tran_type is \"Grant\"\n"
   ]
  },
  {
   "cell_type": "code",
   "execution_count": 6,
   "metadata": {},
   "outputs": [],
   "source": [
    "# Display the number of unique values for each column in the awards DataFrame\n"
   ]
  },
  {
   "cell_type": "code",
   "execution_count": 7,
   "metadata": {},
   "outputs": [],
   "source": [
    "# Drop unnecessary columns from the awards DataFrame to reduce its size and focus on relevant data\n",
    "# For convenience, here is a list of columns to drop:\n",
    "columns_to_drop=['tran_type', 'awd_istr_txt', 'awd_min_amd_letter_date', 'awd_max_amd_letter_date', \\\n",
    "                              'awd_arra_amount', 'fund_agcy_code', 'inst.inst_state_name', 'inst.cong_dist_code', \\\n",
    "                              'inst.st_cong_dist_code', 'inst.org_lgl_bus_name', 'inst.org_prnt_uei_num', 'inst.org_uei_num', \\\n",
    "                              'perf_inst.perf_inst_name', 'perf_inst.perf_str_addr', 'perf_inst.perf_city_name', \\\n",
    "                              'perf_inst.perf_st_code', 'perf_inst.perf_st_name', 'perf_inst.perf_zip_code', \\\n",
    "                              'perf_inst.perf_ctry_code', 'perf_inst.perf_cong_dist', 'perf_inst.perf_st_cong_dist', \\\n",
    "                              'perf_inst.perf_ctry_name', 'perf_inst.perf_ctry_flag', 'awd_agcy_code']"
   ]
  },
  {
   "cell_type": "code",
   "execution_count": 8,
   "metadata": {},
   "outputs": [],
   "source": [
    "# Filter the awards DataFrame to include only rows where the institution's state code is \"TX\"\n"
   ]
  },
  {
   "cell_type": "code",
   "execution_count": 9,
   "metadata": {},
   "outputs": [],
   "source": [
    "# Display the number of unique values for each column in the awards DataFrame\n"
   ]
  },
  {
   "cell_type": "markdown",
   "metadata": {},
   "source": [
    "## Rename some columns"
   ]
  },
  {
   "cell_type": "code",
   "execution_count": 10,
   "metadata": {},
   "outputs": [],
   "source": [
    "# Rename columns in the awards DataFrame using the column_names_dict dictionary\n"
   ]
  },
  {
   "cell_type": "code",
   "execution_count": null,
   "metadata": {},
   "outputs": [],
   "source": [
    "# Remove \"inst.\" prefixes from column names\n"
   ]
  },
  {
   "cell_type": "markdown",
   "metadata": {},
   "source": [
    "## Fix data types"
   ]
  },
  {
   "cell_type": "code",
   "execution_count": 11,
   "metadata": {},
   "outputs": [],
   "source": [
    "# awards.info()"
   ]
  },
  {
   "cell_type": "code",
   "execution_count": 12,
   "metadata": {},
   "outputs": [],
   "source": [
    "# create a list of columns that should be datetimes\n"
   ]
  },
  {
   "cell_type": "code",
   "execution_count": 13,
   "metadata": {},
   "outputs": [],
   "source": [
    "# Convert the columns in the date_cols list to datetime format\n"
   ]
  },
  {
   "cell_type": "code",
   "execution_count": 14,
   "metadata": {},
   "outputs": [],
   "source": [
    "# Convert the 'dir_abbr' and 'div_abbr' columns to categorical data types\n"
   ]
  },
  {
   "cell_type": "code",
   "execution_count": 15,
   "metadata": {},
   "outputs": [],
   "source": [
    "# Call awards.info() to display a concise summary of the awards DataFrame\n"
   ]
  },
  {
   "cell_type": "code",
   "execution_count": 16,
   "metadata": {},
   "outputs": [],
   "source": [
    "# View the resulting DataFrame\n"
   ]
  },
  {
   "cell_type": "code",
   "execution_count": null,
   "metadata": {},
   "outputs": [],
   "source": [
    "# Write the dataframe to a pickle file to prepare for the next exercise\n",
    "awards_df.to_pickle('nsf_awards_ex61_cleaned.pkl')\n"
   ]
  }
 ],
 "metadata": {
  "kernelspec": {
   "display_name": "base",
   "language": "python",
   "name": "python3"
  },
  "language_info": {
   "codemirror_mode": {
    "name": "ipython",
    "version": 3
   },
   "file_extension": ".py",
   "mimetype": "text/x-python",
   "name": "python",
   "nbconvert_exporter": "python",
   "pygments_lexer": "ipython3",
   "version": "3.11.7"
  }
 },
 "nbformat": 4,
 "nbformat_minor": 4
}
