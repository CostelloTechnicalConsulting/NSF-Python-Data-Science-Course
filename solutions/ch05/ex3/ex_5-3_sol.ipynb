{
 "cells": [
  {
   "cell_type": "markdown",
   "metadata": {},
   "source": [
    "# Exercise 5-3\tGet data from a database"
   ]
  },
  {
   "cell_type": "code",
   "execution_count": 5,
   "metadata": {},
   "outputs": [],
   "source": [
    "import pandas as pd\n",
    "\n",
    "data_dir = '../../../data'"
   ]
  },
  {
   "cell_type": "code",
   "execution_count": 3,
   "metadata": {},
   "outputs": [],
   "source": [
    "nsf_awd_sqlite_url = 'https://onlcfiles.blob.core.windows.net/clientfiles/NSF/data/nsf_awards_sqlite.zip'"
   ]
  },
  {
   "cell_type": "code",
   "execution_count": 6,
   "metadata": {},
   "outputs": [
    {
     "data": {
      "text/plain": [
       "('../../../data/nsf_awards_sqlite.zip',\n",
       " <http.client.HTTPMessage at 0x1e817f9ad10>)"
      ]
     },
     "execution_count": 6,
     "metadata": {},
     "output_type": "execute_result"
    }
   ],
   "source": [
    "from urllib import request\n",
    "request.urlretrieve(nsf_awd_sqlite_url, filename=f'{data_dir}/nsf_awards_sqlite.zip')"
   ]
  },
  {
   "cell_type": "code",
   "execution_count": 12,
   "metadata": {},
   "outputs": [
    {
     "name": "stdout",
     "output_type": "stream",
     "text": [
      "nsf_awards.db 48783223 176979968\n"
     ]
    }
   ],
   "source": [
    "from zipfile import ZipFile\n",
    "with ZipFile(f'{data_dir}/nsf_awards_sqlite.zip', mode='r') as zip:\n",
    "    zip.extractall(path=f'{data_dir}/')\n",
    "    for file in zip.infolist():\n",
    "       print(file.filename, file.compress_size, file.file_size)"
   ]
  },
  {
   "cell_type": "markdown",
   "metadata": {},
   "source": [
    "## Run queries against the database"
   ]
  },
  {
   "cell_type": "code",
   "execution_count": 19,
   "metadata": {},
   "outputs": [
    {
     "data": {
      "text/plain": [
       "[('awards',),\n",
       " ('pi',),\n",
       " ('pgm_ele',),\n",
       " ('pgm_ref',),\n",
       " ('app_fund',),\n",
       " ('oblg_fy',),\n",
       " ('awd_pi',),\n",
       " ('awd_pgm_ele',),\n",
       " ('awd_pgm_ref',)]"
      ]
     },
     "execution_count": 19,
     "metadata": {},
     "output_type": "execute_result"
    }
   ],
   "source": [
    "import sqlite3\n",
    "awd_con = sqlite3.connect(f'{data_dir}/nsf_awards.db')\n",
    "awd_cur = awd_con.cursor()\n",
    "awd_cur.execute(\n",
    "    'SELECT name FROM sqlite_master WHERE type=\"table\"').fetchall()"
   ]
  },
  {
   "cell_type": "code",
   "execution_count": 14,
   "metadata": {},
   "outputs": [
    {
     "data": {
      "text/plain": [
       "[(0, 'awd_id', 'TEXT', 0, None, 0),\n",
       " (1, 'agcy_id', 'TEXT', 0, None, 0),\n",
       " (2, 'tran_type', 'TEXT', 0, None, 0),\n",
       " (3, 'awd_istr_txt', 'TEXT', 0, None, 0),\n",
       " (4, 'awd_titl_txt', 'TEXT', 0, None, 0),\n",
       " (5, 'cfda_num', 'TEXT', 0, None, 0),\n",
       " (6, 'org_code', 'TEXT', 0, None, 0),\n",
       " (7, 'po_phone', 'TEXT', 0, None, 0),\n",
       " (8, 'po_email', 'TEXT', 0, None, 0),\n",
       " (9, 'po_sign_block_name', 'TEXT', 0, None, 0),\n",
       " (10, 'awd_eff_date', 'TIMESTAMP', 0, None, 0),\n",
       " (11, 'awd_exp_date', 'TIMESTAMP', 0, None, 0),\n",
       " (12, 'tot_intn_awd_amt', 'REAL', 0, None, 0),\n",
       " (13, 'awd_amount', 'REAL', 0, None, 0),\n",
       " (14, 'awd_min_amd_letter_date', 'TIMESTAMP', 0, None, 0),\n",
       " (15, 'awd_max_amd_letter_date', 'TIMESTAMP', 0, None, 0),\n",
       " (16, 'awd_arra_amount', 'REAL', 0, None, 0),\n",
       " (17, 'dir_abbr', 'TEXT', 0, None, 0),\n",
       " (18, 'org_dir_long_name', 'TEXT', 0, None, 0),\n",
       " (19, 'div_abbr', 'TEXT', 0, None, 0),\n",
       " (20, 'org_div_long_name', 'TEXT', 0, None, 0),\n",
       " (21, 'awd_agcy_code', 'TEXT', 0, None, 0),\n",
       " (22, 'fund_agcy_code', 'TEXT', 0, None, 0),\n",
       " (23, 'inst.inst_name', 'TEXT', 0, None, 0),\n",
       " (24, 'inst.inst_street_address', 'TEXT', 0, None, 0),\n",
       " (25, 'inst.inst_street_address_2', 'TEXT', 0, None, 0),\n",
       " (26, 'inst.inst_city_name', 'TEXT', 0, None, 0),\n",
       " (27, 'inst.inst_state_code', 'TEXT', 0, None, 0),\n",
       " (28, 'inst.inst_state_name', 'TEXT', 0, None, 0),\n",
       " (29, 'inst.inst_phone_num', 'TEXT', 0, None, 0),\n",
       " (30, 'inst.inst_zip_code', 'TEXT', 0, None, 0),\n",
       " (31, 'inst.inst_country_name', 'TEXT', 0, None, 0),\n",
       " (32, 'inst.cong_dist_code', 'TEXT', 0, None, 0),\n",
       " (33, 'inst.st_cong_dist_code', 'TEXT', 0, None, 0),\n",
       " (34, 'inst.org_lgl_bus_name', 'TEXT', 0, None, 0),\n",
       " (35, 'inst.org_prnt_uei_num', 'TEXT', 0, None, 0),\n",
       " (36, 'inst.org_uei_num', 'TEXT', 0, None, 0),\n",
       " (37, 'perf_inst.perf_inst_name', 'TEXT', 0, None, 0),\n",
       " (38, 'perf_inst.perf_str_addr', 'TEXT', 0, None, 0),\n",
       " (39, 'perf_inst.perf_city_name', 'TEXT', 0, None, 0),\n",
       " (40, 'perf_inst.perf_st_code', 'TEXT', 0, None, 0),\n",
       " (41, 'perf_inst.perf_st_name', 'TEXT', 0, None, 0),\n",
       " (42, 'perf_inst.perf_zip_code', 'TEXT', 0, None, 0),\n",
       " (43, 'perf_inst.perf_ctry_code', 'TEXT', 0, None, 0),\n",
       " (44, 'perf_inst.perf_cong_dist', 'TEXT', 0, None, 0),\n",
       " (45, 'perf_inst.perf_st_cong_dist', 'TEXT', 0, None, 0),\n",
       " (46, 'perf_inst.perf_ctry_name', 'TEXT', 0, None, 0),\n",
       " (47, 'perf_inst.perf_ctry_flag', 'TEXT', 0, None, 0)]"
      ]
     },
     "execution_count": 14,
     "metadata": {},
     "output_type": "execute_result"
    }
   ],
   "source": [
    "awd_cur.execute('PRAGMA table_info(awards)').fetchall()"
   ]
  },
  {
   "cell_type": "markdown",
   "metadata": {},
   "source": [
    "## Read a SQL query into a DataFrame"
   ]
  },
  {
   "cell_type": "code",
   "execution_count": 15,
   "metadata": {},
   "outputs": [],
   "source": [
    "awds_sql_df = pd.read_sql_query(\n",
    "    '''SELECT a.awd_titl_txt, a.dir_abbr, a.div_abbr,\n",
    "    p.pi_full_name\n",
    "    FROM awards a\n",
    "    JOIN awd_pi ap ON a.awd_id=ap.awd_id\n",
    "    JOIN pi p ON ap.nsf_id=p.nsf_id''', awd_con)"
   ]
  },
  {
   "cell_type": "code",
   "execution_count": 17,
   "metadata": {},
   "outputs": [
    {
     "data": {
      "application/vnd.microsoft.datawrangler.viewer.v0+json": {
       "columns": [
        {
         "name": "index",
         "rawType": "int64",
         "type": "integer"
        },
        {
         "name": "awd_titl_txt",
         "rawType": "object",
         "type": "string"
        },
        {
         "name": "dir_abbr",
         "rawType": "object",
         "type": "string"
        },
        {
         "name": "div_abbr",
         "rawType": "object",
         "type": "string"
        },
        {
         "name": "pi_full_name",
         "rawType": "object",
         "type": "string"
        }
       ],
       "conversionMethod": "pd.DataFrame",
       "ref": "ae8a649c-5b14-4549-90b0-43438b1f7476",
       "rows": [
        [
         "0",
         "Advanced Technology Solar Telescope (ATST) Construction under the American Recovery and Reinvestment Act of 2009 (ARRA)",
         "MPS",
         "AST",
         "Michael T Knoelker"
        ],
        [
         "1",
         "Advanced Technology Solar Telescope (ATST) Construction under the American Recovery and Reinvestment Act of 2009 (ARRA)",
         "MPS",
         "AST",
         "Stephen L Keil"
        ],
        [
         "2",
         "Advanced Technology Solar Telescope (ATST) Construction under the American Recovery and Reinvestment Act of 2009 (ARRA)",
         "MPS",
         "AST",
         "Robert Rosner"
        ],
        [
         "3",
         "Advanced Technology Solar Telescope (ATST) Construction under the American Recovery and Reinvestment Act of 2009 (ARRA)",
         "MPS",
         "AST",
         "Jeffrey R Kuhn"
        ],
        [
         "4",
         "Advanced Technology Solar Telescope (ATST) Construction under the American Recovery and Reinvestment Act of 2009 (ARRA)",
         "MPS",
         "AST",
         "William S Smith"
        ],
        [
         "5",
         "Advanced Technology Solar Telescope (ATST) Construction under the American Recovery and Reinvestment Act of 2009 (ARRA)",
         "MPS",
         "AST",
         "Thomas R Rimmele"
        ],
        [
         "6",
         "Advanced Technology Solar Telescope (ATST) Construction under the American Recovery and Reinvestment Act of 2009 (ARRA)",
         "MPS",
         "AST",
         "Philip Goode"
        ],
        [
         "7",
         "Advanced Technology Solar Telescope (ATST) Construction under the American Recovery and Reinvestment Act of 2009 (ARRA)",
         "MPS",
         "AST",
         "Charles Mattias Mountain"
        ],
        [
         "8",
         "Individual - Nomination for Presidential Award for Excellence in Scientific Mentoring",
         "EDU",
         "DUE",
         "Kennedy Reed"
        ],
        [
         "9",
         "The Geometric Background of biHamiltonian Systems",
         "MPS",
         "DMS",
         "Gloria Mari-Beffa"
        ],
        [
         "10",
         "The Semiclassical Limit and Geometric Quantization",
         "MPS",
         "DMS",
         "Alejandro Uribe"
        ],
        [
         "11",
         "Application of methods of arithmetic geometry and homological algebra to quantum field theory and string theory",
         "MPS",
         "DMS",
         "Albert Schwarz"
        ],
        [
         "12",
         "Collaborative Research: Cool Robot to support Greenland science campaigns",
         "GEO",
         "OPP",
         "Jack E Dibb"
        ],
        [
         "13",
         "Collaborative Research: Cool Robot to support Greenland science campaigns",
         "GEO",
         "OPP",
         "Laura E Ray"
        ],
        [
         "14",
         "Collaborative Research: Cool Robot to support Greenland science campaigns",
         "GEO",
         "OPP",
         "James Lever"
        ],
        [
         "15",
         "Collaborative Research: Cool Robot to support Greenland science campaigns",
         "GEO",
         "OPP",
         "Mary R Albert"
        ],
        [
         "16",
         "IMR: Phase Ib Energy Recovery Linac (ERL) Technology R&D",
         "MPS",
         "DMR",
         "Matthias U Liepe"
        ],
        [
         "17",
         "IMR: Phase Ib Energy Recovery Linac (ERL) Technology R&D",
         "MPS",
         "DMR",
         "Ivan V Bazarov"
        ],
        [
         "18",
         "IMR: Phase Ib Energy Recovery Linac (ERL) Technology R&D",
         "MPS",
         "DMR",
         "Sol M Gruner"
        ],
        [
         "19",
         "IMR: Phase Ib Energy Recovery Linac (ERL) Technology R&D",
         "MPS",
         "DMR",
         "Joel D Brock"
        ]
       ],
       "shape": {
        "columns": 4,
        "rows": 20
       }
      },
      "text/html": [
       "<div>\n",
       "<style scoped>\n",
       "    .dataframe tbody tr th:only-of-type {\n",
       "        vertical-align: middle;\n",
       "    }\n",
       "\n",
       "    .dataframe tbody tr th {\n",
       "        vertical-align: top;\n",
       "    }\n",
       "\n",
       "    .dataframe thead th {\n",
       "        text-align: right;\n",
       "    }\n",
       "</style>\n",
       "<table border=\"1\" class=\"dataframe\">\n",
       "  <thead>\n",
       "    <tr style=\"text-align: right;\">\n",
       "      <th></th>\n",
       "      <th>awd_titl_txt</th>\n",
       "      <th>dir_abbr</th>\n",
       "      <th>div_abbr</th>\n",
       "      <th>pi_full_name</th>\n",
       "    </tr>\n",
       "  </thead>\n",
       "  <tbody>\n",
       "    <tr>\n",
       "      <th>0</th>\n",
       "      <td>Advanced Technology Solar Telescope (ATST) Con...</td>\n",
       "      <td>MPS</td>\n",
       "      <td>AST</td>\n",
       "      <td>Michael T Knoelker</td>\n",
       "    </tr>\n",
       "    <tr>\n",
       "      <th>1</th>\n",
       "      <td>Advanced Technology Solar Telescope (ATST) Con...</td>\n",
       "      <td>MPS</td>\n",
       "      <td>AST</td>\n",
       "      <td>Stephen L Keil</td>\n",
       "    </tr>\n",
       "    <tr>\n",
       "      <th>2</th>\n",
       "      <td>Advanced Technology Solar Telescope (ATST) Con...</td>\n",
       "      <td>MPS</td>\n",
       "      <td>AST</td>\n",
       "      <td>Robert Rosner</td>\n",
       "    </tr>\n",
       "    <tr>\n",
       "      <th>3</th>\n",
       "      <td>Advanced Technology Solar Telescope (ATST) Con...</td>\n",
       "      <td>MPS</td>\n",
       "      <td>AST</td>\n",
       "      <td>Jeffrey R Kuhn</td>\n",
       "    </tr>\n",
       "    <tr>\n",
       "      <th>4</th>\n",
       "      <td>Advanced Technology Solar Telescope (ATST) Con...</td>\n",
       "      <td>MPS</td>\n",
       "      <td>AST</td>\n",
       "      <td>William S Smith</td>\n",
       "    </tr>\n",
       "    <tr>\n",
       "      <th>5</th>\n",
       "      <td>Advanced Technology Solar Telescope (ATST) Con...</td>\n",
       "      <td>MPS</td>\n",
       "      <td>AST</td>\n",
       "      <td>Thomas R Rimmele</td>\n",
       "    </tr>\n",
       "    <tr>\n",
       "      <th>6</th>\n",
       "      <td>Advanced Technology Solar Telescope (ATST) Con...</td>\n",
       "      <td>MPS</td>\n",
       "      <td>AST</td>\n",
       "      <td>Philip Goode</td>\n",
       "    </tr>\n",
       "    <tr>\n",
       "      <th>7</th>\n",
       "      <td>Advanced Technology Solar Telescope (ATST) Con...</td>\n",
       "      <td>MPS</td>\n",
       "      <td>AST</td>\n",
       "      <td>Charles Mattias Mountain</td>\n",
       "    </tr>\n",
       "    <tr>\n",
       "      <th>8</th>\n",
       "      <td>Individual - Nomination for Presidential Award...</td>\n",
       "      <td>EDU</td>\n",
       "      <td>DUE</td>\n",
       "      <td>Kennedy Reed</td>\n",
       "    </tr>\n",
       "    <tr>\n",
       "      <th>9</th>\n",
       "      <td>The Geometric Background of biHamiltonian Systems</td>\n",
       "      <td>MPS</td>\n",
       "      <td>DMS</td>\n",
       "      <td>Gloria Mari-Beffa</td>\n",
       "    </tr>\n",
       "    <tr>\n",
       "      <th>10</th>\n",
       "      <td>The Semiclassical Limit and Geometric Quantiza...</td>\n",
       "      <td>MPS</td>\n",
       "      <td>DMS</td>\n",
       "      <td>Alejandro Uribe</td>\n",
       "    </tr>\n",
       "    <tr>\n",
       "      <th>11</th>\n",
       "      <td>Application of methods of arithmetic geometry ...</td>\n",
       "      <td>MPS</td>\n",
       "      <td>DMS</td>\n",
       "      <td>Albert Schwarz</td>\n",
       "    </tr>\n",
       "    <tr>\n",
       "      <th>12</th>\n",
       "      <td>Collaborative Research: Cool Robot to support ...</td>\n",
       "      <td>GEO</td>\n",
       "      <td>OPP</td>\n",
       "      <td>Jack E Dibb</td>\n",
       "    </tr>\n",
       "    <tr>\n",
       "      <th>13</th>\n",
       "      <td>Collaborative Research: Cool Robot to support ...</td>\n",
       "      <td>GEO</td>\n",
       "      <td>OPP</td>\n",
       "      <td>Laura E Ray</td>\n",
       "    </tr>\n",
       "    <tr>\n",
       "      <th>14</th>\n",
       "      <td>Collaborative Research: Cool Robot to support ...</td>\n",
       "      <td>GEO</td>\n",
       "      <td>OPP</td>\n",
       "      <td>James Lever</td>\n",
       "    </tr>\n",
       "    <tr>\n",
       "      <th>15</th>\n",
       "      <td>Collaborative Research: Cool Robot to support ...</td>\n",
       "      <td>GEO</td>\n",
       "      <td>OPP</td>\n",
       "      <td>Mary R Albert</td>\n",
       "    </tr>\n",
       "    <tr>\n",
       "      <th>16</th>\n",
       "      <td>IMR: Phase Ib Energy Recovery Linac (ERL) Tech...</td>\n",
       "      <td>MPS</td>\n",
       "      <td>DMR</td>\n",
       "      <td>Matthias U Liepe</td>\n",
       "    </tr>\n",
       "    <tr>\n",
       "      <th>17</th>\n",
       "      <td>IMR: Phase Ib Energy Recovery Linac (ERL) Tech...</td>\n",
       "      <td>MPS</td>\n",
       "      <td>DMR</td>\n",
       "      <td>Ivan V Bazarov</td>\n",
       "    </tr>\n",
       "    <tr>\n",
       "      <th>18</th>\n",
       "      <td>IMR: Phase Ib Energy Recovery Linac (ERL) Tech...</td>\n",
       "      <td>MPS</td>\n",
       "      <td>DMR</td>\n",
       "      <td>Sol M Gruner</td>\n",
       "    </tr>\n",
       "    <tr>\n",
       "      <th>19</th>\n",
       "      <td>IMR: Phase Ib Energy Recovery Linac (ERL) Tech...</td>\n",
       "      <td>MPS</td>\n",
       "      <td>DMR</td>\n",
       "      <td>Joel D Brock</td>\n",
       "    </tr>\n",
       "  </tbody>\n",
       "</table>\n",
       "</div>"
      ],
      "text/plain": [
       "                                         awd_titl_txt dir_abbr div_abbr  \\\n",
       "0   Advanced Technology Solar Telescope (ATST) Con...      MPS      AST   \n",
       "1   Advanced Technology Solar Telescope (ATST) Con...      MPS      AST   \n",
       "2   Advanced Technology Solar Telescope (ATST) Con...      MPS      AST   \n",
       "3   Advanced Technology Solar Telescope (ATST) Con...      MPS      AST   \n",
       "4   Advanced Technology Solar Telescope (ATST) Con...      MPS      AST   \n",
       "5   Advanced Technology Solar Telescope (ATST) Con...      MPS      AST   \n",
       "6   Advanced Technology Solar Telescope (ATST) Con...      MPS      AST   \n",
       "7   Advanced Technology Solar Telescope (ATST) Con...      MPS      AST   \n",
       "8   Individual - Nomination for Presidential Award...      EDU      DUE   \n",
       "9   The Geometric Background of biHamiltonian Systems      MPS      DMS   \n",
       "10  The Semiclassical Limit and Geometric Quantiza...      MPS      DMS   \n",
       "11  Application of methods of arithmetic geometry ...      MPS      DMS   \n",
       "12  Collaborative Research: Cool Robot to support ...      GEO      OPP   \n",
       "13  Collaborative Research: Cool Robot to support ...      GEO      OPP   \n",
       "14  Collaborative Research: Cool Robot to support ...      GEO      OPP   \n",
       "15  Collaborative Research: Cool Robot to support ...      GEO      OPP   \n",
       "16  IMR: Phase Ib Energy Recovery Linac (ERL) Tech...      MPS      DMR   \n",
       "17  IMR: Phase Ib Energy Recovery Linac (ERL) Tech...      MPS      DMR   \n",
       "18  IMR: Phase Ib Energy Recovery Linac (ERL) Tech...      MPS      DMR   \n",
       "19  IMR: Phase Ib Energy Recovery Linac (ERL) Tech...      MPS      DMR   \n",
       "\n",
       "                pi_full_name  \n",
       "0         Michael T Knoelker  \n",
       "1             Stephen L Keil  \n",
       "2              Robert Rosner  \n",
       "3             Jeffrey R Kuhn  \n",
       "4            William S Smith  \n",
       "5           Thomas R Rimmele  \n",
       "6               Philip Goode  \n",
       "7   Charles Mattias Mountain  \n",
       "8               Kennedy Reed  \n",
       "9          Gloria Mari-Beffa  \n",
       "10           Alejandro Uribe  \n",
       "11            Albert Schwarz  \n",
       "12               Jack E Dibb  \n",
       "13               Laura E Ray  \n",
       "14               James Lever  \n",
       "15             Mary R Albert  \n",
       "16          Matthias U Liepe  \n",
       "17            Ivan V Bazarov  \n",
       "18              Sol M Gruner  \n",
       "19              Joel D Brock  "
      ]
     },
     "execution_count": 17,
     "metadata": {},
     "output_type": "execute_result"
    }
   ],
   "source": [
    "awds_sql_df.head(20)"
   ]
  },
  {
   "cell_type": "code",
   "execution_count": 18,
   "metadata": {},
   "outputs": [
    {
     "name": "stdout",
     "output_type": "stream",
     "text": [
      "<class 'pandas.core.frame.DataFrame'>\n",
      "RangeIndex: 330530 entries, 0 to 330529\n",
      "Data columns (total 4 columns):\n",
      " #   Column        Non-Null Count   Dtype \n",
      "---  ------        --------------   ----- \n",
      " 0   awd_titl_txt  330530 non-null  object\n",
      " 1   dir_abbr      330530 non-null  object\n",
      " 2   div_abbr      330530 non-null  object\n",
      " 3   pi_full_name  330530 non-null  object\n",
      "dtypes: object(4)\n",
      "memory usage: 10.1+ MB\n"
     ]
    }
   ],
   "source": [
    "awds_sql_df.info()"
   ]
  },
  {
   "cell_type": "code",
   "execution_count": null,
   "metadata": {},
   "outputs": [],
   "source": []
  }
 ],
 "metadata": {
  "kernelspec": {
   "display_name": "base",
   "language": "python",
   "name": "python3"
  },
  "language_info": {
   "codemirror_mode": {
    "name": "ipython",
    "version": 3
   },
   "file_extension": ".py",
   "mimetype": "text/x-python",
   "name": "python",
   "nbconvert_exporter": "python",
   "pygments_lexer": "ipython3",
   "version": "3.11.7"
  }
 },
 "nbformat": 4,
 "nbformat_minor": 4
}
