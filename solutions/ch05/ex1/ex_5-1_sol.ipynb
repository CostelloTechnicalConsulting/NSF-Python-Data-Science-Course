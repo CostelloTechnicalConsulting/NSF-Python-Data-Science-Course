{
 "cells": [
  {
   "cell_type": "markdown",
   "metadata": {},
   "source": [
    "# Exercise 5-1: Get data from a CSV file"
   ]
  },
  {
   "cell_type": "code",
   "execution_count": 1,
   "metadata": {},
   "outputs": [],
   "source": [
    "import pandas as pd"
   ]
  },
  {
   "cell_type": "code",
   "execution_count": 2,
   "metadata": {},
   "outputs": [],
   "source": [
    "nsf_awards_url = (\n",
    "    'https://onlcfiles.blob.core.windows.net/clientfiles/NSF/data/nsf-awards-2010-2025.csv')"
   ]
  },
  {
   "cell_type": "code",
   "execution_count": null,
   "metadata": {},
   "outputs": [
    {
     "data": {
      "text/plain": [
       "('nsf-awards-2010-2025.csv', <http.client.HTTPMessage at 0x2b53c195d10>)"
      ]
     },
     "execution_count": 3,
     "metadata": {},
     "output_type": "execute_result"
    }
   ],
   "source": [
    "from urllib import request\n",
    "\n",
    "# Download the CSV file from the specified URL and save it locally\n",
    "request.urlretrieve(nsf_awards_url, filename='nsf-awards-2010-2025.csv')"
   ]
  },
  {
   "cell_type": "code",
   "execution_count": null,
   "metadata": {},
   "outputs": [
    {
     "name": "stderr",
     "output_type": "stream",
     "text": [
      "C:\\Users\\dan\\AppData\\Local\\Temp\\ipykernel_51580\\1084655197.py:1: DtypeWarning: Columns (5) have mixed types. Specify dtype option on import or set low_memory=False.\n",
      "  awards_df = pd.read_csv('nsf-awards-2010-2025.csv')\n"
     ]
    }
   ],
   "source": [
    "# Read the CSV file into a DataFrame\n",
    "awards_df = pd.read_csv('nsf-awards-2010-2025.csv')"
   ]
  },
  {
   "cell_type": "code",
   "execution_count": 5,
   "metadata": {},
   "outputs": [
    {
     "name": "stdout",
     "output_type": "stream",
     "text": [
      "<class 'pandas.core.frame.DataFrame'>\n",
      "RangeIndex: 187582 entries, 0 to 187581\n",
      "Data columns (total 48 columns):\n",
      " #   Column                       Non-Null Count   Dtype  \n",
      "---  ------                       --------------   -----  \n",
      " 0   awd_id                       187582 non-null  int64  \n",
      " 1   agcy_id                      187582 non-null  object \n",
      " 2   tran_type                    187582 non-null  object \n",
      " 3   awd_istr_txt                 187582 non-null  object \n",
      " 4   awd_titl_txt                 187582 non-null  object \n",
      " 5   cfda_num                     187188 non-null  object \n",
      " 6   org_code                     187582 non-null  int64  \n",
      " 7   po_phone                     121118 non-null  float64\n",
      " 8   po_email                     121118 non-null  object \n",
      " 9   po_sign_block_name           187576 non-null  object \n",
      " 10  awd_eff_date                 187582 non-null  object \n",
      " 11  awd_exp_date                 187582 non-null  object \n",
      " 12  tot_intn_awd_amt             187582 non-null  float64\n",
      " 13  awd_amount                   187582 non-null  float64\n",
      " 14  awd_min_amd_letter_date      187582 non-null  object \n",
      " 15  awd_max_amd_letter_date      187582 non-null  object \n",
      " 16  awd_arra_amount              187582 non-null  float64\n",
      " 17  dir_abbr                     187582 non-null  object \n",
      " 18  org_dir_long_name            187524 non-null  object \n",
      " 19  div_abbr                     187582 non-null  object \n",
      " 20  org_div_long_name            187582 non-null  object \n",
      " 21  awd_agcy_code                187582 non-null  int64  \n",
      " 22  fund_agcy_code               187582 non-null  int64  \n",
      " 23  inst.inst_name               187582 non-null  object \n",
      " 24  inst.inst_street_address     182933 non-null  object \n",
      " 25  inst.inst_street_address_2   12965 non-null   object \n",
      " 26  inst.inst_city_name          187581 non-null  object \n",
      " 27  inst.inst_state_code         187340 non-null  object \n",
      " 28  inst.inst_state_name         187573 non-null  object \n",
      " 29  inst.inst_phone_num          182328 non-null  float64\n",
      " 30  inst.inst_zip_code           187523 non-null  object \n",
      " 31  inst.inst_country_name       187582 non-null  object \n",
      " 32  inst.cong_dist_code          186903 non-null  float64\n",
      " 33  inst.st_cong_dist_code       187352 non-null  object \n",
      " 34  inst.org_lgl_bus_name        180732 non-null  object \n",
      " 35  inst.org_prnt_uei_num        60057 non-null   object \n",
      " 36  inst.org_uei_num             181287 non-null  object \n",
      " 37  perf_inst.perf_inst_name     187258 non-null  object \n",
      " 38  perf_inst.perf_str_addr      147338 non-null  object \n",
      " 39  perf_inst.perf_city_name     160512 non-null  object \n",
      " 40  perf_inst.perf_st_code       184865 non-null  object \n",
      " 41  perf_inst.perf_st_name       187576 non-null  object \n",
      " 42  perf_inst.perf_zip_code      185250 non-null  object \n",
      " 43  perf_inst.perf_ctry_code     187257 non-null  object \n",
      " 44  perf_inst.perf_cong_dist     181858 non-null  float64\n",
      " 45  perf_inst.perf_st_cong_dist  184924 non-null  object \n",
      " 46  perf_inst.perf_ctry_name     164569 non-null  object \n",
      " 47  perf_inst.perf_ctry_flag     187582 non-null  int64  \n",
      "dtypes: float64(7), int64(5), object(36)\n",
      "memory usage: 68.7+ MB\n"
     ]
    }
   ],
   "source": [
    "awards_df.info()"
   ]
  },
  {
   "cell_type": "code",
   "execution_count": 6,
   "metadata": {},
   "outputs": [
    {
     "data": {
      "text/plain": [
       "<Axes: xlabel='awd_eff_date'>"
      ]
     },
     "execution_count": 6,
     "metadata": {},
     "output_type": "execute_result"
    },
    {
     "data": {
      "image/png": "[encoded data removed]",
      "text/plain": [
       "<Figure size 640x480 with 1 Axes>"
      ]
     },
     "metadata": {},
     "output_type": "display_data"
    }
   ],
   "source": [
    "awards_df.plot(kind='line', y='awd_amount', x='awd_eff_date')"
   ]
  }
 ],
 "metadata": {
  "kernelspec": {
   "display_name": "base",
   "language": "python",
   "name": "python3"
  },
  "language_info": {
   "codemirror_mode": {
    "name": "ipython",
    "version": 3
   },
   "file_extension": ".py",
   "mimetype": "text/x-python",
   "name": "python",
   "nbconvert_exporter": "python",
   "pygments_lexer": "ipython3",
   "version": "3.11.7"
  }
 },
 "nbformat": 4,
 "nbformat_minor": 4
}
