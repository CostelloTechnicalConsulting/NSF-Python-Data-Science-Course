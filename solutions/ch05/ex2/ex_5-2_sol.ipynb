{
 "cells": [
  {
   "cell_type": "markdown",
   "metadata": {},
   "source": [
    "# Exercise 5-2: Get data from an Excel file"
   ]
  },
  {
   "cell_type": "code",
   "execution_count": 1,
   "metadata": {},
   "outputs": [],
   "source": [
    "import pandas as pd"
   ]
  },
  {
   "cell_type": "code",
   "execution_count": 2,
   "metadata": {},
   "outputs": [],
   "source": [
    "excel_url = 'https://onlcfiles.blob.core.windows.net/clientfiles/NSF/data/nsf-awards-2010-2025.xlsx'"
   ]
  },
  {
   "cell_type": "code",
   "execution_count": 3,
   "metadata": {},
   "outputs": [
    {
     "data": {
      "text/plain": [
       "('nsf-awards-2010-2025.xlsx', <http.client.HTTPMessage at 0x1a663512bd0>)"
      ]
     },
     "execution_count": 3,
     "metadata": {},
     "output_type": "execute_result"
    }
   ],
   "source": [
    "from urllib import request\n",
    "request.urlretrieve(excel_url, filename='nsf-awards-2010-2025.xlsx')"
   ]
  },
  {
   "cell_type": "code",
   "execution_count": 4,
   "metadata": {},
   "outputs": [
    {
     "data": {
      "application/vnd.microsoft.datawrangler.viewer.v0+json": {
       "columns": [
        {
         "name": "index",
         "rawType": "int64",
         "type": "integer"
        },
        {
         "name": "awd_id",
         "rawType": "int64",
         "type": "integer"
        },
        {
         "name": "agcy_id",
         "rawType": "object",
         "type": "string"
        },
        {
         "name": "tran_type",
         "rawType": "object",
         "type": "string"
        },
        {
         "name": "awd_istr_txt",
         "rawType": "object",
         "type": "string"
        },
        {
         "name": "awd_titl_txt",
         "rawType": "object",
         "type": "string"
        },
        {
         "name": "cfda_num",
         "rawType": "object",
         "type": "unknown"
        },
        {
         "name": "org_code",
         "rawType": "int64",
         "type": "integer"
        },
        {
         "name": "po_phone",
         "rawType": "float64",
         "type": "float"
        },
        {
         "name": "po_email",
         "rawType": "object",
         "type": "unknown"
        },
        {
         "name": "po_sign_block_name",
         "rawType": "object",
         "type": "string"
        },
        {
         "name": "awd_eff_date",
         "rawType": "object",
         "type": "string"
        },
        {
         "name": "awd_exp_date",
         "rawType": "object",
         "type": "string"
        },
        {
         "name": "tot_intn_awd_amt",
         "rawType": "int64",
         "type": "integer"
        },
        {
         "name": "awd_amount",
         "rawType": "int64",
         "type": "integer"
        },
        {
         "name": "awd_min_amd_letter_date",
         "rawType": "object",
         "type": "string"
        },
        {
         "name": "awd_max_amd_letter_date",
         "rawType": "object",
         "type": "string"
        },
        {
         "name": "awd_arra_amount",
         "rawType": "int64",
         "type": "integer"
        },
        {
         "name": "dir_abbr",
         "rawType": "object",
         "type": "string"
        },
        {
         "name": "org_dir_long_name",
         "rawType": "object",
         "type": "string"
        },
        {
         "name": "div_abbr",
         "rawType": "object",
         "type": "string"
        },
        {
         "name": "org_div_long_name",
         "rawType": "object",
         "type": "string"
        },
        {
         "name": "awd_agcy_code",
         "rawType": "int64",
         "type": "integer"
        },
        {
         "name": "fund_agcy_code",
         "rawType": "int64",
         "type": "integer"
        },
        {
         "name": "inst.inst_name",
         "rawType": "object",
         "type": "string"
        },
        {
         "name": "inst.inst_street_address",
         "rawType": "object",
         "type": "string"
        },
        {
         "name": "inst.inst_street_address_2",
         "rawType": "object",
         "type": "unknown"
        },
        {
         "name": "inst.inst_city_name",
         "rawType": "object",
         "type": "string"
        },
        {
         "name": "inst.inst_state_code",
         "rawType": "object",
         "type": "string"
        },
        {
         "name": "inst.inst_state_name",
         "rawType": "object",
         "type": "string"
        },
        {
         "name": "inst.inst_phone_num",
         "rawType": "float64",
         "type": "float"
        },
        {
         "name": "inst.inst_zip_code",
         "rawType": "object",
         "type": "string"
        },
        {
         "name": "inst.inst_country_name",
         "rawType": "object",
         "type": "string"
        },
        {
         "name": "inst.cong_dist_code",
         "rawType": "float64",
         "type": "float"
        },
        {
         "name": "inst.st_cong_dist_code",
         "rawType": "object",
         "type": "string"
        },
        {
         "name": "inst.org_lgl_bus_name",
         "rawType": "object",
         "type": "string"
        },
        {
         "name": "inst.org_prnt_uei_num",
         "rawType": "object",
         "type": "unknown"
        },
        {
         "name": "inst.org_uei_num",
         "rawType": "object",
         "type": "string"
        },
        {
         "name": "perf_inst.perf_inst_name",
         "rawType": "object",
         "type": "string"
        },
        {
         "name": "perf_inst.perf_str_addr",
         "rawType": "object",
         "type": "string"
        },
        {
         "name": "perf_inst.perf_city_name",
         "rawType": "object",
         "type": "string"
        },
        {
         "name": "perf_inst.perf_st_code",
         "rawType": "object",
         "type": "string"
        },
        {
         "name": "perf_inst.perf_st_name",
         "rawType": "object",
         "type": "string"
        },
        {
         "name": "perf_inst.perf_zip_code",
         "rawType": "object",
         "type": "string"
        },
        {
         "name": "perf_inst.perf_ctry_code",
         "rawType": "object",
         "type": "string"
        },
        {
         "name": "perf_inst.perf_cong_dist",
         "rawType": "float64",
         "type": "float"
        },
        {
         "name": "perf_inst.perf_st_cong_dist",
         "rawType": "object",
         "type": "string"
        },
        {
         "name": "perf_inst.perf_ctry_name",
         "rawType": "object",
         "type": "unknown"
        },
        {
         "name": "perf_inst.perf_ctry_flag",
         "rawType": "int64",
         "type": "integer"
        }
       ],
       "conversionMethod": "pd.DataFrame",
       "ref": "26ba7124-e891-40b6-ba46-044d1d269fe7",
       "rows": [
        [
         "0",
         "415302",
         "NSF",
         "CoopAgrmnt",
         "Cooperative Agreement",
         "Advanced Technology Solar Telescope (ATST) Construction under the American Recovery and Reinvestment Act of 2009 (ARRA)",
         "47.049",
         "3020000",
         null,
         null,
         "David Boboltz",
         "2010-01-01",
         "2015-09-30",
         "146000000",
         "146000000",
         "2010-01-15",
         "2015-05-13",
         "146000000",
         "MPS",
         "Directorate for Mathematical and Physical Sciences",
         "AST",
         "Division Of Astronomical Sciences",
         "4900",
         "4900",
         "Association of Universities for Research in Astronomy, Inc.",
         "950 N CHERRY AVE",
         null,
         "TUCSON",
         "AZ",
         "Arizona",
         "2024832101.0",
         "857194933",
         "United States",
         "7.0",
         "AZ07",
         "ASSOCIATION OF UNIVERSITIES FOR RESEARCH IN ASTRONOMY, INC.",
         null,
         "LFDKLGTB62C4",
         "Association of Universities for Research in Astronomy, Inc.",
         "950 N CHERRY AVE",
         "TUCSON",
         "AZ",
         "Arizona",
         "857194933",
         "US",
         "7.0",
         "AZ07",
         null,
         "1"
        ],
        [
         "1",
         "731599",
         "NSF",
         "Grant",
         "Standard Grant",
         "Individual - Nomination for Presidential Award for Excellence in Scientific Mentoring",
         "47.076",
         "11040300",
         "7032927772.0",
         "mjames@nsf.gov",
         "Martha James",
         "2009-12-01",
         "2014-11-30",
         "10000",
         "10000",
         "2009-12-01",
         "2013-11-08",
         "0",
         "EDU",
         "Directorate for STEM Education",
         "DUE",
         "Division Of Undergraduate Education",
         "4900",
         "4900",
         "Lawrence Livermore National Laboratory",
         "2300 1ST ST STE 204",
         null,
         "LIVERMORE",
         "CA",
         "California",
         "9254239870.0",
         "945503141",
         "United States",
         "14.0",
         "CA14",
         "LAWRENCE LIVERMORE NATIONAL SECURITY, LLC",
         null,
         "PM52LCJH72T9",
         "University of California, Office of the President, Oakland",
         "1111 FRANKLIN ST FL 8",
         "OAKLAND",
         "CA",
         "California",
         "946075201",
         "US",
         "12.0",
         "CA12",
         null,
         "1"
        ],
        [
         "2",
         "804541",
         "NSF",
         "Grant",
         "Standard Grant",
         "The Geometric Background of biHamiltonian Systems",
         "47.049",
         "3040000",
         null,
         null,
         "Christopher Stark",
         "2010-09-01",
         "2014-08-31",
         "155998",
         "155998",
         "2010-08-27",
         "2010-08-27",
         "0",
         "MPS",
         "Directorate for Mathematical and Physical Sciences",
         "DMS",
         "Division Of Mathematical Sciences",
         "4900",
         "4900",
         "University of Wisconsin-Madison",
         "21 N PARK ST STE 6301",
         null,
         "MADISON",
         "WI",
         "Wisconsin",
         "6082623822.0",
         "537151218",
         "United States",
         "2.0",
         "WI02",
         "UNIVERSITY OF WISCONSIN SYSTEM",
         null,
         "LCLSJAGTNZQ7",
         "University of Wisconsin-Madison",
         "21 N PARK ST STE 6301",
         "MADISON",
         "WI",
         "Wisconsin",
         "537151218",
         "US",
         "2.0",
         "WI02",
         null,
         "1"
        ],
        [
         "3",
         "805878",
         "NSF",
         "Grant",
         "Standard Grant",
         "The Semiclassical Limit and Geometric Quantization",
         "47.049",
         "3040000",
         null,
         null,
         "Christopher Stark",
         "2010-04-15",
         "2014-03-31",
         "196001",
         "196001",
         "2010-04-28",
         "2010-06-18",
         "0",
         "MPS",
         "Directorate for Mathematical and Physical Sciences",
         "DMS",
         "Division Of Mathematical Sciences",
         "4900",
         "4900",
         "Regents of the University of Michigan - Ann Arbor",
         "1109 GEDDES AVE STE 3300",
         null,
         "ANN ARBOR",
         "MI",
         "Michigan",
         "7347636438.0",
         "481091015",
         "United States",
         "6.0",
         "MI06",
         "REGENTS OF THE UNIVERSITY OF MICHIGAN",
         null,
         "GNJ7BBP73WE9",
         "Regents of the University of Michigan - Ann Arbor",
         "1109 GEDDES AVE STE 3300",
         "ANN ARBOR",
         "MI",
         "Michigan",
         "481091015",
         "US",
         "6.0",
         "MI06",
         null,
         "1"
        ],
        [
         "4",
         "805989",
         "NSF",
         "Grant",
         "Standard Grant",
         "Application of methods of arithmetic geometry and homological algebra to quantum field theory and string theory",
         "47.049",
         "3040000",
         null,
         null,
         "Christopher Stark",
         "2010-09-01",
         "2014-08-31",
         "196252",
         "196252",
         "2010-08-26",
         "2010-08-26",
         "0",
         "MPS",
         "Directorate for Mathematical and Physical Sciences",
         "DMS",
         "Division Of Mathematical Sciences",
         "4900",
         "4900",
         "University of California-Davis",
         "1850 RESEARCH PARK DR STE 300",
         null,
         "DAVIS",
         "CA",
         "California",
         "5307547700.0",
         "956186153",
         "United States",
         "4.0",
         "CA04",
         "UNIVERSITY OF CALIFORNIA, DAVIS",
         null,
         "TX2DAGQPENZ5",
         "University of California-Davis",
         "1850 RESEARCH PARK DR STE 300",
         "DAVIS",
         "CA",
         "California",
         "956186153",
         "US",
         "4.0",
         "CA04",
         null,
         "1"
        ]
       ],
       "shape": {
        "columns": 48,
        "rows": 5
       }
      },
      "text/html": [
       "<div>\n",
       "<style scoped>\n",
       "    .dataframe tbody tr th:only-of-type {\n",
       "        vertical-align: middle;\n",
       "    }\n",
       "\n",
       "    .dataframe tbody tr th {\n",
       "        vertical-align: top;\n",
       "    }\n",
       "\n",
       "    .dataframe thead th {\n",
       "        text-align: right;\n",
       "    }\n",
       "</style>\n",
       "<table border=\"1\" class=\"dataframe\">\n",
       "  <thead>\n",
       "    <tr style=\"text-align: right;\">\n",
       "      <th></th>\n",
       "      <th>awd_id</th>\n",
       "      <th>agcy_id</th>\n",
       "      <th>tran_type</th>\n",
       "      <th>awd_istr_txt</th>\n",
       "      <th>awd_titl_txt</th>\n",
       "      <th>cfda_num</th>\n",
       "      <th>org_code</th>\n",
       "      <th>po_phone</th>\n",
       "      <th>po_email</th>\n",
       "      <th>po_sign_block_name</th>\n",
       "      <th>...</th>\n",
       "      <th>perf_inst.perf_str_addr</th>\n",
       "      <th>perf_inst.perf_city_name</th>\n",
       "      <th>perf_inst.perf_st_code</th>\n",
       "      <th>perf_inst.perf_st_name</th>\n",
       "      <th>perf_inst.perf_zip_code</th>\n",
       "      <th>perf_inst.perf_ctry_code</th>\n",
       "      <th>perf_inst.perf_cong_dist</th>\n",
       "      <th>perf_inst.perf_st_cong_dist</th>\n",
       "      <th>perf_inst.perf_ctry_name</th>\n",
       "      <th>perf_inst.perf_ctry_flag</th>\n",
       "    </tr>\n",
       "  </thead>\n",
       "  <tbody>\n",
       "    <tr>\n",
       "      <th>0</th>\n",
       "      <td>415302</td>\n",
       "      <td>NSF</td>\n",
       "      <td>CoopAgrmnt</td>\n",
       "      <td>Cooperative Agreement</td>\n",
       "      <td>Advanced Technology Solar Telescope (ATST) Con...</td>\n",
       "      <td>47.049</td>\n",
       "      <td>3020000</td>\n",
       "      <td>NaN</td>\n",
       "      <td>NaN</td>\n",
       "      <td>David Boboltz</td>\n",
       "      <td>...</td>\n",
       "      <td>950 N CHERRY AVE</td>\n",
       "      <td>TUCSON</td>\n",
       "      <td>AZ</td>\n",
       "      <td>Arizona</td>\n",
       "      <td>857194933</td>\n",
       "      <td>US</td>\n",
       "      <td>7.0</td>\n",
       "      <td>AZ07</td>\n",
       "      <td>NaN</td>\n",
       "      <td>1</td>\n",
       "    </tr>\n",
       "    <tr>\n",
       "      <th>1</th>\n",
       "      <td>731599</td>\n",
       "      <td>NSF</td>\n",
       "      <td>Grant</td>\n",
       "      <td>Standard Grant</td>\n",
       "      <td>Individual - Nomination for Presidential Award...</td>\n",
       "      <td>47.076</td>\n",
       "      <td>11040300</td>\n",
       "      <td>7.032928e+09</td>\n",
       "      <td>mjames@nsf.gov</td>\n",
       "      <td>Martha James</td>\n",
       "      <td>...</td>\n",
       "      <td>1111 FRANKLIN ST FL 8</td>\n",
       "      <td>OAKLAND</td>\n",
       "      <td>CA</td>\n",
       "      <td>California</td>\n",
       "      <td>946075201</td>\n",
       "      <td>US</td>\n",
       "      <td>12.0</td>\n",
       "      <td>CA12</td>\n",
       "      <td>NaN</td>\n",
       "      <td>1</td>\n",
       "    </tr>\n",
       "    <tr>\n",
       "      <th>2</th>\n",
       "      <td>804541</td>\n",
       "      <td>NSF</td>\n",
       "      <td>Grant</td>\n",
       "      <td>Standard Grant</td>\n",
       "      <td>The Geometric Background of biHamiltonian Systems</td>\n",
       "      <td>47.049</td>\n",
       "      <td>3040000</td>\n",
       "      <td>NaN</td>\n",
       "      <td>NaN</td>\n",
       "      <td>Christopher Stark</td>\n",
       "      <td>...</td>\n",
       "      <td>21 N PARK ST STE 6301</td>\n",
       "      <td>MADISON</td>\n",
       "      <td>WI</td>\n",
       "      <td>Wisconsin</td>\n",
       "      <td>537151218</td>\n",
       "      <td>US</td>\n",
       "      <td>2.0</td>\n",
       "      <td>WI02</td>\n",
       "      <td>NaN</td>\n",
       "      <td>1</td>\n",
       "    </tr>\n",
       "    <tr>\n",
       "      <th>3</th>\n",
       "      <td>805878</td>\n",
       "      <td>NSF</td>\n",
       "      <td>Grant</td>\n",
       "      <td>Standard Grant</td>\n",
       "      <td>The Semiclassical Limit and Geometric Quantiza...</td>\n",
       "      <td>47.049</td>\n",
       "      <td>3040000</td>\n",
       "      <td>NaN</td>\n",
       "      <td>NaN</td>\n",
       "      <td>Christopher Stark</td>\n",
       "      <td>...</td>\n",
       "      <td>1109 GEDDES AVE STE 3300</td>\n",
       "      <td>ANN ARBOR</td>\n",
       "      <td>MI</td>\n",
       "      <td>Michigan</td>\n",
       "      <td>481091015</td>\n",
       "      <td>US</td>\n",
       "      <td>6.0</td>\n",
       "      <td>MI06</td>\n",
       "      <td>NaN</td>\n",
       "      <td>1</td>\n",
       "    </tr>\n",
       "    <tr>\n",
       "      <th>4</th>\n",
       "      <td>805989</td>\n",
       "      <td>NSF</td>\n",
       "      <td>Grant</td>\n",
       "      <td>Standard Grant</td>\n",
       "      <td>Application of methods of arithmetic geometry ...</td>\n",
       "      <td>47.049</td>\n",
       "      <td>3040000</td>\n",
       "      <td>NaN</td>\n",
       "      <td>NaN</td>\n",
       "      <td>Christopher Stark</td>\n",
       "      <td>...</td>\n",
       "      <td>1850 RESEARCH PARK DR STE 300</td>\n",
       "      <td>DAVIS</td>\n",
       "      <td>CA</td>\n",
       "      <td>California</td>\n",
       "      <td>956186153</td>\n",
       "      <td>US</td>\n",
       "      <td>4.0</td>\n",
       "      <td>CA04</td>\n",
       "      <td>NaN</td>\n",
       "      <td>1</td>\n",
       "    </tr>\n",
       "  </tbody>\n",
       "</table>\n",
       "<p>5 rows × 48 columns</p>\n",
       "</div>"
      ],
      "text/plain": [
       "   awd_id agcy_id   tran_type           awd_istr_txt  \\\n",
       "0  415302     NSF  CoopAgrmnt  Cooperative Agreement   \n",
       "1  731599     NSF       Grant         Standard Grant   \n",
       "2  804541     NSF       Grant         Standard Grant   \n",
       "3  805878     NSF       Grant         Standard Grant   \n",
       "4  805989     NSF       Grant         Standard Grant   \n",
       "\n",
       "                                        awd_titl_txt cfda_num  org_code  \\\n",
       "0  Advanced Technology Solar Telescope (ATST) Con...   47.049   3020000   \n",
       "1  Individual - Nomination for Presidential Award...   47.076  11040300   \n",
       "2  The Geometric Background of biHamiltonian Systems   47.049   3040000   \n",
       "3  The Semiclassical Limit and Geometric Quantiza...   47.049   3040000   \n",
       "4  Application of methods of arithmetic geometry ...   47.049   3040000   \n",
       "\n",
       "       po_phone        po_email po_sign_block_name  ...  \\\n",
       "0           NaN             NaN      David Boboltz  ...   \n",
       "1  7.032928e+09  mjames@nsf.gov       Martha James  ...   \n",
       "2           NaN             NaN  Christopher Stark  ...   \n",
       "3           NaN             NaN  Christopher Stark  ...   \n",
       "4           NaN             NaN  Christopher Stark  ...   \n",
       "\n",
       "         perf_inst.perf_str_addr perf_inst.perf_city_name  \\\n",
       "0               950 N CHERRY AVE                   TUCSON   \n",
       "1          1111 FRANKLIN ST FL 8                  OAKLAND   \n",
       "2          21 N PARK ST STE 6301                  MADISON   \n",
       "3       1109 GEDDES AVE STE 3300                ANN ARBOR   \n",
       "4  1850 RESEARCH PARK DR STE 300                    DAVIS   \n",
       "\n",
       "   perf_inst.perf_st_code  perf_inst.perf_st_name perf_inst.perf_zip_code  \\\n",
       "0                      AZ                 Arizona               857194933   \n",
       "1                      CA              California               946075201   \n",
       "2                      WI               Wisconsin               537151218   \n",
       "3                      MI                Michigan               481091015   \n",
       "4                      CA              California               956186153   \n",
       "\n",
       "  perf_inst.perf_ctry_code  perf_inst.perf_cong_dist  \\\n",
       "0                       US                       7.0   \n",
       "1                       US                      12.0   \n",
       "2                       US                       2.0   \n",
       "3                       US                       6.0   \n",
       "4                       US                       4.0   \n",
       "\n",
       "  perf_inst.perf_st_cong_dist perf_inst.perf_ctry_name  \\\n",
       "0                        AZ07                      NaN   \n",
       "1                        CA12                      NaN   \n",
       "2                        WI02                      NaN   \n",
       "3                        MI06                      NaN   \n",
       "4                        CA04                      NaN   \n",
       "\n",
       "  perf_inst.perf_ctry_flag  \n",
       "0                        1  \n",
       "1                        1  \n",
       "2                        1  \n",
       "3                        1  \n",
       "4                        1  \n",
       "\n",
       "[5 rows x 48 columns]"
      ]
     },
     "execution_count": 4,
     "metadata": {},
     "output_type": "execute_result"
    }
   ],
   "source": [
    "xl_awards_df = pd.read_excel('nsf-awards-2010-2025.xlsx')\n",
    "xl_awards_df.head()"
   ]
  }
 ],
 "metadata": {
  "kernelspec": {
   "display_name": "base",
   "language": "python",
   "name": "python3"
  },
  "language_info": {
   "codemirror_mode": {
    "name": "ipython",
    "version": 3
   },
   "file_extension": ".py",
   "mimetype": "text/x-python",
   "name": "python",
   "nbconvert_exporter": "python",
   "pygments_lexer": "ipython3",
   "version": "3.11.7"
  }
 },
 "nbformat": 4,
 "nbformat_minor": 4
}
