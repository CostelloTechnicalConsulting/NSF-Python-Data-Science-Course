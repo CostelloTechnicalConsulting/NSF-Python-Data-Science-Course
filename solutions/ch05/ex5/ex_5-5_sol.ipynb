{
 "cells": [
  {
   "cell_type": "markdown",
   "metadata": {},
   "source": [
    "# Exercise 5-5: Get data from a JSON file"
   ]
  },
  {
   "cell_type": "code",
   "execution_count": 13,
   "metadata": {},
   "outputs": [],
   "source": [
    "import pandas as pd"
   ]
  },
  {
   "cell_type": "code",
   "execution_count": 14,
   "metadata": {},
   "outputs": [
    {
     "data": {
      "text/plain": [
       "('award-2335725.json', <http.client.HTTPMessage at 0x265bf52c710>)"
      ]
     },
     "execution_count": 14,
     "metadata": {},
     "output_type": "execute_result"
    }
   ],
   "source": [
    "awd_2335725_url = 'https://onlcfiles.blob.core.windows.net/clientfiles/NSF/data/award-2335725.json'\n",
    "from urllib import request\n",
    "request.urlretrieve(awd_2335725_url, filename='award-2335725.json')"
   ]
  },
  {
   "cell_type": "code",
   "execution_count": 15,
   "metadata": {},
   "outputs": [
    {
     "name": "stdout",
     "output_type": "stream",
     "text": [
      "{'awd_id': '2335725', 'agcy_id': 'NSF', 'tran_type': 'Grant', 'awd_istr_txt': 'Standard Grant', 'awd_titl_txt': 'Combining Machine Learning Explanation Methods with Expectancy-Value Theory to Identify Tailored Interventions for Engineering Student Persistence', 'cfda_num': '47.076', 'org_code': '11040000', 'po_phone': '7032924257', 'po_email': 'spulimoo@nsf.gov', 'po_sign_block_name': 'Monisha Pulimood', 'awd_eff_date': '2024-04-15', 'awd_exp_date': '2027-03-31', 'tot_intn_awd_amt': 602623.0, 'awd_amount': 602623.0, 'awd_min_amd_letter_date': '2024-04-10', 'awd_max_amd_letter_date': '2025-04-14', 'awd_abstract_narration': \"This project aims to serve the national interest by applying machine learning (ML) methods to improve engineering student persistence. The increasing demand for a diverse, qualified engineering workforce requires an improvement in undergraduate program persistence rates, especially for underrepresented and minoritized students. This Engaged Student Learning Level 2 project intends to apply well-established predictive ML methods and cutting-edge ML explanation methods to identify and predict which students might leave and why. The project team plans to identify tailored interventions to meet individual student needs. This project will test the viability and variability of various ML methods and generalize the methodology for other universities. The proposed project has the potential to generate knowledge and streamline a methodology for the identification of individualized interventions for engineering persistence. \\r\\n\\r\\nThe project is grounded in expectancy-value theory. The proposed methodology will help engineering education researchers to begin intervening in the first year to help at-risk students persist. This project also has the potential to have broad impacts on computer science communities which require real-world applications of emerging tools. Project findings will be presented at the American Society of Engineering Education annual conference and Frontiers in Education annual conference. In addition, all python code for each stage will be made available through the Open Science Foundation. The codes will be accompanied with detailed instructions for using the proposed methodology with new data. The proposed methods to improve engineering persistence potentially have broad impacts in a local, nation-wide, or global scale. The NSF IUSE: EDU Program supports research and development projects to improve the effectiveness of STEM education for all students. Through the Engaged Student Learning track, the program supports the creation, exploration, and implementation of promising practices and tools.\\r\\n\\r\\nThis award reflects NSF's statutory mission and has been deemed worthy of support through evaluation using the Foundation's intellectual merit and broader impacts review criteria.\", 'awd_arra_amount': 0.0, 'dir_abbr': 'EDU', 'org_dir_long_name': 'Directorate for STEM Education', 'div_abbr': 'DUE', 'org_div_long_name': 'Division Of Undergraduate Education', 'awd_agcy_code': '4900', 'fund_agcy_code': '4900', 'pi': [{'pi_role': 'Principal Investigator', 'pi_first_name': 'Campbell', 'pi_last_name': 'Bego', 'pi_mid_init': 'R', 'pi_sufx_name': '', 'pi_full_name': 'Campbell R Bego', 'pi_email_addr': 'campbell.bego@louisville.edu', 'nsf_id': '000861165', 'pi_start_date': '2024-04-10', 'pi_end_date': None}, {'pi_role': 'Co-Principal Investigator', 'pi_first_name': 'So Yoon', 'pi_last_name': 'Yoon', 'pi_mid_init': '', 'pi_sufx_name': '', 'pi_full_name': 'So Yoon Yoon', 'pi_email_addr': 'yoons5@ucmail.uc.edu', 'nsf_id': '000615286', 'pi_start_date': '2025-04-14', 'pi_end_date': None}, {'pi_role': 'Former Co-Principal Investigator', 'pi_first_name': 'Nora', 'pi_last_name': 'Honken', 'pi_mid_init': '', 'pi_sufx_name': '', 'pi_full_name': 'Nora Honken', 'pi_email_addr': 'honkenna@ucmail.uc.edu', 'nsf_id': '000681590', 'pi_start_date': '2024-04-10', 'pi_end_date': '2025-04-14'}, {'pi_role': 'Former Co-Principal Investigator', 'pi_first_name': 'Pamela', 'pi_last_name': 'Thomas', 'pi_mid_init': 'B', 'pi_sufx_name': '', 'pi_full_name': 'Pamela B Thomas', 'pi_email_addr': 'pamela.thomas.1@louisville.edu', 'nsf_id': '000858978', 'pi_start_date': '2024-04-10', 'pi_end_date': '2024-04-30'}, {'pi_role': 'Co-Principal Investigator', 'pi_first_name': 'Xiaomei', 'pi_last_name': 'Wang', 'pi_mid_init': '', 'pi_sufx_name': '', 'pi_full_name': 'Xiaomei Wang', 'pi_email_addr': 'xiaomei.wang@louisville.edu', 'nsf_id': '000922905', 'pi_start_date': '2024-04-10', 'pi_end_date': None}, {'pi_role': 'Co-Principal Investigator', 'pi_first_name': 'Arinan', 'pi_last_name': 'Dourado', 'pi_mid_init': 'D', 'pi_sufx_name': '', 'pi_full_name': 'Arinan D Dourado', 'pi_email_addr': 'arinan.dourado@louisville.edu', 'nsf_id': '000922919', 'pi_start_date': '2024-04-10', 'pi_end_date': None}, {'pi_role': 'Co-Principal Investigator', 'pi_first_name': 'Luis', 'pi_last_name': 'Segura', 'pi_mid_init': 'J', 'pi_sufx_name': '', 'pi_full_name': 'Luis J Segura', 'pi_email_addr': 'ljsegu01@louisville.edu', 'nsf_id': '000876801', 'pi_start_date': '2024-04-30', 'pi_end_date': None}], 'inst': {'inst_name': 'University of Louisville Research Foundation Inc', 'inst_street_address': '2301 S 3RD ST', 'inst_street_address_2': '', 'inst_city_name': 'LOUISVILLE', 'inst_state_code': 'KY', 'inst_state_name': 'Kentucky', 'inst_phone_num': '5028523788', 'inst_zip_code': '402081838', 'inst_country_name': 'United States', 'cong_dist_code': '03', 'st_cong_dist_code': 'KY03', 'org_lgl_bus_name': 'UNIVERSITY OF LOUISVILLE', 'org_prnt_uei_num': '', 'org_uei_num': 'E1KJM4T54MK6'}, 'perf_inst': {'perf_inst_name': 'University of Louisville', 'perf_str_addr': '132 Eastern Parkway', 'perf_city_name': 'LOUISVILLE', 'perf_st_code': 'KY', 'perf_st_name': 'Kentucky', 'perf_zip_code': '402920001', 'perf_ctry_code': 'US', 'perf_cong_dist': '03', 'perf_st_cong_dist': 'KY03', 'perf_ctry_name': 'United States', 'perf_ctry_flag': '1'}, 'pgm_ele': [{'pgm_ele_code': '199800', 'pgm_ele_name': 'IUSE'}], 'pgm_ref': [{'pgm_ref_code': '8209', 'pgm_ref_txt': 'Improv Undergrad STEM Ed(IUSE)'}, {'pgm_ref_code': '9150', 'pgm_ref_txt': 'EXP PROG TO STIM COMP RES'}, {'pgm_ref_code': '075Z', 'pgm_ref_txt': 'Artificial Intelligence (AI)'}, {'pgm_ref_code': '9178', 'pgm_ref_txt': 'UNDERGRADUATE EDUCATION'}], 'app_fund': [{'app_code': '', 'app_name': '', 'app_symb_id': '', 'fund_code': '04002425DB', 'fund_name': 'NSF STEM Education', 'fund_symb_id': '040106'}], 'oblg_fy': [{'fund_oblg_fiscal_yr': 2024, 'fund_oblg_amt': 602623.0}], 'por': None}\n",
      "NSF\n",
      "[{'pi_role': 'Principal Investigator', 'pi_first_name': 'Campbell', 'pi_last_name': 'Bego', 'pi_mid_init': 'R', 'pi_sufx_name': '', 'pi_full_name': 'Campbell R Bego', 'pi_email_addr': 'campbell.bego@louisville.edu', 'nsf_id': '000861165', 'pi_start_date': '2024-04-10', 'pi_end_date': None}, {'pi_role': 'Co-Principal Investigator', 'pi_first_name': 'So Yoon', 'pi_last_name': 'Yoon', 'pi_mid_init': '', 'pi_sufx_name': '', 'pi_full_name': 'So Yoon Yoon', 'pi_email_addr': 'yoons5@ucmail.uc.edu', 'nsf_id': '000615286', 'pi_start_date': '2025-04-14', 'pi_end_date': None}, {'pi_role': 'Former Co-Principal Investigator', 'pi_first_name': 'Nora', 'pi_last_name': 'Honken', 'pi_mid_init': '', 'pi_sufx_name': '', 'pi_full_name': 'Nora Honken', 'pi_email_addr': 'honkenna@ucmail.uc.edu', 'nsf_id': '000681590', 'pi_start_date': '2024-04-10', 'pi_end_date': '2025-04-14'}, {'pi_role': 'Former Co-Principal Investigator', 'pi_first_name': 'Pamela', 'pi_last_name': 'Thomas', 'pi_mid_init': 'B', 'pi_sufx_name': '', 'pi_full_name': 'Pamela B Thomas', 'pi_email_addr': 'pamela.thomas.1@louisville.edu', 'nsf_id': '000858978', 'pi_start_date': '2024-04-10', 'pi_end_date': '2024-04-30'}, {'pi_role': 'Co-Principal Investigator', 'pi_first_name': 'Xiaomei', 'pi_last_name': 'Wang', 'pi_mid_init': '', 'pi_sufx_name': '', 'pi_full_name': 'Xiaomei Wang', 'pi_email_addr': 'xiaomei.wang@louisville.edu', 'nsf_id': '000922905', 'pi_start_date': '2024-04-10', 'pi_end_date': None}, {'pi_role': 'Co-Principal Investigator', 'pi_first_name': 'Arinan', 'pi_last_name': 'Dourado', 'pi_mid_init': 'D', 'pi_sufx_name': '', 'pi_full_name': 'Arinan D Dourado', 'pi_email_addr': 'arinan.dourado@louisville.edu', 'nsf_id': '000922919', 'pi_start_date': '2024-04-10', 'pi_end_date': None}, {'pi_role': 'Co-Principal Investigator', 'pi_first_name': 'Luis', 'pi_last_name': 'Segura', 'pi_mid_init': 'J', 'pi_sufx_name': '', 'pi_full_name': 'Luis J Segura', 'pi_email_addr': 'ljsegu01@louisville.edu', 'nsf_id': '000876801', 'pi_start_date': '2024-04-30', 'pi_end_date': None}]\n",
      "Campbell R Bego\n"
     ]
    }
   ],
   "source": [
    "import json\n",
    "with open('award-2335725.json') as json_data:\n",
    "    awd = json.load(json_data)\n",
    "\n",
    "print(awd)\n",
    "print(awd['agcy_id'])\n",
    "print(awd['pi'])\n",
    "print(awd['pi'][0]['pi_full_name'])"
   ]
  },
  {
   "cell_type": "code",
   "execution_count": 16,
   "metadata": {},
   "outputs": [
    {
     "data": {
      "application/vnd.microsoft.datawrangler.viewer.v0+json": {
       "columns": [
        {
         "name": "index",
         "rawType": "int64",
         "type": "integer"
        },
        {
         "name": "awd_id",
         "rawType": "object",
         "type": "string"
        },
        {
         "name": "agcy_id",
         "rawType": "object",
         "type": "string"
        },
        {
         "name": "tran_type",
         "rawType": "object",
         "type": "string"
        },
        {
         "name": "awd_istr_txt",
         "rawType": "object",
         "type": "string"
        },
        {
         "name": "awd_titl_txt",
         "rawType": "object",
         "type": "string"
        },
        {
         "name": "cfda_num",
         "rawType": "object",
         "type": "string"
        },
        {
         "name": "org_code",
         "rawType": "object",
         "type": "string"
        },
        {
         "name": "po_phone",
         "rawType": "object",
         "type": "string"
        },
        {
         "name": "po_email",
         "rawType": "object",
         "type": "string"
        },
        {
         "name": "po_sign_block_name",
         "rawType": "object",
         "type": "string"
        },
        {
         "name": "awd_eff_date",
         "rawType": "object",
         "type": "string"
        },
        {
         "name": "awd_exp_date",
         "rawType": "object",
         "type": "string"
        },
        {
         "name": "tot_intn_awd_amt",
         "rawType": "float64",
         "type": "float"
        },
        {
         "name": "awd_amount",
         "rawType": "float64",
         "type": "float"
        },
        {
         "name": "awd_min_amd_letter_date",
         "rawType": "object",
         "type": "string"
        },
        {
         "name": "awd_max_amd_letter_date",
         "rawType": "object",
         "type": "string"
        },
        {
         "name": "awd_abstract_narration",
         "rawType": "object",
         "type": "string"
        },
        {
         "name": "awd_arra_amount",
         "rawType": "float64",
         "type": "float"
        },
        {
         "name": "dir_abbr",
         "rawType": "object",
         "type": "string"
        },
        {
         "name": "org_dir_long_name",
         "rawType": "object",
         "type": "string"
        },
        {
         "name": "div_abbr",
         "rawType": "object",
         "type": "string"
        },
        {
         "name": "org_div_long_name",
         "rawType": "object",
         "type": "string"
        },
        {
         "name": "awd_agcy_code",
         "rawType": "object",
         "type": "string"
        },
        {
         "name": "fund_agcy_code",
         "rawType": "object",
         "type": "string"
        },
        {
         "name": "pi",
         "rawType": "object",
         "type": "unknown"
        },
        {
         "name": "pgm_ele",
         "rawType": "object",
         "type": "unknown"
        },
        {
         "name": "pgm_ref",
         "rawType": "object",
         "type": "unknown"
        },
        {
         "name": "app_fund",
         "rawType": "object",
         "type": "unknown"
        },
        {
         "name": "oblg_fy",
         "rawType": "object",
         "type": "unknown"
        },
        {
         "name": "por",
         "rawType": "object",
         "type": "unknown"
        },
        {
         "name": "inst.inst_name",
         "rawType": "object",
         "type": "string"
        },
        {
         "name": "inst.inst_street_address",
         "rawType": "object",
         "type": "string"
        },
        {
         "name": "inst.inst_street_address_2",
         "rawType": "object",
         "type": "string"
        },
        {
         "name": "inst.inst_city_name",
         "rawType": "object",
         "type": "string"
        },
        {
         "name": "inst.inst_state_code",
         "rawType": "object",
         "type": "string"
        },
        {
         "name": "inst.inst_state_name",
         "rawType": "object",
         "type": "string"
        },
        {
         "name": "inst.inst_phone_num",
         "rawType": "object",
         "type": "string"
        },
        {
         "name": "inst.inst_zip_code",
         "rawType": "object",
         "type": "string"
        },
        {
         "name": "inst.inst_country_name",
         "rawType": "object",
         "type": "string"
        },
        {
         "name": "inst.cong_dist_code",
         "rawType": "object",
         "type": "string"
        },
        {
         "name": "inst.st_cong_dist_code",
         "rawType": "object",
         "type": "string"
        },
        {
         "name": "inst.org_lgl_bus_name",
         "rawType": "object",
         "type": "string"
        },
        {
         "name": "inst.org_prnt_uei_num",
         "rawType": "object",
         "type": "string"
        },
        {
         "name": "inst.org_uei_num",
         "rawType": "object",
         "type": "string"
        },
        {
         "name": "perf_inst.perf_inst_name",
         "rawType": "object",
         "type": "string"
        },
        {
         "name": "perf_inst.perf_str_addr",
         "rawType": "object",
         "type": "string"
        },
        {
         "name": "perf_inst.perf_city_name",
         "rawType": "object",
         "type": "string"
        },
        {
         "name": "perf_inst.perf_st_code",
         "rawType": "object",
         "type": "string"
        },
        {
         "name": "perf_inst.perf_st_name",
         "rawType": "object",
         "type": "string"
        },
        {
         "name": "perf_inst.perf_zip_code",
         "rawType": "object",
         "type": "string"
        },
        {
         "name": "perf_inst.perf_ctry_code",
         "rawType": "object",
         "type": "string"
        },
        {
         "name": "perf_inst.perf_cong_dist",
         "rawType": "object",
         "type": "string"
        },
        {
         "name": "perf_inst.perf_st_cong_dist",
         "rawType": "object",
         "type": "string"
        },
        {
         "name": "perf_inst.perf_ctry_name",
         "rawType": "object",
         "type": "string"
        },
        {
         "name": "perf_inst.perf_ctry_flag",
         "rawType": "object",
         "type": "string"
        }
       ],
       "conversionMethod": "pd.DataFrame",
       "ref": "17f04a9e-fc4f-47ee-ad89-04c3fcfb52c4",
       "rows": [
        [
         "0",
         "2335725",
         "NSF",
         "Grant",
         "Standard Grant",
         "Combining Machine Learning Explanation Methods with Expectancy-Value Theory to Identify Tailored Interventions for Engineering Student Persistence",
         "47.076",
         "11040000",
         "7032924257",
         "spulimoo@nsf.gov",
         "Monisha Pulimood",
         "2024-04-15",
         "2027-03-31",
         "602623.0",
         "602623.0",
         "2024-04-10",
         "2025-04-14",
         "This project aims to serve the national interest by applying machine learning (ML) methods to improve engineering student persistence. The increasing demand for a diverse, qualified engineering workforce requires an improvement in undergraduate program persistence rates, especially for underrepresented and minoritized students. This Engaged Student Learning Level 2 project intends to apply well-established predictive ML methods and cutting-edge ML explanation methods to identify and predict which students might leave and why. The project team plans to identify tailored interventions to meet individual student needs. This project will test the viability and variability of various ML methods and generalize the methodology for other universities. The proposed project has the potential to generate knowledge and streamline a methodology for the identification of individualized interventions for engineering persistence. \r\n\r\nThe project is grounded in expectancy-value theory. The proposed methodology will help engineering education researchers to begin intervening in the first year to help at-risk students persist. This project also has the potential to have broad impacts on computer science communities which require real-world applications of emerging tools. Project findings will be presented at the American Society of Engineering Education annual conference and Frontiers in Education annual conference. In addition, all python code for each stage will be made available through the Open Science Foundation. The codes will be accompanied with detailed instructions for using the proposed methodology with new data. The proposed methods to improve engineering persistence potentially have broad impacts in a local, nation-wide, or global scale. The NSF IUSE: EDU Program supports research and development projects to improve the effectiveness of STEM education for all students. Through the Engaged Student Learning track, the program supports the creation, exploration, and implementation of promising practices and tools.\r\n\r\nThis award reflects NSF's statutory mission and has been deemed worthy of support through evaluation using the Foundation's intellectual merit and broader impacts review criteria.",
         "0.0",
         "EDU",
         "Directorate for STEM Education",
         "DUE",
         "Division Of Undergraduate Education",
         "4900",
         "4900",
         "[{'pi_role': 'Principal Investigator', 'pi_first_name': 'Campbell', 'pi_last_name': 'Bego', 'pi_mid_init': 'R', 'pi_sufx_name': '', 'pi_full_name': 'Campbell R Bego', 'pi_email_addr': 'campbell.bego@louisville.edu', 'nsf_id': '000861165', 'pi_start_date': '2024-04-10', 'pi_end_date': None}, {'pi_role': 'Co-Principal Investigator', 'pi_first_name': 'So Yoon', 'pi_last_name': 'Yoon', 'pi_mid_init': '', 'pi_sufx_name': '', 'pi_full_name': 'So Yoon Yoon', 'pi_email_addr': 'yoons5@ucmail.uc.edu', 'nsf_id': '000615286', 'pi_start_date': '2025-04-14', 'pi_end_date': None}, {'pi_role': 'Former Co-Principal Investigator', 'pi_first_name': 'Nora', 'pi_last_name': 'Honken', 'pi_mid_init': '', 'pi_sufx_name': '', 'pi_full_name': 'Nora Honken', 'pi_email_addr': 'honkenna@ucmail.uc.edu', 'nsf_id': '000681590', 'pi_start_date': '2024-04-10', 'pi_end_date': '2025-04-14'}, {'pi_role': 'Former Co-Principal Investigator', 'pi_first_name': 'Pamela', 'pi_last_name': 'Thomas', 'pi_mid_init': 'B', 'pi_sufx_name': '', 'pi_full_name': 'Pamela B Thomas', 'pi_email_addr': 'pamela.thomas.1@louisville.edu', 'nsf_id': '000858978', 'pi_start_date': '2024-04-10', 'pi_end_date': '2024-04-30'}, {'pi_role': 'Co-Principal Investigator', 'pi_first_name': 'Xiaomei', 'pi_last_name': 'Wang', 'pi_mid_init': '', 'pi_sufx_name': '', 'pi_full_name': 'Xiaomei Wang', 'pi_email_addr': 'xiaomei.wang@louisville.edu', 'nsf_id': '000922905', 'pi_start_date': '2024-04-10', 'pi_end_date': None}, {'pi_role': 'Co-Principal Investigator', 'pi_first_name': 'Arinan', 'pi_last_name': 'Dourado', 'pi_mid_init': 'D', 'pi_sufx_name': '', 'pi_full_name': 'Arinan D Dourado', 'pi_email_addr': 'arinan.dourado@louisville.edu', 'nsf_id': '000922919', 'pi_start_date': '2024-04-10', 'pi_end_date': None}, {'pi_role': 'Co-Principal Investigator', 'pi_first_name': 'Luis', 'pi_last_name': 'Segura', 'pi_mid_init': 'J', 'pi_sufx_name': '', 'pi_full_name': 'Luis J Segura', 'pi_email_addr': 'ljsegu01@louisville.edu', 'nsf_id': '000876801', 'pi_start_date': '2024-04-30', 'pi_end_date': None}]",
         "[{'pgm_ele_code': '199800', 'pgm_ele_name': 'IUSE'}]",
         "[{'pgm_ref_code': '8209', 'pgm_ref_txt': 'Improv Undergrad STEM Ed(IUSE)'}, {'pgm_ref_code': '9150', 'pgm_ref_txt': 'EXP PROG TO STIM COMP RES'}, {'pgm_ref_code': '075Z', 'pgm_ref_txt': 'Artificial Intelligence (AI)'}, {'pgm_ref_code': '9178', 'pgm_ref_txt': 'UNDERGRADUATE EDUCATION'}]",
         "[{'app_code': '', 'app_name': '', 'app_symb_id': '', 'fund_code': '04002425DB', 'fund_name': 'NSF STEM Education', 'fund_symb_id': '040106'}]",
         "[{'fund_oblg_fiscal_yr': 2024, 'fund_oblg_amt': 602623.0}]",
         null,
         "University of Louisville Research Foundation Inc",
         "2301 S 3RD ST",
         "",
         "LOUISVILLE",
         "KY",
         "Kentucky",
         "5028523788",
         "402081838",
         "United States",
         "03",
         "KY03",
         "UNIVERSITY OF LOUISVILLE",
         "",
         "E1KJM4T54MK6",
         "University of Louisville",
         "132 Eastern Parkway",
         "LOUISVILLE",
         "KY",
         "Kentucky",
         "402920001",
         "US",
         "03",
         "KY03",
         "United States",
         "1"
        ]
       ],
       "shape": {
        "columns": 55,
        "rows": 1
       }
      },
      "text/html": [
       "<div>\n",
       "<style scoped>\n",
       "    .dataframe tbody tr th:only-of-type {\n",
       "        vertical-align: middle;\n",
       "    }\n",
       "\n",
       "    .dataframe tbody tr th {\n",
       "        vertical-align: top;\n",
       "    }\n",
       "\n",
       "    .dataframe thead th {\n",
       "        text-align: right;\n",
       "    }\n",
       "</style>\n",
       "<table border=\"1\" class=\"dataframe\">\n",
       "  <thead>\n",
       "    <tr style=\"text-align: right;\">\n",
       "      <th></th>\n",
       "      <th>awd_id</th>\n",
       "      <th>agcy_id</th>\n",
       "      <th>tran_type</th>\n",
       "      <th>awd_istr_txt</th>\n",
       "      <th>awd_titl_txt</th>\n",
       "      <th>cfda_num</th>\n",
       "      <th>org_code</th>\n",
       "      <th>po_phone</th>\n",
       "      <th>po_email</th>\n",
       "      <th>po_sign_block_name</th>\n",
       "      <th>...</th>\n",
       "      <th>perf_inst.perf_str_addr</th>\n",
       "      <th>perf_inst.perf_city_name</th>\n",
       "      <th>perf_inst.perf_st_code</th>\n",
       "      <th>perf_inst.perf_st_name</th>\n",
       "      <th>perf_inst.perf_zip_code</th>\n",
       "      <th>perf_inst.perf_ctry_code</th>\n",
       "      <th>perf_inst.perf_cong_dist</th>\n",
       "      <th>perf_inst.perf_st_cong_dist</th>\n",
       "      <th>perf_inst.perf_ctry_name</th>\n",
       "      <th>perf_inst.perf_ctry_flag</th>\n",
       "    </tr>\n",
       "  </thead>\n",
       "  <tbody>\n",
       "    <tr>\n",
       "      <th>0</th>\n",
       "      <td>2335725</td>\n",
       "      <td>NSF</td>\n",
       "      <td>Grant</td>\n",
       "      <td>Standard Grant</td>\n",
       "      <td>Combining Machine Learning Explanation Methods...</td>\n",
       "      <td>47.076</td>\n",
       "      <td>11040000</td>\n",
       "      <td>7032924257</td>\n",
       "      <td>spulimoo@nsf.gov</td>\n",
       "      <td>Monisha Pulimood</td>\n",
       "      <td>...</td>\n",
       "      <td>132 Eastern Parkway</td>\n",
       "      <td>LOUISVILLE</td>\n",
       "      <td>KY</td>\n",
       "      <td>Kentucky</td>\n",
       "      <td>402920001</td>\n",
       "      <td>US</td>\n",
       "      <td>03</td>\n",
       "      <td>KY03</td>\n",
       "      <td>United States</td>\n",
       "      <td>1</td>\n",
       "    </tr>\n",
       "  </tbody>\n",
       "</table>\n",
       "<p>1 rows × 55 columns</p>\n",
       "</div>"
      ],
      "text/plain": [
       "    awd_id agcy_id tran_type    awd_istr_txt  \\\n",
       "0  2335725     NSF     Grant  Standard Grant   \n",
       "\n",
       "                                        awd_titl_txt cfda_num  org_code  \\\n",
       "0  Combining Machine Learning Explanation Methods...   47.076  11040000   \n",
       "\n",
       "     po_phone          po_email po_sign_block_name  ...  \\\n",
       "0  7032924257  spulimoo@nsf.gov   Monisha Pulimood  ...   \n",
       "\n",
       "  perf_inst.perf_str_addr perf_inst.perf_city_name  perf_inst.perf_st_code  \\\n",
       "0     132 Eastern Parkway               LOUISVILLE                      KY   \n",
       "\n",
       "   perf_inst.perf_st_name perf_inst.perf_zip_code perf_inst.perf_ctry_code  \\\n",
       "0                Kentucky               402920001                       US   \n",
       "\n",
       "  perf_inst.perf_cong_dist  perf_inst.perf_st_cong_dist  \\\n",
       "0                       03                         KY03   \n",
       "\n",
       "  perf_inst.perf_ctry_name perf_inst.perf_ctry_flag  \n",
       "0            United States                        1  \n",
       "\n",
       "[1 rows x 55 columns]"
      ]
     },
     "execution_count": 16,
     "metadata": {},
     "output_type": "execute_result"
    }
   ],
   "source": [
    "awd_df = pd.json_normalize(awd)\n",
    "\n",
    "awd_df.head()"
   ]
  }
 ],
 "metadata": {
  "kernelspec": {
   "display_name": "base",
   "language": "python",
   "name": "python3"
  },
  "language_info": {
   "codemirror_mode": {
    "name": "ipython",
    "version": 3
   },
   "file_extension": ".py",
   "mimetype": "text/x-python",
   "name": "python",
   "nbconvert_exporter": "python",
   "pygments_lexer": "ipython3",
   "version": "3.11.7"
  }
 },
 "nbformat": 4,
 "nbformat_minor": 4
}
